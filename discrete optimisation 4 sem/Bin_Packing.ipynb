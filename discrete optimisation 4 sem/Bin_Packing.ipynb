from typing import List

# Leave the whole “solve_bp_decision” function intact
def solve_bp_decision(items: List[float], n_bins: int) -> bool:
    def able_to_pack(items: List[float], bin_capacities: List[float]) -> bool:
        return items == [] or any( 
            able_to_pack( 
                items[:-1], 
                bin_capacities[:i] + [capacity - items[-1]] + bin_capacities[(i + 1):] 
            ) 
            for i, capacity in enumerate(bin_capacities) if capacity >= items[-1] 
        )

    return able_to_pack( sorted(items), [1.0] * n_bins )

# To test this, one can run:
# solve_bp_decision([0.8, 0.09, 0.4, 0.7], 2)
# solve_bp_decision([0.8, 0.09, 0.4, 0.7], 3)


# You should leave function header intact
def solve_bp_evaluation(items: List[float]) -> int:
    a = 0
    b = len(items)
    while b - a > 1:
        if solve_bp_decision(items, (a + b) // 2):
            b = (a + b) // 2
        else:
            a = (a + b) // 2
    if a == b:
        return a
    if a < b:
        c = b
        b = a
        a = c
    if solve_bp_decision(items, a):
        return a
    else:
        return b
    pass

def able_to_pack(items: List[float], bin_capacities: List[float]) -> bool:
        return items == [] or any( 
            able_to_pack( 
                items[:-1], 
                bin_capacities[:i] + [capacity - items[-1]] + bin_capacities[(i + 1):] 
            ) 
            for i, capacity in enumerate(bin_capacities) if capacity >= items[-1] 
        )
    
# You should leave function header intact
def solve_bp_search(items: List[float]) -> List[int]:
    n = len(items)
    a = []
    capacities = [1.0] * solve_bp_evaluation(items)
    for (i, cur) in enumerate(items):
        for bin_i in range(n):
            if capacities[bin_i] >= cur:
                capacities[bin_i] -= cur
                if able_to_pack(items[i + 1:], capacities):
                    a.append(bin_i + 1)
                    break
                else:
                    capacities[bin_i] += cur
    return a
    pass
