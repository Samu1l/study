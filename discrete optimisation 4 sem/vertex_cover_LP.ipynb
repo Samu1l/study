{
 "cells": [
  {
   "cell_type": "code",
   "execution_count": null,
   "metadata": {},
   "outputs": [],
   "source": [
    "a = [int(s) for s in input().split()]\n",
    "nr = a[0]\n",
    "nc = a[1]\n",
    "a = []\n",
    "for i in range(nc):\n",
    "    a.append([int(j) for j in input().split()])\n",
    "aa = []\n",
    "for i in range(nc):\n",
    "    aa.append(a[i][1:])\n",
    "import scipy\n",
    "from scipy.optimize import linprog\n",
    "A_ub = []\n",
    "for i in range(nc):\n",
    "    A_ub.append([(1 if j in aa[i] else 0) for j in range(nr)])\n",
    "A_ub_T =-scipy.transpose(A_ub)\n",
    "b_ub = [-1 for i in range(nr)]\n",
    "c = [a[i][0] for i  in range(nc)]\n",
    "#\n",
    "d=linprog(c, A_ub_T, b_ub)\n",
    "import random\n",
    "x = d.x\n",
    "x_round = []\n",
    "check = 0\n",
    "for i in x:\n",
    "    rand = random.random()\n",
    "    if rand <= i:\n",
    "        x_round.append(1)\n",
    "    else:\n",
    "        x_round.append(0)\n",
    "    check = check + 1\n",
    "import numpy as np\n",
    "A_ub_T = np.matrix(A_ub_T)\n",
    "b_ub = np.asarray(b_ub).ravel()\n",
    "x_round = np.asarray(x_round).ravel()\n",
    "j = 0\n",
    "while not all ([np.asarray(A_ub_T.dot(x_round))[0][i] <= b_ub[i] for i in range(nr)]):\n",
    "    if x_round[j] == 0:\n",
    "        rand = random.random()\n",
    "        if rand <= x[j]:\n",
    "            x_round[j] = 1\n",
    "    j = j + 1\n",
    "    j = j % nc\n",
    "for i in [j for j in range(len(x_round)) if x_round[j] == 1]: print(i + 1, end = \" \")\n",
    "\n",
    "\n",
    "\n"
   ]
  }
 ],
 "metadata": {
  "kernelspec": {
   "display_name": "Python 3",
   "language": "python",
   "name": "python3"
  },
  "language_info": {
   "codemirror_mode": {
    "name": "ipython",
    "version": 3
   },
   "file_extension": ".py",
   "mimetype": "text/x-python",
   "name": "python",
   "nbconvert_exporter": "python",
   "pygments_lexer": "ipython3",
   "version": "3.7.3"
  }
 },
 "nbformat": 4,
 "nbformat_minor": 2
}
