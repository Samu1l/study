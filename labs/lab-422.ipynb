{
 "cells": [
  {
   "cell_type": "markdown",
   "metadata": {},
   "source": [
    "## Лабораторная работа 4.2.2\n",
    "# Интерферометр Жамена"
   ]
  },
  {
   "cell_type": "code",
   "execution_count": 29,
   "metadata": {},
   "outputs": [],
   "source": [
    "import numpy as np\n",
    "import scipy as ps\n",
    "import pandas as pd\n",
    "import math\n",
    "import matplotlib.pyplot as plt\n",
    "%matplotlib inline"
   ]
  },
  {
   "cell_type": "markdown",
   "metadata": {},
   "source": [
    "### Калибровка компенсатора"
   ]
  },
  {
   "cell_type": "markdown",
   "metadata": {},
   "source": [
    "Выполним калибровку компенсатора, выделив узкий интервал длин волн с помощью светофильтра."
   ]
  },
  {
   "cell_type": "code",
   "execution_count": 30,
   "metadata": {},
   "outputs": [
    {
     "data": {
      "text/html": [
       "<div>\n",
       "<style scoped>\n",
       "    .dataframe tbody tr th:only-of-type {\n",
       "        vertical-align: middle;\n",
       "    }\n",
       "\n",
       "    .dataframe tbody tr th {\n",
       "        vertical-align: top;\n",
       "    }\n",
       "\n",
       "    .dataframe thead th {\n",
       "        text-align: right;\n",
       "    }\n",
       "</style>\n",
       "<table border=\"1\" class=\"dataframe\">\n",
       "  <thead>\n",
       "    <tr style=\"text-align: right;\">\n",
       "      <th></th>\n",
       "      <th>$z_m, мм$</th>\n",
       "    </tr>\n",
       "  </thead>\n",
       "  <tbody>\n",
       "    <tr>\n",
       "      <th>0</th>\n",
       "      <td>20.27</td>\n",
       "    </tr>\n",
       "    <tr>\n",
       "      <th>1</th>\n",
       "      <td>20.31</td>\n",
       "    </tr>\n",
       "    <tr>\n",
       "      <th>2</th>\n",
       "      <td>20.36</td>\n",
       "    </tr>\n",
       "    <tr>\n",
       "      <th>3</th>\n",
       "      <td>20.42</td>\n",
       "    </tr>\n",
       "    <tr>\n",
       "      <th>4</th>\n",
       "      <td>20.47</td>\n",
       "    </tr>\n",
       "    <tr>\n",
       "      <th>5</th>\n",
       "      <td>20.52</td>\n",
       "    </tr>\n",
       "    <tr>\n",
       "      <th>6</th>\n",
       "      <td>20.57</td>\n",
       "    </tr>\n",
       "    <tr>\n",
       "      <th>7</th>\n",
       "      <td>20.64</td>\n",
       "    </tr>\n",
       "    <tr>\n",
       "      <th>8</th>\n",
       "      <td>20.69</td>\n",
       "    </tr>\n",
       "    <tr>\n",
       "      <th>9</th>\n",
       "      <td>20.74</td>\n",
       "    </tr>\n",
       "    <tr>\n",
       "      <th>10</th>\n",
       "      <td>20.79</td>\n",
       "    </tr>\n",
       "  </tbody>\n",
       "</table>\n",
       "</div>"
      ],
      "text/plain": [
       "    $z_m, мм$\n",
       "0       20.27\n",
       "1       20.31\n",
       "2       20.36\n",
       "3       20.42\n",
       "4       20.47\n",
       "5       20.52\n",
       "6       20.57\n",
       "7       20.64\n",
       "8       20.69\n",
       "9       20.74\n",
       "10      20.79"
      ]
     },
     "execution_count": 30,
     "metadata": {},
     "output_type": "execute_result"
    }
   ],
   "source": [
    "data1 = pd.read_excel('lab-422.xlsx', 'table-1')\n",
    "pd.DataFrame(data1)"
   ]
  },
  {
   "cell_type": "code",
   "execution_count": 31,
   "metadata": {},
   "outputs": [],
   "source": [
    "l = 100      # Длина кюветы (мм)\n",
    "Lambda = 650 # Длина волны (нм)"
   ]
  },
  {
   "cell_type": "markdown",
   "metadata": {},
   "source": [
    "По полученным значениям построим калибровочный график $z_m = f(m)$."
   ]
  },
  {
   "cell_type": "code",
   "execution_count": 32,
   "metadata": {},
   "outputs": [
    {
     "data": {
      "image/png": "[encoded data removed]",
      "text/plain": [
       "<Figure size 720x432 with 1 Axes>"
      ]
     },
     "metadata": {
      "needs_background": "light"
     },
     "output_type": "display_data"
    }
   ],
   "source": [
    "x1 = np.array(range(11))\n",
    "y1 = np.array(data1.values[:, 0], dtype = float)\n",
    "\n",
    "k1, b1 = np.polyfit(x1, y1, deg = 1)\n",
    "\n",
    "plt.figure(figsize = (10, 6))\n",
    "plt.title('График зависимости $z_m = f(m)$', fontsize=16)\n",
    "plt.ylabel('$z_m, мм$', fontsize=12)\n",
    "plt.xlabel('$m$', fontsize=12)\n",
    "\n",
    "plt.scatter(x1, y1)\n",
    "plt.plot(x1, x1 * k1 + b1)\n",
    "plt.grid(linestyle = '--')\n",
    "\n",
    "plt.show()"
   ]
  },
  {
   "cell_type": "code",
   "execution_count": 33,
   "metadata": {},
   "outputs": [
    {
     "name": "stdout",
     "output_type": "stream",
     "text": [
      "k1 = 0.05318181818181886 мм \n",
      "b1 = 20.259545454545446 мм\n"
     ]
    }
   ],
   "source": [
    "print('k1 =', k1, 'мм', '\\nb1 =', b1, 'мм')"
   ]
  },
  {
   "cell_type": "markdown",
   "metadata": {},
   "source": [
    "Рассчитаем среднее расстояние между соседними интерференционными полосами."
   ]
  },
  {
   "cell_type": "code",
   "execution_count": 34,
   "metadata": {},
   "outputs": [
    {
     "name": "stdout",
     "output_type": "stream",
     "text": [
      "0.04727272727272724 мм\n"
     ]
    }
   ],
   "source": [
    "distance = 0\n",
    "for i in range(10):\n",
    "    distance += math.fabs(y1[i] - y1[i + 1])\n",
    "distance /= 11\n",
    "print(distance, 'мм')"
   ]
  },
  {
   "cell_type": "markdown",
   "metadata": {},
   "source": [
    "### Зависимость  $\\delta n$ от  $P$ воздуха"
   ]
  },
  {
   "cell_type": "markdown",
   "metadata": {},
   "source": [
    "Снимем зависимость показаний компенсатора $\\Delta z$ от перепада давлений $\\Delta P$ и построим по полученным данным график $\\Delta z = f(\\Delta P)$."
   ]
  },
  {
   "cell_type": "code",
   "execution_count": 35,
   "metadata": {},
   "outputs": [
    {
     "data": {
      "text/html": [
       "<div>\n",
       "<style scoped>\n",
       "    .dataframe tbody tr th:only-of-type {\n",
       "        vertical-align: middle;\n",
       "    }\n",
       "\n",
       "    .dataframe tbody tr th {\n",
       "        vertical-align: top;\n",
       "    }\n",
       "\n",
       "    .dataframe thead th {\n",
       "        text-align: right;\n",
       "    }\n",
       "</style>\n",
       "<table border=\"1\" class=\"dataframe\">\n",
       "  <thead>\n",
       "    <tr style=\"text-align: right;\">\n",
       "      <th></th>\n",
       "      <th>$\\Delta P, мм  H_{2}O$</th>\n",
       "      <th>$z, мм$</th>\n",
       "    </tr>\n",
       "  </thead>\n",
       "  <tbody>\n",
       "    <tr>\n",
       "      <th>0</th>\n",
       "      <td>0</td>\n",
       "      <td>20.87</td>\n",
       "    </tr>\n",
       "    <tr>\n",
       "      <th>1</th>\n",
       "      <td>100</td>\n",
       "      <td>20.84</td>\n",
       "    </tr>\n",
       "    <tr>\n",
       "      <th>2</th>\n",
       "      <td>200</td>\n",
       "      <td>20.81</td>\n",
       "    </tr>\n",
       "    <tr>\n",
       "      <th>3</th>\n",
       "      <td>300</td>\n",
       "      <td>20.76</td>\n",
       "    </tr>\n",
       "    <tr>\n",
       "      <th>4</th>\n",
       "      <td>400</td>\n",
       "      <td>20.71</td>\n",
       "    </tr>\n",
       "    <tr>\n",
       "      <th>5</th>\n",
       "      <td>500</td>\n",
       "      <td>20.68</td>\n",
       "    </tr>\n",
       "    <tr>\n",
       "      <th>6</th>\n",
       "      <td>650</td>\n",
       "      <td>20.63</td>\n",
       "    </tr>\n",
       "    <tr>\n",
       "      <th>7</th>\n",
       "      <td>-100</td>\n",
       "      <td>20.90</td>\n",
       "    </tr>\n",
       "    <tr>\n",
       "      <th>8</th>\n",
       "      <td>-200</td>\n",
       "      <td>20.93</td>\n",
       "    </tr>\n",
       "    <tr>\n",
       "      <th>9</th>\n",
       "      <td>-300</td>\n",
       "      <td>20.97</td>\n",
       "    </tr>\n",
       "    <tr>\n",
       "      <th>10</th>\n",
       "      <td>-400</td>\n",
       "      <td>21.00</td>\n",
       "    </tr>\n",
       "    <tr>\n",
       "      <th>11</th>\n",
       "      <td>-500</td>\n",
       "      <td>21.02</td>\n",
       "    </tr>\n",
       "    <tr>\n",
       "      <th>12</th>\n",
       "      <td>-600</td>\n",
       "      <td>21.07</td>\n",
       "    </tr>\n",
       "    <tr>\n",
       "      <th>13</th>\n",
       "      <td>-700</td>\n",
       "      <td>21.10</td>\n",
       "    </tr>\n",
       "  </tbody>\n",
       "</table>\n",
       "</div>"
      ],
      "text/plain": [
       "    $\\Delta P, мм  H_{2}O$  $z, мм$\n",
       "0                        0    20.87\n",
       "1                      100    20.84\n",
       "2                      200    20.81\n",
       "3                      300    20.76\n",
       "4                      400    20.71\n",
       "5                      500    20.68\n",
       "6                      650    20.63\n",
       "7                     -100    20.90\n",
       "8                     -200    20.93\n",
       "9                     -300    20.97\n",
       "10                    -400    21.00\n",
       "11                    -500    21.02\n",
       "12                    -600    21.07\n",
       "13                    -700    21.10"
      ]
     },
     "execution_count": 35,
     "metadata": {},
     "output_type": "execute_result"
    }
   ],
   "source": [
    "data2 = pd.read_excel('lab-422.xlsx', 'table-2')\n",
    "pd.DataFrame(data2)"
   ]
  },
  {
   "cell_type": "code",
   "execution_count": 36,
   "metadata": {},
   "outputs": [
    {
     "data": {
      "image/png": "[encoded data removed]",
      "text/plain": [
       "<Figure size 720x432 with 1 Axes>"
      ]
     },
     "metadata": {
      "needs_background": "light"
     },
     "output_type": "display_data"
    }
   ],
   "source": [
    "x2 = np.array(data2.values[:, 0], dtype = float)\n",
    "y2 = np.array(data2.values[:, 1], dtype = float)\n",
    "y2 = np.array([each - b1 for each in y2])\n",
    "\n",
    "k2, b2 = np.polyfit(x2, y2, deg = 1)\n",
    "\n",
    "plt.figure(figsize = (10, 6))\n",
    "plt.title('График зависимости $\\Delta z = f(\\Delta P)$', fontsize=16)\n",
    "plt.ylabel('$\\Delta z, мм$', fontsize=12)\n",
    "plt.xlabel('$\\Delta P, мм H_2O$', fontsize=12)\n",
    "\n",
    "plt.scatter(x2, y2)\n",
    "plt.plot(x2, x2 * k2 + b2)\n",
    "plt.grid(linestyle = '--')\n",
    "\n",
    "plt.show()"
   ]
  },
  {
   "cell_type": "code",
   "execution_count": 37,
   "metadata": {},
   "outputs": [
    {
     "name": "stdout",
     "output_type": "stream",
     "text": [
      "k2 = -0.0003461919646260582\n"
     ]
    }
   ],
   "source": [
    "print('k2 =', k2)"
   ]
  },
  {
   "cell_type": "markdown",
   "metadata": {},
   "source": [
    "Используя формулу $\\delta n = \\dfrac{\\Delta}{l} = m \\dfrac{\\lambda}{l}$, где $m$ – число полос, на которые сместилась картина, перейдем от делений компенсатора $\\Delta z$ к величине $\\delta n$."
   ]
  },
  {
   "cell_type": "markdown",
   "metadata": {},
   "source": [
    "$\\delta n = \\dfrac{\\Delta z}{d} \\dfrac{\\lambda}{l}$, $d$ – расстояние между соседними полосами  "
   ]
  },
  {
   "cell_type": "markdown",
   "metadata": {},
   "source": [
    "Следовательно, $\\dfrac{\\delta n}{\\Delta P} = \\dfrac{\\Delta z}{\\Delta P} \\dfrac{\\lambda}{dl}$."
   ]
  },
  {
   "cell_type": "code",
   "execution_count": 38,
   "metadata": {},
   "outputs": [
    {
     "name": "stdout",
     "output_type": "stream",
     "text": [
      "4.668176437783959e-06 1/Б\n"
     ]
    }
   ],
   "source": [
    "result = math.fabs(k2 * Lambda * 10**(-6) / (distance * l * (10**(-2) * 1.0197)))\n",
    "print(result, '1/Б')"
   ]
  },
  {
   "cell_type": "markdown",
   "metadata": {},
   "source": [
    "Рассчитаем среднюю поляризуемость молекулы: $\\alpha = \\dfrac{\\delta n}{\\Delta P} \\dfrac{k_Б T}{2 \\pi}$"
   ]
  },
  {
   "cell_type": "code",
   "execution_count": 39,
   "metadata": {},
   "outputs": [
    {
     "name": "stdout",
     "output_type": "stream",
     "text": [
      "3.056900436474742e-20\n"
     ]
    }
   ],
   "source": [
    "alpha = result * 1.38 * 10**(-16) * (25 + 273.15) / (2 * math.pi) \n",
    "print(alpha)"
   ]
  },
  {
   "cell_type": "markdown",
   "metadata": {
    "collapsed": true
   },
   "source": [
    "А также показатель преломления воздуха в условиях опыта по формуле $n - 1 = 2 \\pi \\alpha \\dfrac{P}{k_Б T}$"
   ]
  },
  {
   "cell_type": "code",
   "execution_count": 40,
   "metadata": {},
   "outputs": [
    {
     "name": "stdout",
     "output_type": "stream",
     "text": [
      "0.00047761513587899027\n"
     ]
    }
   ],
   "source": [
    "result_n = 2 * math.pi * alpha * 101.3 * 1.01 / (1.38 * 10**(-16) * 298.15)\n",
    "print(result_n)"
   ]
  },
  {
   "cell_type": "markdown",
   "metadata": {},
   "source": [
    "Сравним результаты с табличными, пересчитав для лабораторных условий значения коэффициента преломления воздуха по следующей формуле: $\\dfrac{n_0 - 1}{n - 1} = \\dfrac{T P_0}{T_0 P}$, где $P_0 = 1 атм, T_0 = 273 K$.  \n",
    "Тогда $n_0 - 1$:\n",
    "    "
   ]
  },
  {
   "cell_type": "code",
   "execution_count": 41,
   "metadata": {},
   "outputs": [
    {
     "data": {
      "text/plain": [
       "0.0004375467519965246"
      ]
     },
     "execution_count": 41,
     "metadata": {},
     "output_type": "execute_result"
    }
   ],
   "source": [
    "result_n * (273 / 298)"
   ]
  },
  {
   "cell_type": "markdown",
   "metadata": {},
   "source": [
    "Результаты совпадают с табличными (0.0002926) по порядку величины."
   ]
  },
  {
   "cell_type": "markdown",
   "metadata": {},
   "source": [
    "### Сравнение показателей преломления воздуха и углекислого газа при атмосферном давлении"
   ]
  },
  {
   "cell_type": "markdown",
   "metadata": {},
   "source": [
    "Определим новое положении нулевой полосы после впускания углекислого газа:  \n",
    "$z_0^{C O_2} = 16.44 мм$, следовательно: $\\Delta z = z_0^{C O_2} - z_0 = (16.44 - 15.26) мм= 1.18 мм$\n",
    "\n",
    "Рассчитаем показатель преломления углекислого газа по формуле $n = n_{возд} + \\dfrac{\\Delta}{l} = n_{возд}+ \\dfrac{m \\lambda}{l}$."
   ]
  },
  {
   "cell_type": "code",
   "execution_count": 42,
   "metadata": {},
   "outputs": [
    {
     "name": "stdout",
     "output_type": "stream",
     "text": [
      "0.0006398651358789903\n"
     ]
    }
   ],
   "source": [
    "n = result_n + Lambda * 10**(-6) * 1.18 / (distance * l)\n",
    "print(n)"
   ]
  },
  {
   "cell_type": "markdown",
   "metadata": {},
   "source": [
    "Сравним результаты с табличными, пересчитав для лабораторных условий значения коэффициента преломления воздуха:"
   ]
  },
  {
   "cell_type": "code",
   "execution_count": 43,
   "metadata": {},
   "outputs": [
    {
     "data": {
      "text/plain": [
       "0.0005861851748153167"
      ]
     },
     "execution_count": 43,
     "metadata": {},
     "output_type": "execute_result"
    }
   ],
   "source": [
    "n * (273 / 298)"
   ]
  },
  {
   "cell_type": "markdown",
   "metadata": {},
   "source": [
    "Результаты совпадают с табличными (0.0004506) по порядку величины."
   ]
  },
  {
   "cell_type": "markdown",
   "metadata": {},
   "source": [
    "Установка оказалась абсолютно герметичной (т.к. со временем полосы не смещались)."
   ]
  },
  {
   "cell_type": "code",
   "execution_count": null,
   "metadata": {},
   "outputs": [],
   "source": []
  }
 ],
 "metadata": {
  "kernelspec": {
   "display_name": "Python 3",
   "language": "python",
   "name": "python3"
  },
  "language_info": {
   "codemirror_mode": {
    "name": "ipython",
    "version": 3
   },
   "file_extension": ".py",
   "mimetype": "text/x-python",
   "name": "python",
   "nbconvert_exporter": "python",
   "pygments_lexer": "ipython3",
   "version": "3.7.3"
  }
 },
 "nbformat": 4,
 "nbformat_minor": 2
}
