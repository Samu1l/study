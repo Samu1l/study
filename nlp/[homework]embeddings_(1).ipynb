{
  "nbformat": 4,
  "nbformat_minor": 0,
  "metadata": {
    "colab": {
      "name": "[homework]embeddings (1).ipynb",
      "provenance": [],
      "collapsed_sections": []
    },
    "kernelspec": {
      "name": "python3",
      "display_name": "Python 3"
    },
    "accelerator": "GPU",
    "widgets": {
      "application/vnd.jupyter.widget-state+json": {
        "275925e616624bd5bca8a214cd7a8b4d": {
          "model_module": "@jupyter-widgets/controls",
          "model_name": "HBoxModel",
          "model_module_version": "1.5.0",
          "state": {
            "_view_name": "HBoxView",
            "_dom_classes": [],
            "_model_name": "HBoxModel",
            "_view_module": "@jupyter-widgets/controls",
            "_model_module_version": "1.5.0",
            "_view_count": null,
            "_view_module_version": "1.5.0",
            "box_style": "",
            "layout": "IPY_MODEL_4ea51c5632bf474ba4036ea5e8ca7215",
            "_model_module": "@jupyter-widgets/controls",
            "children": [
              "IPY_MODEL_d6d604fd855149dba87e5907d9a35d82",
              "IPY_MODEL_dc289d22bcb244d584001374478a9b9d",
              "IPY_MODEL_0bffcd25de6c4538a8c11ffd1b111cf6"
            ]
          }
        },
        "4ea51c5632bf474ba4036ea5e8ca7215": {
          "model_module": "@jupyter-widgets/base",
          "model_name": "LayoutModel",
          "model_module_version": "1.2.0",
          "state": {
            "_view_name": "LayoutView",
            "grid_template_rows": null,
            "right": null,
            "justify_content": null,
            "_view_module": "@jupyter-widgets/base",
            "overflow": null,
            "_model_module_version": "1.2.0",
            "_view_count": null,
            "flex_flow": null,
            "width": null,
            "min_width": null,
            "border": null,
            "align_items": null,
            "bottom": null,
            "_model_module": "@jupyter-widgets/base",
            "top": null,
            "grid_column": null,
            "overflow_y": null,
            "overflow_x": null,
            "grid_auto_flow": null,
            "grid_area": null,
            "grid_template_columns": null,
            "flex": null,
            "_model_name": "LayoutModel",
            "justify_items": null,
            "grid_row": null,
            "max_height": null,
            "align_content": null,
            "visibility": null,
            "align_self": null,
            "height": null,
            "min_height": null,
            "padding": null,
            "grid_auto_rows": null,
            "grid_gap": null,
            "max_width": null,
            "order": null,
            "_view_module_version": "1.2.0",
            "grid_template_areas": null,
            "object_position": null,
            "object_fit": null,
            "grid_auto_columns": null,
            "margin": null,
            "display": null,
            "left": null
          }
        },
        "d6d604fd855149dba87e5907d9a35d82": {
          "model_module": "@jupyter-widgets/controls",
          "model_name": "HTMLModel",
          "model_module_version": "1.5.0",
          "state": {
            "_view_name": "HTMLView",
            "style": "IPY_MODEL_1404bcd0182a4cd39a6ae9958f83796d",
            "_dom_classes": [],
            "description": "",
            "_model_name": "HTMLModel",
            "placeholder": "​",
            "_view_module": "@jupyter-widgets/controls",
            "_model_module_version": "1.5.0",
            "value": "Epoch 1. Train Loss: 0.5909: 100%",
            "_view_count": null,
            "_view_module_version": "1.5.0",
            "description_tooltip": null,
            "_model_module": "@jupyter-widgets/controls",
            "layout": "IPY_MODEL_a037a8b4eeca4bf495addccbb7b5783a"
          }
        },
        "dc289d22bcb244d584001374478a9b9d": {
          "model_module": "@jupyter-widgets/controls",
          "model_name": "FloatProgressModel",
          "model_module_version": "1.5.0",
          "state": {
            "_view_name": "ProgressView",
            "style": "IPY_MODEL_b5b1e683399b42cc91a8b9f0d2cdf71f",
            "_dom_classes": [],
            "description": "",
            "_model_name": "FloatProgressModel",
            "bar_style": "success",
            "max": 1000,
            "_view_module": "@jupyter-widgets/controls",
            "_model_module_version": "1.5.0",
            "value": 1000,
            "_view_count": null,
            "_view_module_version": "1.5.0",
            "orientation": "horizontal",
            "min": 0,
            "description_tooltip": null,
            "_model_module": "@jupyter-widgets/controls",
            "layout": "IPY_MODEL_ca345102e1924bf8856e89d6629c351d"
          }
        },
        "0bffcd25de6c4538a8c11ffd1b111cf6": {
          "model_module": "@jupyter-widgets/controls",
          "model_name": "HTMLModel",
          "model_module_version": "1.5.0",
          "state": {
            "_view_name": "HTMLView",
            "style": "IPY_MODEL_29037f045ad64d2982b38af2ad6937f8",
            "_dom_classes": [],
            "description": "",
            "_model_name": "HTMLModel",
            "placeholder": "​",
            "_view_module": "@jupyter-widgets/controls",
            "_model_module_version": "1.5.0",
            "value": " 1000/1000 [03:43&lt;00:00,  5.15it/s]",
            "_view_count": null,
            "_view_module_version": "1.5.0",
            "description_tooltip": null,
            "_model_module": "@jupyter-widgets/controls",
            "layout": "IPY_MODEL_6d9761de141c45c9bfc6ce374fa07f90"
          }
        },
        "1404bcd0182a4cd39a6ae9958f83796d": {
          "model_module": "@jupyter-widgets/controls",
          "model_name": "DescriptionStyleModel",
          "model_module_version": "1.5.0",
          "state": {
            "_view_name": "StyleView",
            "_model_name": "DescriptionStyleModel",
            "description_width": "",
            "_view_module": "@jupyter-widgets/base",
            "_model_module_version": "1.5.0",
            "_view_count": null,
            "_view_module_version": "1.2.0",
            "_model_module": "@jupyter-widgets/controls"
          }
        },
        "a037a8b4eeca4bf495addccbb7b5783a": {
          "model_module": "@jupyter-widgets/base",
          "model_name": "LayoutModel",
          "model_module_version": "1.2.0",
          "state": {
            "_view_name": "LayoutView",
            "grid_template_rows": null,
            "right": null,
            "justify_content": null,
            "_view_module": "@jupyter-widgets/base",
            "overflow": null,
            "_model_module_version": "1.2.0",
            "_view_count": null,
            "flex_flow": null,
            "width": null,
            "min_width": null,
            "border": null,
            "align_items": null,
            "bottom": null,
            "_model_module": "@jupyter-widgets/base",
            "top": null,
            "grid_column": null,
            "overflow_y": null,
            "overflow_x": null,
            "grid_auto_flow": null,
            "grid_area": null,
            "grid_template_columns": null,
            "flex": null,
            "_model_name": "LayoutModel",
            "justify_items": null,
            "grid_row": null,
            "max_height": null,
            "align_content": null,
            "visibility": null,
            "align_self": null,
            "height": null,
            "min_height": null,
            "padding": null,
            "grid_auto_rows": null,
            "grid_gap": null,
            "max_width": null,
            "order": null,
            "_view_module_version": "1.2.0",
            "grid_template_areas": null,
            "object_position": null,
            "object_fit": null,
            "grid_auto_columns": null,
            "margin": null,
            "display": null,
            "left": null
          }
        },
        "b5b1e683399b42cc91a8b9f0d2cdf71f": {
          "model_module": "@jupyter-widgets/controls",
          "model_name": "ProgressStyleModel",
          "model_module_version": "1.5.0",
          "state": {
            "_view_name": "StyleView",
            "_model_name": "ProgressStyleModel",
            "description_width": "",
            "_view_module": "@jupyter-widgets/base",
            "_model_module_version": "1.5.0",
            "_view_count": null,
            "_view_module_version": "1.2.0",
            "bar_color": null,
            "_model_module": "@jupyter-widgets/controls"
          }
        },
        "ca345102e1924bf8856e89d6629c351d": {
          "model_module": "@jupyter-widgets/base",
          "model_name": "LayoutModel",
          "model_module_version": "1.2.0",
          "state": {
            "_view_name": "LayoutView",
            "grid_template_rows": null,
            "right": null,
            "justify_content": null,
            "_view_module": "@jupyter-widgets/base",
            "overflow": null,
            "_model_module_version": "1.2.0",
            "_view_count": null,
            "flex_flow": null,
            "width": null,
            "min_width": null,
            "border": null,
            "align_items": null,
            "bottom": null,
            "_model_module": "@jupyter-widgets/base",
            "top": null,
            "grid_column": null,
            "overflow_y": null,
            "overflow_x": null,
            "grid_auto_flow": null,
            "grid_area": null,
            "grid_template_columns": null,
            "flex": null,
            "_model_name": "LayoutModel",
            "justify_items": null,
            "grid_row": null,
            "max_height": null,
            "align_content": null,
            "visibility": null,
            "align_self": null,
            "height": null,
            "min_height": null,
            "padding": null,
            "grid_auto_rows": null,
            "grid_gap": null,
            "max_width": null,
            "order": null,
            "_view_module_version": "1.2.0",
            "grid_template_areas": null,
            "object_position": null,
            "object_fit": null,
            "grid_auto_columns": null,
            "margin": null,
            "display": null,
            "left": null
          }
        },
        "29037f045ad64d2982b38af2ad6937f8": {
          "model_module": "@jupyter-widgets/controls",
          "model_name": "DescriptionStyleModel",
          "model_module_version": "1.5.0",
          "state": {
            "_view_name": "StyleView",
            "_model_name": "DescriptionStyleModel",
            "description_width": "",
            "_view_module": "@jupyter-widgets/base",
            "_model_module_version": "1.5.0",
            "_view_count": null,
            "_view_module_version": "1.2.0",
            "_model_module": "@jupyter-widgets/controls"
          }
        },
        "6d9761de141c45c9bfc6ce374fa07f90": {
          "model_module": "@jupyter-widgets/base",
          "model_name": "LayoutModel",
          "model_module_version": "1.2.0",
          "state": {
            "_view_name": "LayoutView",
            "grid_template_rows": null,
            "right": null,
            "justify_content": null,
            "_view_module": "@jupyter-widgets/base",
            "overflow": null,
            "_model_module_version": "1.2.0",
            "_view_count": null,
            "flex_flow": null,
            "width": null,
            "min_width": null,
            "border": null,
            "align_items": null,
            "bottom": null,
            "_model_module": "@jupyter-widgets/base",
            "top": null,
            "grid_column": null,
            "overflow_y": null,
            "overflow_x": null,
            "grid_auto_flow": null,
            "grid_area": null,
            "grid_template_columns": null,
            "flex": null,
            "_model_name": "LayoutModel",
            "justify_items": null,
            "grid_row": null,
            "max_height": null,
            "align_content": null,
            "visibility": null,
            "align_self": null,
            "height": null,
            "min_height": null,
            "padding": null,
            "grid_auto_rows": null,
            "grid_gap": null,
            "max_width": null,
            "order": null,
            "_view_module_version": "1.2.0",
            "grid_template_areas": null,
            "object_position": null,
            "object_fit": null,
            "grid_auto_columns": null,
            "margin": null,
            "display": null,
            "left": null
          }
        },
        "37e1ea7a41644a7ead92e444082d05a4": {
          "model_module": "@jupyter-widgets/controls",
          "model_name": "HBoxModel",
          "model_module_version": "1.5.0",
          "state": {
            "_view_name": "HBoxView",
            "_dom_classes": [],
            "_model_name": "HBoxModel",
            "_view_module": "@jupyter-widgets/controls",
            "_model_module_version": "1.5.0",
            "_view_count": null,
            "_view_module_version": "1.5.0",
            "box_style": "",
            "layout": "IPY_MODEL_b8f68215a3e540d6a071845f423d72ad",
            "_model_module": "@jupyter-widgets/controls",
            "children": [
              "IPY_MODEL_9aedc3c111254d94bb33443d31d5fba9",
              "IPY_MODEL_04f9b48f3b5a40feb874def03486b1ff",
              "IPY_MODEL_7738f8826809417181a3af1d3283ad1a"
            ]
          }
        },
        "b8f68215a3e540d6a071845f423d72ad": {
          "model_module": "@jupyter-widgets/base",
          "model_name": "LayoutModel",
          "model_module_version": "1.2.0",
          "state": {
            "_view_name": "LayoutView",
            "grid_template_rows": null,
            "right": null,
            "justify_content": null,
            "_view_module": "@jupyter-widgets/base",
            "overflow": null,
            "_model_module_version": "1.2.0",
            "_view_count": null,
            "flex_flow": null,
            "width": null,
            "min_width": null,
            "border": null,
            "align_items": null,
            "bottom": null,
            "_model_module": "@jupyter-widgets/base",
            "top": null,
            "grid_column": null,
            "overflow_y": null,
            "overflow_x": null,
            "grid_auto_flow": null,
            "grid_area": null,
            "grid_template_columns": null,
            "flex": null,
            "_model_name": "LayoutModel",
            "justify_items": null,
            "grid_row": null,
            "max_height": null,
            "align_content": null,
            "visibility": null,
            "align_self": null,
            "height": null,
            "min_height": null,
            "padding": null,
            "grid_auto_rows": null,
            "grid_gap": null,
            "max_width": null,
            "order": null,
            "_view_module_version": "1.2.0",
            "grid_template_areas": null,
            "object_position": null,
            "object_fit": null,
            "grid_auto_columns": null,
            "margin": null,
            "display": null,
            "left": null
          }
        },
        "9aedc3c111254d94bb33443d31d5fba9": {
          "model_module": "@jupyter-widgets/controls",
          "model_name": "HTMLModel",
          "model_module_version": "1.5.0",
          "state": {
            "_view_name": "HTMLView",
            "style": "IPY_MODEL_345c7e73c8774db5a4566a8de7007a03",
            "_dom_classes": [],
            "description": "",
            "_model_name": "HTMLModel",
            "placeholder": "​",
            "_view_module": "@jupyter-widgets/controls",
            "_model_module_version": "1.5.0",
            "value": "Test Loss: 0.5718, Test Acc: 0.709: 100%",
            "_view_count": null,
            "_view_module_version": "1.5.0",
            "description_tooltip": null,
            "_model_module": "@jupyter-widgets/controls",
            "layout": "IPY_MODEL_4d2de0edb5f84c1b9753dd9ca59bf313"
          }
        },
        "04f9b48f3b5a40feb874def03486b1ff": {
          "model_module": "@jupyter-widgets/controls",
          "model_name": "FloatProgressModel",
          "model_module_version": "1.5.0",
          "state": {
            "_view_name": "ProgressView",
            "style": "IPY_MODEL_d919521927c94e7a85c09401e5deba24",
            "_dom_classes": [],
            "description": "",
            "_model_name": "FloatProgressModel",
            "bar_style": "success",
            "max": 250,
            "_view_module": "@jupyter-widgets/controls",
            "_model_module_version": "1.5.0",
            "value": 250,
            "_view_count": null,
            "_view_module_version": "1.5.0",
            "orientation": "horizontal",
            "min": 0,
            "description_tooltip": null,
            "_model_module": "@jupyter-widgets/controls",
            "layout": "IPY_MODEL_b927f9962bcc4a7b9e13635835701f13"
          }
        },
        "7738f8826809417181a3af1d3283ad1a": {
          "model_module": "@jupyter-widgets/controls",
          "model_name": "HTMLModel",
          "model_module_version": "1.5.0",
          "state": {
            "_view_name": "HTMLView",
            "style": "IPY_MODEL_306557f4d3574f4094b5652bf23b83f3",
            "_dom_classes": [],
            "description": "",
            "_model_name": "HTMLModel",
            "placeholder": "​",
            "_view_module": "@jupyter-widgets/controls",
            "_model_module_version": "1.5.0",
            "value": " 250/250 [00:57&lt;00:00,  5.68it/s]",
            "_view_count": null,
            "_view_module_version": "1.5.0",
            "description_tooltip": null,
            "_model_module": "@jupyter-widgets/controls",
            "layout": "IPY_MODEL_40f10e11aa3540f096482f2b1efa7e8c"
          }
        },
        "345c7e73c8774db5a4566a8de7007a03": {
          "model_module": "@jupyter-widgets/controls",
          "model_name": "DescriptionStyleModel",
          "model_module_version": "1.5.0",
          "state": {
            "_view_name": "StyleView",
            "_model_name": "DescriptionStyleModel",
            "description_width": "",
            "_view_module": "@jupyter-widgets/base",
            "_model_module_version": "1.5.0",
            "_view_count": null,
            "_view_module_version": "1.2.0",
            "_model_module": "@jupyter-widgets/controls"
          }
        },
        "4d2de0edb5f84c1b9753dd9ca59bf313": {
          "model_module": "@jupyter-widgets/base",
          "model_name": "LayoutModel",
          "model_module_version": "1.2.0",
          "state": {
            "_view_name": "LayoutView",
            "grid_template_rows": null,
            "right": null,
            "justify_content": null,
            "_view_module": "@jupyter-widgets/base",
            "overflow": null,
            "_model_module_version": "1.2.0",
            "_view_count": null,
            "flex_flow": null,
            "width": null,
            "min_width": null,
            "border": null,
            "align_items": null,
            "bottom": null,
            "_model_module": "@jupyter-widgets/base",
            "top": null,
            "grid_column": null,
            "overflow_y": null,
            "overflow_x": null,
            "grid_auto_flow": null,
            "grid_area": null,
            "grid_template_columns": null,
            "flex": null,
            "_model_name": "LayoutModel",
            "justify_items": null,
            "grid_row": null,
            "max_height": null,
            "align_content": null,
            "visibility": null,
            "align_self": null,
            "height": null,
            "min_height": null,
            "padding": null,
            "grid_auto_rows": null,
            "grid_gap": null,
            "max_width": null,
            "order": null,
            "_view_module_version": "1.2.0",
            "grid_template_areas": null,
            "object_position": null,
            "object_fit": null,
            "grid_auto_columns": null,
            "margin": null,
            "display": null,
            "left": null
          }
        },
        "d919521927c94e7a85c09401e5deba24": {
          "model_module": "@jupyter-widgets/controls",
          "model_name": "ProgressStyleModel",
          "model_module_version": "1.5.0",
          "state": {
            "_view_name": "StyleView",
            "_model_name": "ProgressStyleModel",
            "description_width": "",
            "_view_module": "@jupyter-widgets/base",
            "_model_module_version": "1.5.0",
            "_view_count": null,
            "_view_module_version": "1.2.0",
            "bar_color": null,
            "_model_module": "@jupyter-widgets/controls"
          }
        },
        "b927f9962bcc4a7b9e13635835701f13": {
          "model_module": "@jupyter-widgets/base",
          "model_name": "LayoutModel",
          "model_module_version": "1.2.0",
          "state": {
            "_view_name": "LayoutView",
            "grid_template_rows": null,
            "right": null,
            "justify_content": null,
            "_view_module": "@jupyter-widgets/base",
            "overflow": null,
            "_model_module_version": "1.2.0",
            "_view_count": null,
            "flex_flow": null,
            "width": null,
            "min_width": null,
            "border": null,
            "align_items": null,
            "bottom": null,
            "_model_module": "@jupyter-widgets/base",
            "top": null,
            "grid_column": null,
            "overflow_y": null,
            "overflow_x": null,
            "grid_auto_flow": null,
            "grid_area": null,
            "grid_template_columns": null,
            "flex": null,
            "_model_name": "LayoutModel",
            "justify_items": null,
            "grid_row": null,
            "max_height": null,
            "align_content": null,
            "visibility": null,
            "align_self": null,
            "height": null,
            "min_height": null,
            "padding": null,
            "grid_auto_rows": null,
            "grid_gap": null,
            "max_width": null,
            "order": null,
            "_view_module_version": "1.2.0",
            "grid_template_areas": null,
            "object_position": null,
            "object_fit": null,
            "grid_auto_columns": null,
            "margin": null,
            "display": null,
            "left": null
          }
        },
        "306557f4d3574f4094b5652bf23b83f3": {
          "model_module": "@jupyter-widgets/controls",
          "model_name": "DescriptionStyleModel",
          "model_module_version": "1.5.0",
          "state": {
            "_view_name": "StyleView",
            "_model_name": "DescriptionStyleModel",
            "description_width": "",
            "_view_module": "@jupyter-widgets/base",
            "_model_module_version": "1.5.0",
            "_view_count": null,
            "_view_module_version": "1.2.0",
            "_model_module": "@jupyter-widgets/controls"
          }
        },
        "40f10e11aa3540f096482f2b1efa7e8c": {
          "model_module": "@jupyter-widgets/base",
          "model_name": "LayoutModel",
          "model_module_version": "1.2.0",
          "state": {
            "_view_name": "LayoutView",
            "grid_template_rows": null,
            "right": null,
            "justify_content": null,
            "_view_module": "@jupyter-widgets/base",
            "overflow": null,
            "_model_module_version": "1.2.0",
            "_view_count": null,
            "flex_flow": null,
            "width": null,
            "min_width": null,
            "border": null,
            "align_items": null,
            "bottom": null,
            "_model_module": "@jupyter-widgets/base",
            "top": null,
            "grid_column": null,
            "overflow_y": null,
            "overflow_x": null,
            "grid_auto_flow": null,
            "grid_area": null,
            "grid_template_columns": null,
            "flex": null,
            "_model_name": "LayoutModel",
            "justify_items": null,
            "grid_row": null,
            "max_height": null,
            "align_content": null,
            "visibility": null,
            "align_self": null,
            "height": null,
            "min_height": null,
            "padding": null,
            "grid_auto_rows": null,
            "grid_gap": null,
            "max_width": null,
            "order": null,
            "_view_module_version": "1.2.0",
            "grid_template_areas": null,
            "object_position": null,
            "object_fit": null,
            "grid_auto_columns": null,
            "margin": null,
            "display": null,
            "left": null
          }
        },
        "41b755c6ef654b219dc830dae26840cc": {
          "model_module": "@jupyter-widgets/controls",
          "model_name": "HBoxModel",
          "model_module_version": "1.5.0",
          "state": {
            "_view_name": "HBoxView",
            "_dom_classes": [],
            "_model_name": "HBoxModel",
            "_view_module": "@jupyter-widgets/controls",
            "_model_module_version": "1.5.0",
            "_view_count": null,
            "_view_module_version": "1.5.0",
            "box_style": "",
            "layout": "IPY_MODEL_8ae31f8edf5d4c55af0a34408919c2e6",
            "_model_module": "@jupyter-widgets/controls",
            "children": [
              "IPY_MODEL_7448909871024ebab2480635c8fec4c1",
              "IPY_MODEL_c380363fa61e43479b1a129d27e44d7c",
              "IPY_MODEL_92a848991cac44878a97bbd45c326cc0"
            ]
          }
        },
        "8ae31f8edf5d4c55af0a34408919c2e6": {
          "model_module": "@jupyter-widgets/base",
          "model_name": "LayoutModel",
          "model_module_version": "1.2.0",
          "state": {
            "_view_name": "LayoutView",
            "grid_template_rows": null,
            "right": null,
            "justify_content": null,
            "_view_module": "@jupyter-widgets/base",
            "overflow": null,
            "_model_module_version": "1.2.0",
            "_view_count": null,
            "flex_flow": null,
            "width": null,
            "min_width": null,
            "border": null,
            "align_items": null,
            "bottom": null,
            "_model_module": "@jupyter-widgets/base",
            "top": null,
            "grid_column": null,
            "overflow_y": null,
            "overflow_x": null,
            "grid_auto_flow": null,
            "grid_area": null,
            "grid_template_columns": null,
            "flex": null,
            "_model_name": "LayoutModel",
            "justify_items": null,
            "grid_row": null,
            "max_height": null,
            "align_content": null,
            "visibility": null,
            "align_self": null,
            "height": null,
            "min_height": null,
            "padding": null,
            "grid_auto_rows": null,
            "grid_gap": null,
            "max_width": null,
            "order": null,
            "_view_module_version": "1.2.0",
            "grid_template_areas": null,
            "object_position": null,
            "object_fit": null,
            "grid_auto_columns": null,
            "margin": null,
            "display": null,
            "left": null
          }
        },
        "7448909871024ebab2480635c8fec4c1": {
          "model_module": "@jupyter-widgets/controls",
          "model_name": "HTMLModel",
          "model_module_version": "1.5.0",
          "state": {
            "_view_name": "HTMLView",
            "style": "IPY_MODEL_e486030e89d4402d93656c9e5da5a177",
            "_dom_classes": [],
            "description": "",
            "_model_name": "HTMLModel",
            "placeholder": "​",
            "_view_module": "@jupyter-widgets/controls",
            "_model_module_version": "1.5.0",
            "value": "Test Loss: 0.5475, Test Acc: 0.7246: 100%",
            "_view_count": null,
            "_view_module_version": "1.5.0",
            "description_tooltip": null,
            "_model_module": "@jupyter-widgets/controls",
            "layout": "IPY_MODEL_fa8bc5503a20445c93b18990d2cb2a77"
          }
        },
        "c380363fa61e43479b1a129d27e44d7c": {
          "model_module": "@jupyter-widgets/controls",
          "model_name": "FloatProgressModel",
          "model_module_version": "1.5.0",
          "state": {
            "_view_name": "ProgressView",
            "style": "IPY_MODEL_f4d80aac97e049c780aeb4b5499948b2",
            "_dom_classes": [],
            "description": "",
            "_model_name": "FloatProgressModel",
            "bar_style": "success",
            "max": 313,
            "_view_module": "@jupyter-widgets/controls",
            "_model_module_version": "1.5.0",
            "value": 313,
            "_view_count": null,
            "_view_module_version": "1.5.0",
            "orientation": "horizontal",
            "min": 0,
            "description_tooltip": null,
            "_model_module": "@jupyter-widgets/controls",
            "layout": "IPY_MODEL_2d63536392804b36abccd9e642c7fbd8"
          }
        },
        "92a848991cac44878a97bbd45c326cc0": {
          "model_module": "@jupyter-widgets/controls",
          "model_name": "HTMLModel",
          "model_module_version": "1.5.0",
          "state": {
            "_view_name": "HTMLView",
            "style": "IPY_MODEL_d1b7fd2c646543a7ae88bfbe494fcc4d",
            "_dom_classes": [],
            "description": "",
            "_model_name": "HTMLModel",
            "placeholder": "​",
            "_view_module": "@jupyter-widgets/controls",
            "_model_module_version": "1.5.0",
            "value": " 313/313 [01:11&lt;00:00,  6.84it/s]",
            "_view_count": null,
            "_view_module_version": "1.5.0",
            "description_tooltip": null,
            "_model_module": "@jupyter-widgets/controls",
            "layout": "IPY_MODEL_f185bd4dfa22474d800d2b6f20d8efed"
          }
        },
        "e486030e89d4402d93656c9e5da5a177": {
          "model_module": "@jupyter-widgets/controls",
          "model_name": "DescriptionStyleModel",
          "model_module_version": "1.5.0",
          "state": {
            "_view_name": "StyleView",
            "_model_name": "DescriptionStyleModel",
            "description_width": "",
            "_view_module": "@jupyter-widgets/base",
            "_model_module_version": "1.5.0",
            "_view_count": null,
            "_view_module_version": "1.2.0",
            "_model_module": "@jupyter-widgets/controls"
          }
        },
        "fa8bc5503a20445c93b18990d2cb2a77": {
          "model_module": "@jupyter-widgets/base",
          "model_name": "LayoutModel",
          "model_module_version": "1.2.0",
          "state": {
            "_view_name": "LayoutView",
            "grid_template_rows": null,
            "right": null,
            "justify_content": null,
            "_view_module": "@jupyter-widgets/base",
            "overflow": null,
            "_model_module_version": "1.2.0",
            "_view_count": null,
            "flex_flow": null,
            "width": null,
            "min_width": null,
            "border": null,
            "align_items": null,
            "bottom": null,
            "_model_module": "@jupyter-widgets/base",
            "top": null,
            "grid_column": null,
            "overflow_y": null,
            "overflow_x": null,
            "grid_auto_flow": null,
            "grid_area": null,
            "grid_template_columns": null,
            "flex": null,
            "_model_name": "LayoutModel",
            "justify_items": null,
            "grid_row": null,
            "max_height": null,
            "align_content": null,
            "visibility": null,
            "align_self": null,
            "height": null,
            "min_height": null,
            "padding": null,
            "grid_auto_rows": null,
            "grid_gap": null,
            "max_width": null,
            "order": null,
            "_view_module_version": "1.2.0",
            "grid_template_areas": null,
            "object_position": null,
            "object_fit": null,
            "grid_auto_columns": null,
            "margin": null,
            "display": null,
            "left": null
          }
        },
        "f4d80aac97e049c780aeb4b5499948b2": {
          "model_module": "@jupyter-widgets/controls",
          "model_name": "ProgressStyleModel",
          "model_module_version": "1.5.0",
          "state": {
            "_view_name": "StyleView",
            "_model_name": "ProgressStyleModel",
            "description_width": "",
            "_view_module": "@jupyter-widgets/base",
            "_model_module_version": "1.5.0",
            "_view_count": null,
            "_view_module_version": "1.2.0",
            "bar_color": null,
            "_model_module": "@jupyter-widgets/controls"
          }
        },
        "2d63536392804b36abccd9e642c7fbd8": {
          "model_module": "@jupyter-widgets/base",
          "model_name": "LayoutModel",
          "model_module_version": "1.2.0",
          "state": {
            "_view_name": "LayoutView",
            "grid_template_rows": null,
            "right": null,
            "justify_content": null,
            "_view_module": "@jupyter-widgets/base",
            "overflow": null,
            "_model_module_version": "1.2.0",
            "_view_count": null,
            "flex_flow": null,
            "width": null,
            "min_width": null,
            "border": null,
            "align_items": null,
            "bottom": null,
            "_model_module": "@jupyter-widgets/base",
            "top": null,
            "grid_column": null,
            "overflow_y": null,
            "overflow_x": null,
            "grid_auto_flow": null,
            "grid_area": null,
            "grid_template_columns": null,
            "flex": null,
            "_model_name": "LayoutModel",
            "justify_items": null,
            "grid_row": null,
            "max_height": null,
            "align_content": null,
            "visibility": null,
            "align_self": null,
            "height": null,
            "min_height": null,
            "padding": null,
            "grid_auto_rows": null,
            "grid_gap": null,
            "max_width": null,
            "order": null,
            "_view_module_version": "1.2.0",
            "grid_template_areas": null,
            "object_position": null,
            "object_fit": null,
            "grid_auto_columns": null,
            "margin": null,
            "display": null,
            "left": null
          }
        },
        "d1b7fd2c646543a7ae88bfbe494fcc4d": {
          "model_module": "@jupyter-widgets/controls",
          "model_name": "DescriptionStyleModel",
          "model_module_version": "1.5.0",
          "state": {
            "_view_name": "StyleView",
            "_model_name": "DescriptionStyleModel",
            "description_width": "",
            "_view_module": "@jupyter-widgets/base",
            "_model_module_version": "1.5.0",
            "_view_count": null,
            "_view_module_version": "1.2.0",
            "_model_module": "@jupyter-widgets/controls"
          }
        },
        "f185bd4dfa22474d800d2b6f20d8efed": {
          "model_module": "@jupyter-widgets/base",
          "model_name": "LayoutModel",
          "model_module_version": "1.2.0",
          "state": {
            "_view_name": "LayoutView",
            "grid_template_rows": null,
            "right": null,
            "justify_content": null,
            "_view_module": "@jupyter-widgets/base",
            "overflow": null,
            "_model_module_version": "1.2.0",
            "_view_count": null,
            "flex_flow": null,
            "width": null,
            "min_width": null,
            "border": null,
            "align_items": null,
            "bottom": null,
            "_model_module": "@jupyter-widgets/base",
            "top": null,
            "grid_column": null,
            "overflow_y": null,
            "overflow_x": null,
            "grid_auto_flow": null,
            "grid_area": null,
            "grid_template_columns": null,
            "flex": null,
            "_model_name": "LayoutModel",
            "justify_items": null,
            "grid_row": null,
            "max_height": null,
            "align_content": null,
            "visibility": null,
            "align_self": null,
            "height": null,
            "min_height": null,
            "padding": null,
            "grid_auto_rows": null,
            "grid_gap": null,
            "max_width": null,
            "order": null,
            "_view_module_version": "1.2.0",
            "grid_template_areas": null,
            "object_position": null,
            "object_fit": null,
            "grid_auto_columns": null,
            "margin": null,
            "display": null,
            "left": null
          }
        },
        "4960f287dbe64afd968258104e3b9b33": {
          "model_module": "@jupyter-widgets/controls",
          "model_name": "HBoxModel",
          "model_module_version": "1.5.0",
          "state": {
            "_view_name": "HBoxView",
            "_dom_classes": [],
            "_model_name": "HBoxModel",
            "_view_module": "@jupyter-widgets/controls",
            "_model_module_version": "1.5.0",
            "_view_count": null,
            "_view_module_version": "1.5.0",
            "box_style": "",
            "layout": "IPY_MODEL_79988a28d11e4b0a90f79594f8b94163",
            "_model_module": "@jupyter-widgets/controls",
            "children": [
              "IPY_MODEL_e03f235dc2c64dc4a568148ee1d9f3be",
              "IPY_MODEL_2e640fd86c3e4be29f588b034283fba1",
              "IPY_MODEL_7b5bf3eb7b5c4e9b8fb9db4e1eca281a"
            ]
          }
        },
        "79988a28d11e4b0a90f79594f8b94163": {
          "model_module": "@jupyter-widgets/base",
          "model_name": "LayoutModel",
          "model_module_version": "1.2.0",
          "state": {
            "_view_name": "LayoutView",
            "grid_template_rows": null,
            "right": null,
            "justify_content": null,
            "_view_module": "@jupyter-widgets/base",
            "overflow": null,
            "_model_module_version": "1.2.0",
            "_view_count": null,
            "flex_flow": null,
            "width": null,
            "min_width": null,
            "border": null,
            "align_items": null,
            "bottom": null,
            "_model_module": "@jupyter-widgets/base",
            "top": null,
            "grid_column": null,
            "overflow_y": null,
            "overflow_x": null,
            "grid_auto_flow": null,
            "grid_area": null,
            "grid_template_columns": null,
            "flex": null,
            "_model_name": "LayoutModel",
            "justify_items": null,
            "grid_row": null,
            "max_height": null,
            "align_content": null,
            "visibility": null,
            "align_self": null,
            "height": null,
            "min_height": null,
            "padding": null,
            "grid_auto_rows": null,
            "grid_gap": null,
            "max_width": null,
            "order": null,
            "_view_module_version": "1.2.0",
            "grid_template_areas": null,
            "object_position": null,
            "object_fit": null,
            "grid_auto_columns": null,
            "margin": null,
            "display": null,
            "left": null
          }
        },
        "e03f235dc2c64dc4a568148ee1d9f3be": {
          "model_module": "@jupyter-widgets/controls",
          "model_name": "HTMLModel",
          "model_module_version": "1.5.0",
          "state": {
            "_view_name": "HTMLView",
            "style": "IPY_MODEL_ee6481a806ee49a2a5a69bb547c80428",
            "_dom_classes": [],
            "description": "",
            "_model_name": "HTMLModel",
            "placeholder": "​",
            "_view_module": "@jupyter-widgets/controls",
            "_model_module_version": "1.5.0",
            "value": "Epoch 1. Train Loss: 0.5562: 100%",
            "_view_count": null,
            "_view_module_version": "1.5.0",
            "description_tooltip": null,
            "_model_module": "@jupyter-widgets/controls",
            "layout": "IPY_MODEL_8f9835c01bd04d8b99bbd7bc6f681709"
          }
        },
        "2e640fd86c3e4be29f588b034283fba1": {
          "model_module": "@jupyter-widgets/controls",
          "model_name": "FloatProgressModel",
          "model_module_version": "1.5.0",
          "state": {
            "_view_name": "ProgressView",
            "style": "IPY_MODEL_2066e9d9a8d844e7ba20a0691cd868b2",
            "_dom_classes": [],
            "description": "",
            "_model_name": "FloatProgressModel",
            "bar_style": "success",
            "max": 1000,
            "_view_module": "@jupyter-widgets/controls",
            "_model_module_version": "1.5.0",
            "value": 1000,
            "_view_count": null,
            "_view_module_version": "1.5.0",
            "orientation": "horizontal",
            "min": 0,
            "description_tooltip": null,
            "_model_module": "@jupyter-widgets/controls",
            "layout": "IPY_MODEL_39853da84a1b431abe7d22a0710fdada"
          }
        },
        "7b5bf3eb7b5c4e9b8fb9db4e1eca281a": {
          "model_module": "@jupyter-widgets/controls",
          "model_name": "HTMLModel",
          "model_module_version": "1.5.0",
          "state": {
            "_view_name": "HTMLView",
            "style": "IPY_MODEL_324673e8c6d243ada0d2c821b052372a",
            "_dom_classes": [],
            "description": "",
            "_model_name": "HTMLModel",
            "placeholder": "​",
            "_view_module": "@jupyter-widgets/controls",
            "_model_module_version": "1.5.0",
            "value": " 1000/1000 [03:49&lt;00:00,  6.31it/s]",
            "_view_count": null,
            "_view_module_version": "1.5.0",
            "description_tooltip": null,
            "_model_module": "@jupyter-widgets/controls",
            "layout": "IPY_MODEL_e46127027c9b4e2fb819958bc713382d"
          }
        },
        "ee6481a806ee49a2a5a69bb547c80428": {
          "model_module": "@jupyter-widgets/controls",
          "model_name": "DescriptionStyleModel",
          "model_module_version": "1.5.0",
          "state": {
            "_view_name": "StyleView",
            "_model_name": "DescriptionStyleModel",
            "description_width": "",
            "_view_module": "@jupyter-widgets/base",
            "_model_module_version": "1.5.0",
            "_view_count": null,
            "_view_module_version": "1.2.0",
            "_model_module": "@jupyter-widgets/controls"
          }
        },
        "8f9835c01bd04d8b99bbd7bc6f681709": {
          "model_module": "@jupyter-widgets/base",
          "model_name": "LayoutModel",
          "model_module_version": "1.2.0",
          "state": {
            "_view_name": "LayoutView",
            "grid_template_rows": null,
            "right": null,
            "justify_content": null,
            "_view_module": "@jupyter-widgets/base",
            "overflow": null,
            "_model_module_version": "1.2.0",
            "_view_count": null,
            "flex_flow": null,
            "width": null,
            "min_width": null,
            "border": null,
            "align_items": null,
            "bottom": null,
            "_model_module": "@jupyter-widgets/base",
            "top": null,
            "grid_column": null,
            "overflow_y": null,
            "overflow_x": null,
            "grid_auto_flow": null,
            "grid_area": null,
            "grid_template_columns": null,
            "flex": null,
            "_model_name": "LayoutModel",
            "justify_items": null,
            "grid_row": null,
            "max_height": null,
            "align_content": null,
            "visibility": null,
            "align_self": null,
            "height": null,
            "min_height": null,
            "padding": null,
            "grid_auto_rows": null,
            "grid_gap": null,
            "max_width": null,
            "order": null,
            "_view_module_version": "1.2.0",
            "grid_template_areas": null,
            "object_position": null,
            "object_fit": null,
            "grid_auto_columns": null,
            "margin": null,
            "display": null,
            "left": null
          }
        },
        "2066e9d9a8d844e7ba20a0691cd868b2": {
          "model_module": "@jupyter-widgets/controls",
          "model_name": "ProgressStyleModel",
          "model_module_version": "1.5.0",
          "state": {
            "_view_name": "StyleView",
            "_model_name": "ProgressStyleModel",
            "description_width": "",
            "_view_module": "@jupyter-widgets/base",
            "_model_module_version": "1.5.0",
            "_view_count": null,
            "_view_module_version": "1.2.0",
            "bar_color": null,
            "_model_module": "@jupyter-widgets/controls"
          }
        },
        "39853da84a1b431abe7d22a0710fdada": {
          "model_module": "@jupyter-widgets/base",
          "model_name": "LayoutModel",
          "model_module_version": "1.2.0",
          "state": {
            "_view_name": "LayoutView",
            "grid_template_rows": null,
            "right": null,
            "justify_content": null,
            "_view_module": "@jupyter-widgets/base",
            "overflow": null,
            "_model_module_version": "1.2.0",
            "_view_count": null,
            "flex_flow": null,
            "width": null,
            "min_width": null,
            "border": null,
            "align_items": null,
            "bottom": null,
            "_model_module": "@jupyter-widgets/base",
            "top": null,
            "grid_column": null,
            "overflow_y": null,
            "overflow_x": null,
            "grid_auto_flow": null,
            "grid_area": null,
            "grid_template_columns": null,
            "flex": null,
            "_model_name": "LayoutModel",
            "justify_items": null,
            "grid_row": null,
            "max_height": null,
            "align_content": null,
            "visibility": null,
            "align_self": null,
            "height": null,
            "min_height": null,
            "padding": null,
            "grid_auto_rows": null,
            "grid_gap": null,
            "max_width": null,
            "order": null,
            "_view_module_version": "1.2.0",
            "grid_template_areas": null,
            "object_position": null,
            "object_fit": null,
            "grid_auto_columns": null,
            "margin": null,
            "display": null,
            "left": null
          }
        },
        "324673e8c6d243ada0d2c821b052372a": {
          "model_module": "@jupyter-widgets/controls",
          "model_name": "DescriptionStyleModel",
          "model_module_version": "1.5.0",
          "state": {
            "_view_name": "StyleView",
            "_model_name": "DescriptionStyleModel",
            "description_width": "",
            "_view_module": "@jupyter-widgets/base",
            "_model_module_version": "1.5.0",
            "_view_count": null,
            "_view_module_version": "1.2.0",
            "_model_module": "@jupyter-widgets/controls"
          }
        },
        "e46127027c9b4e2fb819958bc713382d": {
          "model_module": "@jupyter-widgets/base",
          "model_name": "LayoutModel",
          "model_module_version": "1.2.0",
          "state": {
            "_view_name": "LayoutView",
            "grid_template_rows": null,
            "right": null,
            "justify_content": null,
            "_view_module": "@jupyter-widgets/base",
            "overflow": null,
            "_model_module_version": "1.2.0",
            "_view_count": null,
            "flex_flow": null,
            "width": null,
            "min_width": null,
            "border": null,
            "align_items": null,
            "bottom": null,
            "_model_module": "@jupyter-widgets/base",
            "top": null,
            "grid_column": null,
            "overflow_y": null,
            "overflow_x": null,
            "grid_auto_flow": null,
            "grid_area": null,
            "grid_template_columns": null,
            "flex": null,
            "_model_name": "LayoutModel",
            "justify_items": null,
            "grid_row": null,
            "max_height": null,
            "align_content": null,
            "visibility": null,
            "align_self": null,
            "height": null,
            "min_height": null,
            "padding": null,
            "grid_auto_rows": null,
            "grid_gap": null,
            "max_width": null,
            "order": null,
            "_view_module_version": "1.2.0",
            "grid_template_areas": null,
            "object_position": null,
            "object_fit": null,
            "grid_auto_columns": null,
            "margin": null,
            "display": null,
            "left": null
          }
        },
        "9c7b9d13d504425ab87983f40ffc9d3c": {
          "model_module": "@jupyter-widgets/controls",
          "model_name": "HBoxModel",
          "model_module_version": "1.5.0",
          "state": {
            "_view_name": "HBoxView",
            "_dom_classes": [],
            "_model_name": "HBoxModel",
            "_view_module": "@jupyter-widgets/controls",
            "_model_module_version": "1.5.0",
            "_view_count": null,
            "_view_module_version": "1.5.0",
            "box_style": "",
            "layout": "IPY_MODEL_af8ba54786524cd2951bafade2ddcabc",
            "_model_module": "@jupyter-widgets/controls",
            "children": [
              "IPY_MODEL_c20de29ece314b10a77b93f41f116de2",
              "IPY_MODEL_7e44b6bca36f443c8e3f0d8a4b90e96c",
              "IPY_MODEL_9d5b876cd77c43b6947f7ba0e8dc52b5"
            ]
          }
        },
        "af8ba54786524cd2951bafade2ddcabc": {
          "model_module": "@jupyter-widgets/base",
          "model_name": "LayoutModel",
          "model_module_version": "1.2.0",
          "state": {
            "_view_name": "LayoutView",
            "grid_template_rows": null,
            "right": null,
            "justify_content": null,
            "_view_module": "@jupyter-widgets/base",
            "overflow": null,
            "_model_module_version": "1.2.0",
            "_view_count": null,
            "flex_flow": null,
            "width": null,
            "min_width": null,
            "border": null,
            "align_items": null,
            "bottom": null,
            "_model_module": "@jupyter-widgets/base",
            "top": null,
            "grid_column": null,
            "overflow_y": null,
            "overflow_x": null,
            "grid_auto_flow": null,
            "grid_area": null,
            "grid_template_columns": null,
            "flex": null,
            "_model_name": "LayoutModel",
            "justify_items": null,
            "grid_row": null,
            "max_height": null,
            "align_content": null,
            "visibility": null,
            "align_self": null,
            "height": null,
            "min_height": null,
            "padding": null,
            "grid_auto_rows": null,
            "grid_gap": null,
            "max_width": null,
            "order": null,
            "_view_module_version": "1.2.0",
            "grid_template_areas": null,
            "object_position": null,
            "object_fit": null,
            "grid_auto_columns": null,
            "margin": null,
            "display": null,
            "left": null
          }
        },
        "c20de29ece314b10a77b93f41f116de2": {
          "model_module": "@jupyter-widgets/controls",
          "model_name": "HTMLModel",
          "model_module_version": "1.5.0",
          "state": {
            "_view_name": "HTMLView",
            "style": "IPY_MODEL_236f19ebc7084ee6be80be349f4b4d6a",
            "_dom_classes": [],
            "description": "",
            "_model_name": "HTMLModel",
            "placeholder": "​",
            "_view_module": "@jupyter-widgets/controls",
            "_model_module_version": "1.5.0",
            "value": "Test Loss: 0.5898, Test Acc: 0.6914: 100%",
            "_view_count": null,
            "_view_module_version": "1.5.0",
            "description_tooltip": null,
            "_model_module": "@jupyter-widgets/controls",
            "layout": "IPY_MODEL_f501f69bc2c84ead99984707e455f97e"
          }
        },
        "7e44b6bca36f443c8e3f0d8a4b90e96c": {
          "model_module": "@jupyter-widgets/controls",
          "model_name": "FloatProgressModel",
          "model_module_version": "1.5.0",
          "state": {
            "_view_name": "ProgressView",
            "style": "IPY_MODEL_91a0be459308487d93873fc23fbe5ca5",
            "_dom_classes": [],
            "description": "",
            "_model_name": "FloatProgressModel",
            "bar_style": "success",
            "max": 250,
            "_view_module": "@jupyter-widgets/controls",
            "_model_module_version": "1.5.0",
            "value": 250,
            "_view_count": null,
            "_view_module_version": "1.5.0",
            "orientation": "horizontal",
            "min": 0,
            "description_tooltip": null,
            "_model_module": "@jupyter-widgets/controls",
            "layout": "IPY_MODEL_63a136bc791f4973b12290bab8b914d5"
          }
        },
        "9d5b876cd77c43b6947f7ba0e8dc52b5": {
          "model_module": "@jupyter-widgets/controls",
          "model_name": "HTMLModel",
          "model_module_version": "1.5.0",
          "state": {
            "_view_name": "HTMLView",
            "style": "IPY_MODEL_5c6c73f72c3e424ca20f794c8fff1be1",
            "_dom_classes": [],
            "description": "",
            "_model_name": "HTMLModel",
            "placeholder": "​",
            "_view_module": "@jupyter-widgets/controls",
            "_model_module_version": "1.5.0",
            "value": " 250/250 [00:59&lt;00:00,  5.37it/s]",
            "_view_count": null,
            "_view_module_version": "1.5.0",
            "description_tooltip": null,
            "_model_module": "@jupyter-widgets/controls",
            "layout": "IPY_MODEL_3b7ab9ee8c264bec9bae06ab15e12331"
          }
        },
        "236f19ebc7084ee6be80be349f4b4d6a": {
          "model_module": "@jupyter-widgets/controls",
          "model_name": "DescriptionStyleModel",
          "model_module_version": "1.5.0",
          "state": {
            "_view_name": "StyleView",
            "_model_name": "DescriptionStyleModel",
            "description_width": "",
            "_view_module": "@jupyter-widgets/base",
            "_model_module_version": "1.5.0",
            "_view_count": null,
            "_view_module_version": "1.2.0",
            "_model_module": "@jupyter-widgets/controls"
          }
        },
        "f501f69bc2c84ead99984707e455f97e": {
          "model_module": "@jupyter-widgets/base",
          "model_name": "LayoutModel",
          "model_module_version": "1.2.0",
          "state": {
            "_view_name": "LayoutView",
            "grid_template_rows": null,
            "right": null,
            "justify_content": null,
            "_view_module": "@jupyter-widgets/base",
            "overflow": null,
            "_model_module_version": "1.2.0",
            "_view_count": null,
            "flex_flow": null,
            "width": null,
            "min_width": null,
            "border": null,
            "align_items": null,
            "bottom": null,
            "_model_module": "@jupyter-widgets/base",
            "top": null,
            "grid_column": null,
            "overflow_y": null,
            "overflow_x": null,
            "grid_auto_flow": null,
            "grid_area": null,
            "grid_template_columns": null,
            "flex": null,
            "_model_name": "LayoutModel",
            "justify_items": null,
            "grid_row": null,
            "max_height": null,
            "align_content": null,
            "visibility": null,
            "align_self": null,
            "height": null,
            "min_height": null,
            "padding": null,
            "grid_auto_rows": null,
            "grid_gap": null,
            "max_width": null,
            "order": null,
            "_view_module_version": "1.2.0",
            "grid_template_areas": null,
            "object_position": null,
            "object_fit": null,
            "grid_auto_columns": null,
            "margin": null,
            "display": null,
            "left": null
          }
        },
        "91a0be459308487d93873fc23fbe5ca5": {
          "model_module": "@jupyter-widgets/controls",
          "model_name": "ProgressStyleModel",
          "model_module_version": "1.5.0",
          "state": {
            "_view_name": "StyleView",
            "_model_name": "ProgressStyleModel",
            "description_width": "",
            "_view_module": "@jupyter-widgets/base",
            "_model_module_version": "1.5.0",
            "_view_count": null,
            "_view_module_version": "1.2.0",
            "bar_color": null,
            "_model_module": "@jupyter-widgets/controls"
          }
        },
        "63a136bc791f4973b12290bab8b914d5": {
          "model_module": "@jupyter-widgets/base",
          "model_name": "LayoutModel",
          "model_module_version": "1.2.0",
          "state": {
            "_view_name": "LayoutView",
            "grid_template_rows": null,
            "right": null,
            "justify_content": null,
            "_view_module": "@jupyter-widgets/base",
            "overflow": null,
            "_model_module_version": "1.2.0",
            "_view_count": null,
            "flex_flow": null,
            "width": null,
            "min_width": null,
            "border": null,
            "align_items": null,
            "bottom": null,
            "_model_module": "@jupyter-widgets/base",
            "top": null,
            "grid_column": null,
            "overflow_y": null,
            "overflow_x": null,
            "grid_auto_flow": null,
            "grid_area": null,
            "grid_template_columns": null,
            "flex": null,
            "_model_name": "LayoutModel",
            "justify_items": null,
            "grid_row": null,
            "max_height": null,
            "align_content": null,
            "visibility": null,
            "align_self": null,
            "height": null,
            "min_height": null,
            "padding": null,
            "grid_auto_rows": null,
            "grid_gap": null,
            "max_width": null,
            "order": null,
            "_view_module_version": "1.2.0",
            "grid_template_areas": null,
            "object_position": null,
            "object_fit": null,
            "grid_auto_columns": null,
            "margin": null,
            "display": null,
            "left": null
          }
        },
        "5c6c73f72c3e424ca20f794c8fff1be1": {
          "model_module": "@jupyter-widgets/controls",
          "model_name": "DescriptionStyleModel",
          "model_module_version": "1.5.0",
          "state": {
            "_view_name": "StyleView",
            "_model_name": "DescriptionStyleModel",
            "description_width": "",
            "_view_module": "@jupyter-widgets/base",
            "_model_module_version": "1.5.0",
            "_view_count": null,
            "_view_module_version": "1.2.0",
            "_model_module": "@jupyter-widgets/controls"
          }
        },
        "3b7ab9ee8c264bec9bae06ab15e12331": {
          "model_module": "@jupyter-widgets/base",
          "model_name": "LayoutModel",
          "model_module_version": "1.2.0",
          "state": {
            "_view_name": "LayoutView",
            "grid_template_rows": null,
            "right": null,
            "justify_content": null,
            "_view_module": "@jupyter-widgets/base",
            "overflow": null,
            "_model_module_version": "1.2.0",
            "_view_count": null,
            "flex_flow": null,
            "width": null,
            "min_width": null,
            "border": null,
            "align_items": null,
            "bottom": null,
            "_model_module": "@jupyter-widgets/base",
            "top": null,
            "grid_column": null,
            "overflow_y": null,
            "overflow_x": null,
            "grid_auto_flow": null,
            "grid_area": null,
            "grid_template_columns": null,
            "flex": null,
            "_model_name": "LayoutModel",
            "justify_items": null,
            "grid_row": null,
            "max_height": null,
            "align_content": null,
            "visibility": null,
            "align_self": null,
            "height": null,
            "min_height": null,
            "padding": null,
            "grid_auto_rows": null,
            "grid_gap": null,
            "max_width": null,
            "order": null,
            "_view_module_version": "1.2.0",
            "grid_template_areas": null,
            "object_position": null,
            "object_fit": null,
            "grid_auto_columns": null,
            "margin": null,
            "display": null,
            "left": null
          }
        },
        "3699e9fc10f94ca48c5932ddcda2b7e5": {
          "model_module": "@jupyter-widgets/controls",
          "model_name": "HBoxModel",
          "model_module_version": "1.5.0",
          "state": {
            "_view_name": "HBoxView",
            "_dom_classes": [],
            "_model_name": "HBoxModel",
            "_view_module": "@jupyter-widgets/controls",
            "_model_module_version": "1.5.0",
            "_view_count": null,
            "_view_module_version": "1.5.0",
            "box_style": "",
            "layout": "IPY_MODEL_f655a8da6aa242eab6a6785f1820d02a",
            "_model_module": "@jupyter-widgets/controls",
            "children": [
              "IPY_MODEL_e3d6930ed69a42a594ee78514b785e9b",
              "IPY_MODEL_d38fc286e40a48c8823876a400e6bd34",
              "IPY_MODEL_e30c385c2574423eb5cd26ddb1252fb3"
            ]
          }
        },
        "f655a8da6aa242eab6a6785f1820d02a": {
          "model_module": "@jupyter-widgets/base",
          "model_name": "LayoutModel",
          "model_module_version": "1.2.0",
          "state": {
            "_view_name": "LayoutView",
            "grid_template_rows": null,
            "right": null,
            "justify_content": null,
            "_view_module": "@jupyter-widgets/base",
            "overflow": null,
            "_model_module_version": "1.2.0",
            "_view_count": null,
            "flex_flow": null,
            "width": null,
            "min_width": null,
            "border": null,
            "align_items": null,
            "bottom": null,
            "_model_module": "@jupyter-widgets/base",
            "top": null,
            "grid_column": null,
            "overflow_y": null,
            "overflow_x": null,
            "grid_auto_flow": null,
            "grid_area": null,
            "grid_template_columns": null,
            "flex": null,
            "_model_name": "LayoutModel",
            "justify_items": null,
            "grid_row": null,
            "max_height": null,
            "align_content": null,
            "visibility": null,
            "align_self": null,
            "height": null,
            "min_height": null,
            "padding": null,
            "grid_auto_rows": null,
            "grid_gap": null,
            "max_width": null,
            "order": null,
            "_view_module_version": "1.2.0",
            "grid_template_areas": null,
            "object_position": null,
            "object_fit": null,
            "grid_auto_columns": null,
            "margin": null,
            "display": null,
            "left": null
          }
        },
        "e3d6930ed69a42a594ee78514b785e9b": {
          "model_module": "@jupyter-widgets/controls",
          "model_name": "HTMLModel",
          "model_module_version": "1.5.0",
          "state": {
            "_view_name": "HTMLView",
            "style": "IPY_MODEL_63b8a73f30f642498c0bb76628a2ed63",
            "_dom_classes": [],
            "description": "",
            "_model_name": "HTMLModel",
            "placeholder": "​",
            "_view_module": "@jupyter-widgets/controls",
            "_model_module_version": "1.5.0",
            "value": "Test Loss: 0.5676, Test Acc: 0.7129: 100%",
            "_view_count": null,
            "_view_module_version": "1.5.0",
            "description_tooltip": null,
            "_model_module": "@jupyter-widgets/controls",
            "layout": "IPY_MODEL_4dffb4d5fc5d4138b62814fc4cd65631"
          }
        },
        "d38fc286e40a48c8823876a400e6bd34": {
          "model_module": "@jupyter-widgets/controls",
          "model_name": "FloatProgressModel",
          "model_module_version": "1.5.0",
          "state": {
            "_view_name": "ProgressView",
            "style": "IPY_MODEL_2601d3f1085b4691bde07c48c74da1db",
            "_dom_classes": [],
            "description": "",
            "_model_name": "FloatProgressModel",
            "bar_style": "success",
            "max": 313,
            "_view_module": "@jupyter-widgets/controls",
            "_model_module_version": "1.5.0",
            "value": 313,
            "_view_count": null,
            "_view_module_version": "1.5.0",
            "orientation": "horizontal",
            "min": 0,
            "description_tooltip": null,
            "_model_module": "@jupyter-widgets/controls",
            "layout": "IPY_MODEL_0bc740e91fed451293afe87a7e7379e3"
          }
        },
        "e30c385c2574423eb5cd26ddb1252fb3": {
          "model_module": "@jupyter-widgets/controls",
          "model_name": "HTMLModel",
          "model_module_version": "1.5.0",
          "state": {
            "_view_name": "HTMLView",
            "style": "IPY_MODEL_345d2fe510c44f42b1b0199c34857265",
            "_dom_classes": [],
            "description": "",
            "_model_name": "HTMLModel",
            "placeholder": "​",
            "_view_module": "@jupyter-widgets/controls",
            "_model_module_version": "1.5.0",
            "value": " 313/313 [01:11&lt;00:00,  5.53it/s]",
            "_view_count": null,
            "_view_module_version": "1.5.0",
            "description_tooltip": null,
            "_model_module": "@jupyter-widgets/controls",
            "layout": "IPY_MODEL_43275830a9b34c08ab548f17e016da5f"
          }
        },
        "63b8a73f30f642498c0bb76628a2ed63": {
          "model_module": "@jupyter-widgets/controls",
          "model_name": "DescriptionStyleModel",
          "model_module_version": "1.5.0",
          "state": {
            "_view_name": "StyleView",
            "_model_name": "DescriptionStyleModel",
            "description_width": "",
            "_view_module": "@jupyter-widgets/base",
            "_model_module_version": "1.5.0",
            "_view_count": null,
            "_view_module_version": "1.2.0",
            "_model_module": "@jupyter-widgets/controls"
          }
        },
        "4dffb4d5fc5d4138b62814fc4cd65631": {
          "model_module": "@jupyter-widgets/base",
          "model_name": "LayoutModel",
          "model_module_version": "1.2.0",
          "state": {
            "_view_name": "LayoutView",
            "grid_template_rows": null,
            "right": null,
            "justify_content": null,
            "_view_module": "@jupyter-widgets/base",
            "overflow": null,
            "_model_module_version": "1.2.0",
            "_view_count": null,
            "flex_flow": null,
            "width": null,
            "min_width": null,
            "border": null,
            "align_items": null,
            "bottom": null,
            "_model_module": "@jupyter-widgets/base",
            "top": null,
            "grid_column": null,
            "overflow_y": null,
            "overflow_x": null,
            "grid_auto_flow": null,
            "grid_area": null,
            "grid_template_columns": null,
            "flex": null,
            "_model_name": "LayoutModel",
            "justify_items": null,
            "grid_row": null,
            "max_height": null,
            "align_content": null,
            "visibility": null,
            "align_self": null,
            "height": null,
            "min_height": null,
            "padding": null,
            "grid_auto_rows": null,
            "grid_gap": null,
            "max_width": null,
            "order": null,
            "_view_module_version": "1.2.0",
            "grid_template_areas": null,
            "object_position": null,
            "object_fit": null,
            "grid_auto_columns": null,
            "margin": null,
            "display": null,
            "left": null
          }
        },
        "2601d3f1085b4691bde07c48c74da1db": {
          "model_module": "@jupyter-widgets/controls",
          "model_name": "ProgressStyleModel",
          "model_module_version": "1.5.0",
          "state": {
            "_view_name": "StyleView",
            "_model_name": "ProgressStyleModel",
            "description_width": "",
            "_view_module": "@jupyter-widgets/base",
            "_model_module_version": "1.5.0",
            "_view_count": null,
            "_view_module_version": "1.2.0",
            "bar_color": null,
            "_model_module": "@jupyter-widgets/controls"
          }
        },
        "0bc740e91fed451293afe87a7e7379e3": {
          "model_module": "@jupyter-widgets/base",
          "model_name": "LayoutModel",
          "model_module_version": "1.2.0",
          "state": {
            "_view_name": "LayoutView",
            "grid_template_rows": null,
            "right": null,
            "justify_content": null,
            "_view_module": "@jupyter-widgets/base",
            "overflow": null,
            "_model_module_version": "1.2.0",
            "_view_count": null,
            "flex_flow": null,
            "width": null,
            "min_width": null,
            "border": null,
            "align_items": null,
            "bottom": null,
            "_model_module": "@jupyter-widgets/base",
            "top": null,
            "grid_column": null,
            "overflow_y": null,
            "overflow_x": null,
            "grid_auto_flow": null,
            "grid_area": null,
            "grid_template_columns": null,
            "flex": null,
            "_model_name": "LayoutModel",
            "justify_items": null,
            "grid_row": null,
            "max_height": null,
            "align_content": null,
            "visibility": null,
            "align_self": null,
            "height": null,
            "min_height": null,
            "padding": null,
            "grid_auto_rows": null,
            "grid_gap": null,
            "max_width": null,
            "order": null,
            "_view_module_version": "1.2.0",
            "grid_template_areas": null,
            "object_position": null,
            "object_fit": null,
            "grid_auto_columns": null,
            "margin": null,
            "display": null,
            "left": null
          }
        },
        "345d2fe510c44f42b1b0199c34857265": {
          "model_module": "@jupyter-widgets/controls",
          "model_name": "DescriptionStyleModel",
          "model_module_version": "1.5.0",
          "state": {
            "_view_name": "StyleView",
            "_model_name": "DescriptionStyleModel",
            "description_width": "",
            "_view_module": "@jupyter-widgets/base",
            "_model_module_version": "1.5.0",
            "_view_count": null,
            "_view_module_version": "1.2.0",
            "_model_module": "@jupyter-widgets/controls"
          }
        },
        "43275830a9b34c08ab548f17e016da5f": {
          "model_module": "@jupyter-widgets/base",
          "model_name": "LayoutModel",
          "model_module_version": "1.2.0",
          "state": {
            "_view_name": "LayoutView",
            "grid_template_rows": null,
            "right": null,
            "justify_content": null,
            "_view_module": "@jupyter-widgets/base",
            "overflow": null,
            "_model_module_version": "1.2.0",
            "_view_count": null,
            "flex_flow": null,
            "width": null,
            "min_width": null,
            "border": null,
            "align_items": null,
            "bottom": null,
            "_model_module": "@jupyter-widgets/base",
            "top": null,
            "grid_column": null,
            "overflow_y": null,
            "overflow_x": null,
            "grid_auto_flow": null,
            "grid_area": null,
            "grid_template_columns": null,
            "flex": null,
            "_model_name": "LayoutModel",
            "justify_items": null,
            "grid_row": null,
            "max_height": null,
            "align_content": null,
            "visibility": null,
            "align_self": null,
            "height": null,
            "min_height": null,
            "padding": null,
            "grid_auto_rows": null,
            "grid_gap": null,
            "max_width": null,
            "order": null,
            "_view_module_version": "1.2.0",
            "grid_template_areas": null,
            "object_position": null,
            "object_fit": null,
            "grid_auto_columns": null,
            "margin": null,
            "display": null,
            "left": null
          }
        },
        "a66d0126c18145cf9f21498b298b5689": {
          "model_module": "@jupyter-widgets/controls",
          "model_name": "HBoxModel",
          "model_module_version": "1.5.0",
          "state": {
            "_view_name": "HBoxView",
            "_dom_classes": [],
            "_model_name": "HBoxModel",
            "_view_module": "@jupyter-widgets/controls",
            "_model_module_version": "1.5.0",
            "_view_count": null,
            "_view_module_version": "1.5.0",
            "box_style": "",
            "layout": "IPY_MODEL_a5ee3fd075be4e2e8a5008634b0b13aa",
            "_model_module": "@jupyter-widgets/controls",
            "children": [
              "IPY_MODEL_814c965a68e642519f386bb9865bbe13",
              "IPY_MODEL_a41a8e55b702411f8832e3bf82cd0730",
              "IPY_MODEL_d071ddf130b44e69888097c0ae1f9b29"
            ]
          }
        },
        "a5ee3fd075be4e2e8a5008634b0b13aa": {
          "model_module": "@jupyter-widgets/base",
          "model_name": "LayoutModel",
          "model_module_version": "1.2.0",
          "state": {
            "_view_name": "LayoutView",
            "grid_template_rows": null,
            "right": null,
            "justify_content": null,
            "_view_module": "@jupyter-widgets/base",
            "overflow": null,
            "_model_module_version": "1.2.0",
            "_view_count": null,
            "flex_flow": null,
            "width": null,
            "min_width": null,
            "border": null,
            "align_items": null,
            "bottom": null,
            "_model_module": "@jupyter-widgets/base",
            "top": null,
            "grid_column": null,
            "overflow_y": null,
            "overflow_x": null,
            "grid_auto_flow": null,
            "grid_area": null,
            "grid_template_columns": null,
            "flex": null,
            "_model_name": "LayoutModel",
            "justify_items": null,
            "grid_row": null,
            "max_height": null,
            "align_content": null,
            "visibility": null,
            "align_self": null,
            "height": null,
            "min_height": null,
            "padding": null,
            "grid_auto_rows": null,
            "grid_gap": null,
            "max_width": null,
            "order": null,
            "_view_module_version": "1.2.0",
            "grid_template_areas": null,
            "object_position": null,
            "object_fit": null,
            "grid_auto_columns": null,
            "margin": null,
            "display": null,
            "left": null
          }
        },
        "814c965a68e642519f386bb9865bbe13": {
          "model_module": "@jupyter-widgets/controls",
          "model_name": "HTMLModel",
          "model_module_version": "1.5.0",
          "state": {
            "_view_name": "HTMLView",
            "style": "IPY_MODEL_c5b38fbec9784a948cb467b05c20fad9",
            "_dom_classes": [],
            "description": "",
            "_model_name": "HTMLModel",
            "placeholder": "​",
            "_view_module": "@jupyter-widgets/controls",
            "_model_module_version": "1.5.0",
            "value": "Epoch 1. Train Loss: 0.5114: 100%",
            "_view_count": null,
            "_view_module_version": "1.5.0",
            "description_tooltip": null,
            "_model_module": "@jupyter-widgets/controls",
            "layout": "IPY_MODEL_a953e7e508d54f78b475391b38b8671f"
          }
        },
        "a41a8e55b702411f8832e3bf82cd0730": {
          "model_module": "@jupyter-widgets/controls",
          "model_name": "FloatProgressModel",
          "model_module_version": "1.5.0",
          "state": {
            "_view_name": "ProgressView",
            "style": "IPY_MODEL_a869fdea9bb646f1b9a3f521adaffa5d",
            "_dom_classes": [],
            "description": "",
            "_model_name": "FloatProgressModel",
            "bar_style": "success",
            "max": 1000,
            "_view_module": "@jupyter-widgets/controls",
            "_model_module_version": "1.5.0",
            "value": 1000,
            "_view_count": null,
            "_view_module_version": "1.5.0",
            "orientation": "horizontal",
            "min": 0,
            "description_tooltip": null,
            "_model_module": "@jupyter-widgets/controls",
            "layout": "IPY_MODEL_de9401d61cf74615a42c63f4682b92ba"
          }
        },
        "d071ddf130b44e69888097c0ae1f9b29": {
          "model_module": "@jupyter-widgets/controls",
          "model_name": "HTMLModel",
          "model_module_version": "1.5.0",
          "state": {
            "_view_name": "HTMLView",
            "style": "IPY_MODEL_051a798366514d5697ca003da7fef462",
            "_dom_classes": [],
            "description": "",
            "_model_name": "HTMLModel",
            "placeholder": "​",
            "_view_module": "@jupyter-widgets/controls",
            "_model_module_version": "1.5.0",
            "value": " 1000/1000 [03:43&lt;00:00,  5.84it/s]",
            "_view_count": null,
            "_view_module_version": "1.5.0",
            "description_tooltip": null,
            "_model_module": "@jupyter-widgets/controls",
            "layout": "IPY_MODEL_e36ffc2c0496431ebafa2e2dc768ca1d"
          }
        },
        "c5b38fbec9784a948cb467b05c20fad9": {
          "model_module": "@jupyter-widgets/controls",
          "model_name": "DescriptionStyleModel",
          "model_module_version": "1.5.0",
          "state": {
            "_view_name": "StyleView",
            "_model_name": "DescriptionStyleModel",
            "description_width": "",
            "_view_module": "@jupyter-widgets/base",
            "_model_module_version": "1.5.0",
            "_view_count": null,
            "_view_module_version": "1.2.0",
            "_model_module": "@jupyter-widgets/controls"
          }
        },
        "a953e7e508d54f78b475391b38b8671f": {
          "model_module": "@jupyter-widgets/base",
          "model_name": "LayoutModel",
          "model_module_version": "1.2.0",
          "state": {
            "_view_name": "LayoutView",
            "grid_template_rows": null,
            "right": null,
            "justify_content": null,
            "_view_module": "@jupyter-widgets/base",
            "overflow": null,
            "_model_module_version": "1.2.0",
            "_view_count": null,
            "flex_flow": null,
            "width": null,
            "min_width": null,
            "border": null,
            "align_items": null,
            "bottom": null,
            "_model_module": "@jupyter-widgets/base",
            "top": null,
            "grid_column": null,
            "overflow_y": null,
            "overflow_x": null,
            "grid_auto_flow": null,
            "grid_area": null,
            "grid_template_columns": null,
            "flex": null,
            "_model_name": "LayoutModel",
            "justify_items": null,
            "grid_row": null,
            "max_height": null,
            "align_content": null,
            "visibility": null,
            "align_self": null,
            "height": null,
            "min_height": null,
            "padding": null,
            "grid_auto_rows": null,
            "grid_gap": null,
            "max_width": null,
            "order": null,
            "_view_module_version": "1.2.0",
            "grid_template_areas": null,
            "object_position": null,
            "object_fit": null,
            "grid_auto_columns": null,
            "margin": null,
            "display": null,
            "left": null
          }
        },
        "a869fdea9bb646f1b9a3f521adaffa5d": {
          "model_module": "@jupyter-widgets/controls",
          "model_name": "ProgressStyleModel",
          "model_module_version": "1.5.0",
          "state": {
            "_view_name": "StyleView",
            "_model_name": "ProgressStyleModel",
            "description_width": "",
            "_view_module": "@jupyter-widgets/base",
            "_model_module_version": "1.5.0",
            "_view_count": null,
            "_view_module_version": "1.2.0",
            "bar_color": null,
            "_model_module": "@jupyter-widgets/controls"
          }
        },
        "de9401d61cf74615a42c63f4682b92ba": {
          "model_module": "@jupyter-widgets/base",
          "model_name": "LayoutModel",
          "model_module_version": "1.2.0",
          "state": {
            "_view_name": "LayoutView",
            "grid_template_rows": null,
            "right": null,
            "justify_content": null,
            "_view_module": "@jupyter-widgets/base",
            "overflow": null,
            "_model_module_version": "1.2.0",
            "_view_count": null,
            "flex_flow": null,
            "width": null,
            "min_width": null,
            "border": null,
            "align_items": null,
            "bottom": null,
            "_model_module": "@jupyter-widgets/base",
            "top": null,
            "grid_column": null,
            "overflow_y": null,
            "overflow_x": null,
            "grid_auto_flow": null,
            "grid_area": null,
            "grid_template_columns": null,
            "flex": null,
            "_model_name": "LayoutModel",
            "justify_items": null,
            "grid_row": null,
            "max_height": null,
            "align_content": null,
            "visibility": null,
            "align_self": null,
            "height": null,
            "min_height": null,
            "padding": null,
            "grid_auto_rows": null,
            "grid_gap": null,
            "max_width": null,
            "order": null,
            "_view_module_version": "1.2.0",
            "grid_template_areas": null,
            "object_position": null,
            "object_fit": null,
            "grid_auto_columns": null,
            "margin": null,
            "display": null,
            "left": null
          }
        },
        "051a798366514d5697ca003da7fef462": {
          "model_module": "@jupyter-widgets/controls",
          "model_name": "DescriptionStyleModel",
          "model_module_version": "1.5.0",
          "state": {
            "_view_name": "StyleView",
            "_model_name": "DescriptionStyleModel",
            "description_width": "",
            "_view_module": "@jupyter-widgets/base",
            "_model_module_version": "1.5.0",
            "_view_count": null,
            "_view_module_version": "1.2.0",
            "_model_module": "@jupyter-widgets/controls"
          }
        },
        "e36ffc2c0496431ebafa2e2dc768ca1d": {
          "model_module": "@jupyter-widgets/base",
          "model_name": "LayoutModel",
          "model_module_version": "1.2.0",
          "state": {
            "_view_name": "LayoutView",
            "grid_template_rows": null,
            "right": null,
            "justify_content": null,
            "_view_module": "@jupyter-widgets/base",
            "overflow": null,
            "_model_module_version": "1.2.0",
            "_view_count": null,
            "flex_flow": null,
            "width": null,
            "min_width": null,
            "border": null,
            "align_items": null,
            "bottom": null,
            "_model_module": "@jupyter-widgets/base",
            "top": null,
            "grid_column": null,
            "overflow_y": null,
            "overflow_x": null,
            "grid_auto_flow": null,
            "grid_area": null,
            "grid_template_columns": null,
            "flex": null,
            "_model_name": "LayoutModel",
            "justify_items": null,
            "grid_row": null,
            "max_height": null,
            "align_content": null,
            "visibility": null,
            "align_self": null,
            "height": null,
            "min_height": null,
            "padding": null,
            "grid_auto_rows": null,
            "grid_gap": null,
            "max_width": null,
            "order": null,
            "_view_module_version": "1.2.0",
            "grid_template_areas": null,
            "object_position": null,
            "object_fit": null,
            "grid_auto_columns": null,
            "margin": null,
            "display": null,
            "left": null
          }
        },
        "5589d364f49047f98051577aabca5180": {
          "model_module": "@jupyter-widgets/controls",
          "model_name": "HBoxModel",
          "model_module_version": "1.5.0",
          "state": {
            "_view_name": "HBoxView",
            "_dom_classes": [],
            "_model_name": "HBoxModel",
            "_view_module": "@jupyter-widgets/controls",
            "_model_module_version": "1.5.0",
            "_view_count": null,
            "_view_module_version": "1.5.0",
            "box_style": "",
            "layout": "IPY_MODEL_d7529be4f0954e9b85716366e289199e",
            "_model_module": "@jupyter-widgets/controls",
            "children": [
              "IPY_MODEL_9cd330f5b4e04e709c8f7b5a6bdaa682",
              "IPY_MODEL_27ca3e77f0964aa5b8cb808bbc9ffecf",
              "IPY_MODEL_89dbe7a2056b4e9383966f1aed41f718"
            ]
          }
        },
        "d7529be4f0954e9b85716366e289199e": {
          "model_module": "@jupyter-widgets/base",
          "model_name": "LayoutModel",
          "model_module_version": "1.2.0",
          "state": {
            "_view_name": "LayoutView",
            "grid_template_rows": null,
            "right": null,
            "justify_content": null,
            "_view_module": "@jupyter-widgets/base",
            "overflow": null,
            "_model_module_version": "1.2.0",
            "_view_count": null,
            "flex_flow": null,
            "width": null,
            "min_width": null,
            "border": null,
            "align_items": null,
            "bottom": null,
            "_model_module": "@jupyter-widgets/base",
            "top": null,
            "grid_column": null,
            "overflow_y": null,
            "overflow_x": null,
            "grid_auto_flow": null,
            "grid_area": null,
            "grid_template_columns": null,
            "flex": null,
            "_model_name": "LayoutModel",
            "justify_items": null,
            "grid_row": null,
            "max_height": null,
            "align_content": null,
            "visibility": null,
            "align_self": null,
            "height": null,
            "min_height": null,
            "padding": null,
            "grid_auto_rows": null,
            "grid_gap": null,
            "max_width": null,
            "order": null,
            "_view_module_version": "1.2.0",
            "grid_template_areas": null,
            "object_position": null,
            "object_fit": null,
            "grid_auto_columns": null,
            "margin": null,
            "display": null,
            "left": null
          }
        },
        "9cd330f5b4e04e709c8f7b5a6bdaa682": {
          "model_module": "@jupyter-widgets/controls",
          "model_name": "HTMLModel",
          "model_module_version": "1.5.0",
          "state": {
            "_view_name": "HTMLView",
            "style": "IPY_MODEL_948395f713a2489ea3f11dc0e5905989",
            "_dom_classes": [],
            "description": "",
            "_model_name": "HTMLModel",
            "placeholder": "​",
            "_view_module": "@jupyter-widgets/controls",
            "_model_module_version": "1.5.0",
            "value": "Test Loss: 0.585, Test Acc: 0.6934: 100%",
            "_view_count": null,
            "_view_module_version": "1.5.0",
            "description_tooltip": null,
            "_model_module": "@jupyter-widgets/controls",
            "layout": "IPY_MODEL_4d3e8fd49a1245b8a40e2fc280f03999"
          }
        },
        "27ca3e77f0964aa5b8cb808bbc9ffecf": {
          "model_module": "@jupyter-widgets/controls",
          "model_name": "FloatProgressModel",
          "model_module_version": "1.5.0",
          "state": {
            "_view_name": "ProgressView",
            "style": "IPY_MODEL_5d8ebaf9f45c4cb2bf9de7a313ce11b3",
            "_dom_classes": [],
            "description": "",
            "_model_name": "FloatProgressModel",
            "bar_style": "success",
            "max": 250,
            "_view_module": "@jupyter-widgets/controls",
            "_model_module_version": "1.5.0",
            "value": 250,
            "_view_count": null,
            "_view_module_version": "1.5.0",
            "orientation": "horizontal",
            "min": 0,
            "description_tooltip": null,
            "_model_module": "@jupyter-widgets/controls",
            "layout": "IPY_MODEL_658efc4b72094a5a858f388f0654f92c"
          }
        },
        "89dbe7a2056b4e9383966f1aed41f718": {
          "model_module": "@jupyter-widgets/controls",
          "model_name": "HTMLModel",
          "model_module_version": "1.5.0",
          "state": {
            "_view_name": "HTMLView",
            "style": "IPY_MODEL_6c192dfdda874f49a10c61dd470950ed",
            "_dom_classes": [],
            "description": "",
            "_model_name": "HTMLModel",
            "placeholder": "​",
            "_view_module": "@jupyter-widgets/controls",
            "_model_module_version": "1.5.0",
            "value": " 250/250 [00:57&lt;00:00,  5.71it/s]",
            "_view_count": null,
            "_view_module_version": "1.5.0",
            "description_tooltip": null,
            "_model_module": "@jupyter-widgets/controls",
            "layout": "IPY_MODEL_942d7120a4084095bfdace8fe08774b2"
          }
        },
        "948395f713a2489ea3f11dc0e5905989": {
          "model_module": "@jupyter-widgets/controls",
          "model_name": "DescriptionStyleModel",
          "model_module_version": "1.5.0",
          "state": {
            "_view_name": "StyleView",
            "_model_name": "DescriptionStyleModel",
            "description_width": "",
            "_view_module": "@jupyter-widgets/base",
            "_model_module_version": "1.5.0",
            "_view_count": null,
            "_view_module_version": "1.2.0",
            "_model_module": "@jupyter-widgets/controls"
          }
        },
        "4d3e8fd49a1245b8a40e2fc280f03999": {
          "model_module": "@jupyter-widgets/base",
          "model_name": "LayoutModel",
          "model_module_version": "1.2.0",
          "state": {
            "_view_name": "LayoutView",
            "grid_template_rows": null,
            "right": null,
            "justify_content": null,
            "_view_module": "@jupyter-widgets/base",
            "overflow": null,
            "_model_module_version": "1.2.0",
            "_view_count": null,
            "flex_flow": null,
            "width": null,
            "min_width": null,
            "border": null,
            "align_items": null,
            "bottom": null,
            "_model_module": "@jupyter-widgets/base",
            "top": null,
            "grid_column": null,
            "overflow_y": null,
            "overflow_x": null,
            "grid_auto_flow": null,
            "grid_area": null,
            "grid_template_columns": null,
            "flex": null,
            "_model_name": "LayoutModel",
            "justify_items": null,
            "grid_row": null,
            "max_height": null,
            "align_content": null,
            "visibility": null,
            "align_self": null,
            "height": null,
            "min_height": null,
            "padding": null,
            "grid_auto_rows": null,
            "grid_gap": null,
            "max_width": null,
            "order": null,
            "_view_module_version": "1.2.0",
            "grid_template_areas": null,
            "object_position": null,
            "object_fit": null,
            "grid_auto_columns": null,
            "margin": null,
            "display": null,
            "left": null
          }
        },
        "5d8ebaf9f45c4cb2bf9de7a313ce11b3": {
          "model_module": "@jupyter-widgets/controls",
          "model_name": "ProgressStyleModel",
          "model_module_version": "1.5.0",
          "state": {
            "_view_name": "StyleView",
            "_model_name": "ProgressStyleModel",
            "description_width": "",
            "_view_module": "@jupyter-widgets/base",
            "_model_module_version": "1.5.0",
            "_view_count": null,
            "_view_module_version": "1.2.0",
            "bar_color": null,
            "_model_module": "@jupyter-widgets/controls"
          }
        },
        "658efc4b72094a5a858f388f0654f92c": {
          "model_module": "@jupyter-widgets/base",
          "model_name": "LayoutModel",
          "model_module_version": "1.2.0",
          "state": {
            "_view_name": "LayoutView",
            "grid_template_rows": null,
            "right": null,
            "justify_content": null,
            "_view_module": "@jupyter-widgets/base",
            "overflow": null,
            "_model_module_version": "1.2.0",
            "_view_count": null,
            "flex_flow": null,
            "width": null,
            "min_width": null,
            "border": null,
            "align_items": null,
            "bottom": null,
            "_model_module": "@jupyter-widgets/base",
            "top": null,
            "grid_column": null,
            "overflow_y": null,
            "overflow_x": null,
            "grid_auto_flow": null,
            "grid_area": null,
            "grid_template_columns": null,
            "flex": null,
            "_model_name": "LayoutModel",
            "justify_items": null,
            "grid_row": null,
            "max_height": null,
            "align_content": null,
            "visibility": null,
            "align_self": null,
            "height": null,
            "min_height": null,
            "padding": null,
            "grid_auto_rows": null,
            "grid_gap": null,
            "max_width": null,
            "order": null,
            "_view_module_version": "1.2.0",
            "grid_template_areas": null,
            "object_position": null,
            "object_fit": null,
            "grid_auto_columns": null,
            "margin": null,
            "display": null,
            "left": null
          }
        },
        "6c192dfdda874f49a10c61dd470950ed": {
          "model_module": "@jupyter-widgets/controls",
          "model_name": "DescriptionStyleModel",
          "model_module_version": "1.5.0",
          "state": {
            "_view_name": "StyleView",
            "_model_name": "DescriptionStyleModel",
            "description_width": "",
            "_view_module": "@jupyter-widgets/base",
            "_model_module_version": "1.5.0",
            "_view_count": null,
            "_view_module_version": "1.2.0",
            "_model_module": "@jupyter-widgets/controls"
          }
        },
        "942d7120a4084095bfdace8fe08774b2": {
          "model_module": "@jupyter-widgets/base",
          "model_name": "LayoutModel",
          "model_module_version": "1.2.0",
          "state": {
            "_view_name": "LayoutView",
            "grid_template_rows": null,
            "right": null,
            "justify_content": null,
            "_view_module": "@jupyter-widgets/base",
            "overflow": null,
            "_model_module_version": "1.2.0",
            "_view_count": null,
            "flex_flow": null,
            "width": null,
            "min_width": null,
            "border": null,
            "align_items": null,
            "bottom": null,
            "_model_module": "@jupyter-widgets/base",
            "top": null,
            "grid_column": null,
            "overflow_y": null,
            "overflow_x": null,
            "grid_auto_flow": null,
            "grid_area": null,
            "grid_template_columns": null,
            "flex": null,
            "_model_name": "LayoutModel",
            "justify_items": null,
            "grid_row": null,
            "max_height": null,
            "align_content": null,
            "visibility": null,
            "align_self": null,
            "height": null,
            "min_height": null,
            "padding": null,
            "grid_auto_rows": null,
            "grid_gap": null,
            "max_width": null,
            "order": null,
            "_view_module_version": "1.2.0",
            "grid_template_areas": null,
            "object_position": null,
            "object_fit": null,
            "grid_auto_columns": null,
            "margin": null,
            "display": null,
            "left": null
          }
        },
        "a4f84a997b8b4b829ebcb46a92b3878e": {
          "model_module": "@jupyter-widgets/controls",
          "model_name": "HBoxModel",
          "model_module_version": "1.5.0",
          "state": {
            "_view_name": "HBoxView",
            "_dom_classes": [],
            "_model_name": "HBoxModel",
            "_view_module": "@jupyter-widgets/controls",
            "_model_module_version": "1.5.0",
            "_view_count": null,
            "_view_module_version": "1.5.0",
            "box_style": "",
            "layout": "IPY_MODEL_d8ea28c043a84e1bb8f28879574f303f",
            "_model_module": "@jupyter-widgets/controls",
            "children": [
              "IPY_MODEL_65ac5f694f42427584e6c9dbab168768",
              "IPY_MODEL_db5e6cfcfc7d4b9da4f42d3f44440087",
              "IPY_MODEL_cee75a1701294f3bafd748c3e32393bb"
            ]
          }
        },
        "d8ea28c043a84e1bb8f28879574f303f": {
          "model_module": "@jupyter-widgets/base",
          "model_name": "LayoutModel",
          "model_module_version": "1.2.0",
          "state": {
            "_view_name": "LayoutView",
            "grid_template_rows": null,
            "right": null,
            "justify_content": null,
            "_view_module": "@jupyter-widgets/base",
            "overflow": null,
            "_model_module_version": "1.2.0",
            "_view_count": null,
            "flex_flow": null,
            "width": null,
            "min_width": null,
            "border": null,
            "align_items": null,
            "bottom": null,
            "_model_module": "@jupyter-widgets/base",
            "top": null,
            "grid_column": null,
            "overflow_y": null,
            "overflow_x": null,
            "grid_auto_flow": null,
            "grid_area": null,
            "grid_template_columns": null,
            "flex": null,
            "_model_name": "LayoutModel",
            "justify_items": null,
            "grid_row": null,
            "max_height": null,
            "align_content": null,
            "visibility": null,
            "align_self": null,
            "height": null,
            "min_height": null,
            "padding": null,
            "grid_auto_rows": null,
            "grid_gap": null,
            "max_width": null,
            "order": null,
            "_view_module_version": "1.2.0",
            "grid_template_areas": null,
            "object_position": null,
            "object_fit": null,
            "grid_auto_columns": null,
            "margin": null,
            "display": null,
            "left": null
          }
        },
        "65ac5f694f42427584e6c9dbab168768": {
          "model_module": "@jupyter-widgets/controls",
          "model_name": "HTMLModel",
          "model_module_version": "1.5.0",
          "state": {
            "_view_name": "HTMLView",
            "style": "IPY_MODEL_85855f91aeb34dd29c3e6863084bec2e",
            "_dom_classes": [],
            "description": "",
            "_model_name": "HTMLModel",
            "placeholder": "​",
            "_view_module": "@jupyter-widgets/controls",
            "_model_module_version": "1.5.0",
            "value": "Test Loss: 0.5795, Test Acc: 0.7207: 100%",
            "_view_count": null,
            "_view_module_version": "1.5.0",
            "description_tooltip": null,
            "_model_module": "@jupyter-widgets/controls",
            "layout": "IPY_MODEL_17dee6ac428746a09fdfdff51b87ded8"
          }
        },
        "db5e6cfcfc7d4b9da4f42d3f44440087": {
          "model_module": "@jupyter-widgets/controls",
          "model_name": "FloatProgressModel",
          "model_module_version": "1.5.0",
          "state": {
            "_view_name": "ProgressView",
            "style": "IPY_MODEL_83f61d747e4342488886aa4dd9c6bc97",
            "_dom_classes": [],
            "description": "",
            "_model_name": "FloatProgressModel",
            "bar_style": "success",
            "max": 313,
            "_view_module": "@jupyter-widgets/controls",
            "_model_module_version": "1.5.0",
            "value": 313,
            "_view_count": null,
            "_view_module_version": "1.5.0",
            "orientation": "horizontal",
            "min": 0,
            "description_tooltip": null,
            "_model_module": "@jupyter-widgets/controls",
            "layout": "IPY_MODEL_c386c802232042e5917368746f06160a"
          }
        },
        "cee75a1701294f3bafd748c3e32393bb": {
          "model_module": "@jupyter-widgets/controls",
          "model_name": "HTMLModel",
          "model_module_version": "1.5.0",
          "state": {
            "_view_name": "HTMLView",
            "style": "IPY_MODEL_f766ccb9f6c7438eb5382fdff4bd5fdf",
            "_dom_classes": [],
            "description": "",
            "_model_name": "HTMLModel",
            "placeholder": "​",
            "_view_module": "@jupyter-widgets/controls",
            "_model_module_version": "1.5.0",
            "value": " 313/313 [01:12&lt;00:00,  5.10it/s]",
            "_view_count": null,
            "_view_module_version": "1.5.0",
            "description_tooltip": null,
            "_model_module": "@jupyter-widgets/controls",
            "layout": "IPY_MODEL_031bd01ef0774a4bb3aaa72a5404ca05"
          }
        },
        "85855f91aeb34dd29c3e6863084bec2e": {
          "model_module": "@jupyter-widgets/controls",
          "model_name": "DescriptionStyleModel",
          "model_module_version": "1.5.0",
          "state": {
            "_view_name": "StyleView",
            "_model_name": "DescriptionStyleModel",
            "description_width": "",
            "_view_module": "@jupyter-widgets/base",
            "_model_module_version": "1.5.0",
            "_view_count": null,
            "_view_module_version": "1.2.0",
            "_model_module": "@jupyter-widgets/controls"
          }
        },
        "17dee6ac428746a09fdfdff51b87ded8": {
          "model_module": "@jupyter-widgets/base",
          "model_name": "LayoutModel",
          "model_module_version": "1.2.0",
          "state": {
            "_view_name": "LayoutView",
            "grid_template_rows": null,
            "right": null,
            "justify_content": null,
            "_view_module": "@jupyter-widgets/base",
            "overflow": null,
            "_model_module_version": "1.2.0",
            "_view_count": null,
            "flex_flow": null,
            "width": null,
            "min_width": null,
            "border": null,
            "align_items": null,
            "bottom": null,
            "_model_module": "@jupyter-widgets/base",
            "top": null,
            "grid_column": null,
            "overflow_y": null,
            "overflow_x": null,
            "grid_auto_flow": null,
            "grid_area": null,
            "grid_template_columns": null,
            "flex": null,
            "_model_name": "LayoutModel",
            "justify_items": null,
            "grid_row": null,
            "max_height": null,
            "align_content": null,
            "visibility": null,
            "align_self": null,
            "height": null,
            "min_height": null,
            "padding": null,
            "grid_auto_rows": null,
            "grid_gap": null,
            "max_width": null,
            "order": null,
            "_view_module_version": "1.2.0",
            "grid_template_areas": null,
            "object_position": null,
            "object_fit": null,
            "grid_auto_columns": null,
            "margin": null,
            "display": null,
            "left": null
          }
        },
        "83f61d747e4342488886aa4dd9c6bc97": {
          "model_module": "@jupyter-widgets/controls",
          "model_name": "ProgressStyleModel",
          "model_module_version": "1.5.0",
          "state": {
            "_view_name": "StyleView",
            "_model_name": "ProgressStyleModel",
            "description_width": "",
            "_view_module": "@jupyter-widgets/base",
            "_model_module_version": "1.5.0",
            "_view_count": null,
            "_view_module_version": "1.2.0",
            "bar_color": null,
            "_model_module": "@jupyter-widgets/controls"
          }
        },
        "c386c802232042e5917368746f06160a": {
          "model_module": "@jupyter-widgets/base",
          "model_name": "LayoutModel",
          "model_module_version": "1.2.0",
          "state": {
            "_view_name": "LayoutView",
            "grid_template_rows": null,
            "right": null,
            "justify_content": null,
            "_view_module": "@jupyter-widgets/base",
            "overflow": null,
            "_model_module_version": "1.2.0",
            "_view_count": null,
            "flex_flow": null,
            "width": null,
            "min_width": null,
            "border": null,
            "align_items": null,
            "bottom": null,
            "_model_module": "@jupyter-widgets/base",
            "top": null,
            "grid_column": null,
            "overflow_y": null,
            "overflow_x": null,
            "grid_auto_flow": null,
            "grid_area": null,
            "grid_template_columns": null,
            "flex": null,
            "_model_name": "LayoutModel",
            "justify_items": null,
            "grid_row": null,
            "max_height": null,
            "align_content": null,
            "visibility": null,
            "align_self": null,
            "height": null,
            "min_height": null,
            "padding": null,
            "grid_auto_rows": null,
            "grid_gap": null,
            "max_width": null,
            "order": null,
            "_view_module_version": "1.2.0",
            "grid_template_areas": null,
            "object_position": null,
            "object_fit": null,
            "grid_auto_columns": null,
            "margin": null,
            "display": null,
            "left": null
          }
        },
        "f766ccb9f6c7438eb5382fdff4bd5fdf": {
          "model_module": "@jupyter-widgets/controls",
          "model_name": "DescriptionStyleModel",
          "model_module_version": "1.5.0",
          "state": {
            "_view_name": "StyleView",
            "_model_name": "DescriptionStyleModel",
            "description_width": "",
            "_view_module": "@jupyter-widgets/base",
            "_model_module_version": "1.5.0",
            "_view_count": null,
            "_view_module_version": "1.2.0",
            "_model_module": "@jupyter-widgets/controls"
          }
        },
        "031bd01ef0774a4bb3aaa72a5404ca05": {
          "model_module": "@jupyter-widgets/base",
          "model_name": "LayoutModel",
          "model_module_version": "1.2.0",
          "state": {
            "_view_name": "LayoutView",
            "grid_template_rows": null,
            "right": null,
            "justify_content": null,
            "_view_module": "@jupyter-widgets/base",
            "overflow": null,
            "_model_module_version": "1.2.0",
            "_view_count": null,
            "flex_flow": null,
            "width": null,
            "min_width": null,
            "border": null,
            "align_items": null,
            "bottom": null,
            "_model_module": "@jupyter-widgets/base",
            "top": null,
            "grid_column": null,
            "overflow_y": null,
            "overflow_x": null,
            "grid_auto_flow": null,
            "grid_area": null,
            "grid_template_columns": null,
            "flex": null,
            "_model_name": "LayoutModel",
            "justify_items": null,
            "grid_row": null,
            "max_height": null,
            "align_content": null,
            "visibility": null,
            "align_self": null,
            "height": null,
            "min_height": null,
            "padding": null,
            "grid_auto_rows": null,
            "grid_gap": null,
            "max_width": null,
            "order": null,
            "_view_module_version": "1.2.0",
            "grid_template_areas": null,
            "object_position": null,
            "object_fit": null,
            "grid_auto_columns": null,
            "margin": null,
            "display": null,
            "left": null
          }
        }
      }
    }
  },
  "cells": [
    {
      "cell_type": "markdown",
      "metadata": {
        "id": "Ot3c4fjZwC4T"
      },
      "source": [
        "<img src=\"https://s8.hostingkartinok.com/uploads/images/2018/08/308b49fcfbc619d629fe4604bceb67ac.jpg\" width=500, height=450>\n",
        "<h3 style=\"text-align: center;\"><b>Физтех-Школа Прикладной математики и информатики (ФПМИ) МФТИ</b></h3>"
      ]
    },
    {
      "cell_type": "markdown",
      "metadata": {
        "id": "P2JdzEXmwRU5"
      },
      "source": [
        "---"
      ]
    },
    {
      "cell_type": "markdown",
      "metadata": {
        "id": "eYtJxkhKpYK2"
      },
      "source": [
        "# Embeddings\n",
        "\n",
        "Привет! В этом домашнем задании мы с помощью эмбеддингов решим задачу семантической классификации твитов.\n",
        "\n",
        "Для этого мы воспользуемся предобученными эмбеддингами word2vec."
      ]
    },
    {
      "cell_type": "markdown",
      "metadata": {
        "id": "jBOdoFS8AdpP"
      },
      "source": [
        "Для начала скачаем датасет для семантической классификации твитов:"
      ]
    },
    {
      "cell_type": "code",
      "metadata": {
        "id": "wXjhtsfF_gBK",
        "colab": {
          "base_uri": "https://localhost:8080/"
        },
        "outputId": "3feda4a0-ddbe-4340-b798-69ae2509ca8b"
      },
      "source": [
        "!gdown https://drive.google.com/uc?id=1eE1FiUkXkcbw0McId4i7qY-L8hH-_Qph&export=download\n",
        "!unzip archive.zip"
      ],
      "execution_count": 1,
      "outputs": [
        {
          "output_type": "stream",
          "name": "stdout",
          "text": [
            "Downloading...\n",
            "From: https://drive.google.com/uc?id=1eE1FiUkXkcbw0McId4i7qY-L8hH-_Qph\n",
            "To: /content/archive.zip\n",
            "100% 84.9M/84.9M [00:00<00:00, 182MB/s]\n",
            "Archive:  archive.zip\n",
            "  inflating: training.1600000.processed.noemoticon.csv  \n"
          ]
        }
      ]
    },
    {
      "cell_type": "markdown",
      "metadata": {
        "id": "Sh6wW-K53Mle"
      },
      "source": [
        "Импортируем нужные библиотеки:"
      ]
    },
    {
      "cell_type": "code",
      "metadata": {
        "id": "A2Y5CHRm6NFe"
      },
      "source": [
        "import math\n",
        "import random\n",
        "import string\n",
        "\n",
        "import numpy as np\n",
        "import pandas as pd\n",
        "import seaborn as sns\n",
        "\n",
        "import torch\n",
        "import nltk\n",
        "import gensim\n",
        "import gensim.downloader as api"
      ],
      "execution_count": 1,
      "outputs": []
    },
    {
      "cell_type": "code",
      "metadata": {
        "id": "73Lb0wbESrgQ"
      },
      "source": [
        "random.seed(42)\n",
        "np.random.seed(42)\n",
        "torch.random.manual_seed(42)\n",
        "torch.cuda.random.manual_seed(42)\n",
        "torch.cuda.random.manual_seed_all(42)\n",
        "\n",
        "device = \"cuda\" if torch.cuda.is_available() else \"cpu\""
      ],
      "execution_count": 2,
      "outputs": []
    },
    {
      "cell_type": "code",
      "metadata": {
        "id": "L_Wv-4bu83Fl"
      },
      "source": [
        "data = pd.read_csv(\"training.1600000.processed.noemoticon.csv\", encoding=\"latin\", header=None, names=[\"emotion\", \"id\", \"date\", \"flag\", \"user\", \"text\"])"
      ],
      "execution_count": 3,
      "outputs": []
    },
    {
      "cell_type": "markdown",
      "metadata": {
        "id": "RY1pvYDS3Yuj"
      },
      "source": [
        "Посмотрим на данные:"
      ]
    },
    {
      "cell_type": "code",
      "metadata": {
        "id": "jST2tjgjCTWD",
        "colab": {
          "base_uri": "https://localhost:8080/",
          "height": 204
        },
        "outputId": "1b7e6586-e1d3-447c-9b05-628d3f434226"
      },
      "source": [
        "data.head()"
      ],
      "execution_count": 4,
      "outputs": [
        {
          "output_type": "execute_result",
          "data": {
            "text/html": [
              "<div>\n",
              "<style scoped>\n",
              "    .dataframe tbody tr th:only-of-type {\n",
              "        vertical-align: middle;\n",
              "    }\n",
              "\n",
              "    .dataframe tbody tr th {\n",
              "        vertical-align: top;\n",
              "    }\n",
              "\n",
              "    .dataframe thead th {\n",
              "        text-align: right;\n",
              "    }\n",
              "</style>\n",
              "<table border=\"1\" class=\"dataframe\">\n",
              "  <thead>\n",
              "    <tr style=\"text-align: right;\">\n",
              "      <th></th>\n",
              "      <th>emotion</th>\n",
              "      <th>id</th>\n",
              "      <th>date</th>\n",
              "      <th>flag</th>\n",
              "      <th>user</th>\n",
              "      <th>text</th>\n",
              "    </tr>\n",
              "  </thead>\n",
              "  <tbody>\n",
              "    <tr>\n",
              "      <th>0</th>\n",
              "      <td>0</td>\n",
              "      <td>1467810369</td>\n",
              "      <td>Mon Apr 06 22:19:45 PDT 2009</td>\n",
              "      <td>NO_QUERY</td>\n",
              "      <td>_TheSpecialOne_</td>\n",
              "      <td>@switchfoot http://twitpic.com/2y1zl - Awww, t...</td>\n",
              "    </tr>\n",
              "    <tr>\n",
              "      <th>1</th>\n",
              "      <td>0</td>\n",
              "      <td>1467810672</td>\n",
              "      <td>Mon Apr 06 22:19:49 PDT 2009</td>\n",
              "      <td>NO_QUERY</td>\n",
              "      <td>scotthamilton</td>\n",
              "      <td>is upset that he can't update his Facebook by ...</td>\n",
              "    </tr>\n",
              "    <tr>\n",
              "      <th>2</th>\n",
              "      <td>0</td>\n",
              "      <td>1467810917</td>\n",
              "      <td>Mon Apr 06 22:19:53 PDT 2009</td>\n",
              "      <td>NO_QUERY</td>\n",
              "      <td>mattycus</td>\n",
              "      <td>@Kenichan I dived many times for the ball. Man...</td>\n",
              "    </tr>\n",
              "    <tr>\n",
              "      <th>3</th>\n",
              "      <td>0</td>\n",
              "      <td>1467811184</td>\n",
              "      <td>Mon Apr 06 22:19:57 PDT 2009</td>\n",
              "      <td>NO_QUERY</td>\n",
              "      <td>ElleCTF</td>\n",
              "      <td>my whole body feels itchy and like its on fire</td>\n",
              "    </tr>\n",
              "    <tr>\n",
              "      <th>4</th>\n",
              "      <td>0</td>\n",
              "      <td>1467811193</td>\n",
              "      <td>Mon Apr 06 22:19:57 PDT 2009</td>\n",
              "      <td>NO_QUERY</td>\n",
              "      <td>Karoli</td>\n",
              "      <td>@nationwideclass no, it's not behaving at all....</td>\n",
              "    </tr>\n",
              "  </tbody>\n",
              "</table>\n",
              "</div>"
            ],
            "text/plain": [
              "   emotion  ...                                               text\n",
              "0        0  ...  @switchfoot http://twitpic.com/2y1zl - Awww, t...\n",
              "1        0  ...  is upset that he can't update his Facebook by ...\n",
              "2        0  ...  @Kenichan I dived many times for the ball. Man...\n",
              "3        0  ...    my whole body feels itchy and like its on fire \n",
              "4        0  ...  @nationwideclass no, it's not behaving at all....\n",
              "\n",
              "[5 rows x 6 columns]"
            ]
          },
          "metadata": {},
          "execution_count": 4
        }
      ]
    },
    {
      "cell_type": "markdown",
      "metadata": {
        "id": "OhbR5JJyA2VW"
      },
      "source": [
        "Выведем несколько примеров твитов, чтобы понимать, с чем мы имеем дело:"
      ]
    },
    {
      "cell_type": "code",
      "metadata": {
        "id": "kCBwe0wR83C2",
        "colab": {
          "base_uri": "https://localhost:8080/"
        },
        "outputId": "aa75c371-98c2-4fa1-eead-304933a83d70"
      },
      "source": [
        "examples = data[\"text\"].sample(10)\n",
        "print(\"\\n\".join(examples))"
      ],
      "execution_count": 5,
      "outputs": [
        {
          "output_type": "stream",
          "name": "stdout",
          "text": [
            "@chrishasboobs AHHH I HOPE YOUR OK!!! \n",
            "@misstoriblack cool , i have no tweet apps  for my razr 2\n",
            "@TiannaChaos i know  just family drama. its lame.hey next time u hang out with kim n u guys like have a sleepover or whatever, ill call u\n",
            "School email won't open  and I have geography stuff on there to revise! *Stupid School* :'(\n",
            "upper airways problem \n",
            "Going to miss Pastor's sermon on Faith... \n",
            "on lunch....dj should come eat with me \n",
            "@piginthepoke oh why are you feeling like that? \n",
            "gahh noo!peyton needs to live!this is horrible \n",
            "@mrstessyman thank you glad you like it! There is a product review bit on the site  Enjoy knitting it!\n"
          ]
        }
      ]
    },
    {
      "cell_type": "markdown",
      "metadata": {
        "id": "GvcYW8aX3mKt"
      },
      "source": [
        "Как вилим, тексты твитов очень \"грязные\". Нужно предобработать датасет, прежде чем строить для него модель классификации.\n",
        "\n",
        "Чтобы сравнивать различные методы обработки текста/модели/прочее, разделим датасет на dev(для обучения модели) и test(для получения качества модели)."
      ]
    },
    {
      "cell_type": "code",
      "metadata": {
        "id": "f8hUK-jnQg6O"
      },
      "source": [
        "indexes = np.arange(data.shape[0])\n",
        "np.random.shuffle(indexes)\n",
        "dev_size = math.ceil(data.shape[0] * 0.8)\n",
        "\n",
        "dev_indexes = indexes[:dev_size]\n",
        "test_indexes = indexes[dev_size:]\n",
        "\n",
        "dev_data = data.iloc[dev_indexes]\n",
        "test_data = data.iloc[test_indexes]\n",
        "\n",
        "dev_data.reset_index(drop=True, inplace=True)\n",
        "test_data.reset_index(drop=True, inplace=True)"
      ],
      "execution_count": 6,
      "outputs": []
    },
    {
      "cell_type": "markdown",
      "metadata": {
        "id": "6ivcpeFoCnZA"
      },
      "source": [
        "## Обработка текста"
      ]
    },
    {
      "cell_type": "markdown",
      "metadata": {
        "id": "Df4nca285Dar"
      },
      "source": [
        "Токенизируем текст, избавимся от знаков пунктуации и выкинем все слова, состоящие менее чем из 4 букв:"
      ]
    },
    {
      "cell_type": "code",
      "metadata": {
        "id": "nsNHNDES9ZVF",
        "colab": {
          "base_uri": "https://localhost:8080/"
        },
        "outputId": "e2b876f0-0c2f-4c0b-e12c-2587bee2c4ce"
      },
      "source": [
        "tokenizer = nltk.WordPunctTokenizer()\n",
        "line = tokenizer.tokenize(dev_data[\"text\"][0].lower())\n",
        "print(\" \".join(line))"
      ],
      "execution_count": 7,
      "outputs": [
        {
          "output_type": "stream",
          "name": "stdout",
          "text": [
            "@ claire_nelson i ' m on the north devon coast the next few weeks will be down in devon again in may sometime i hope though !\n"
          ]
        }
      ]
    },
    {
      "cell_type": "code",
      "metadata": {
        "id": "GcBS_u_hTuxp",
        "colab": {
          "base_uri": "https://localhost:8080/"
        },
        "outputId": "5d8c00a7-6550-4146-a6e8-edea7547bed6"
      },
      "source": [
        "filtered_line = [w for w in line if all(c not in string.punctuation for c in w) and len(w) > 3]\n",
        "print(\" \".join(filtered_line))"
      ],
      "execution_count": 8,
      "outputs": [
        {
          "output_type": "stream",
          "name": "stdout",
          "text": [
            "north devon coast next weeks will down devon again sometime hope though\n"
          ]
        }
      ]
    },
    {
      "cell_type": "markdown",
      "metadata": {
        "id": "cuFmlXkC6E7X"
      },
      "source": [
        "Загрузим предобученную модель эмбеддингов. \n",
        "\n",
        "Если хотите, можно попробовать другую. Полный список можно найти здесь: https://github.com/RaRe-Technologies/gensim-data.\n",
        "\n",
        "Данная модель выдает эмбеддинги для **слов**. Строить по эмбеддингам слов эмбеддинги предложений мы будем ниже."
      ]
    },
    {
      "cell_type": "code",
      "metadata": {
        "id": "cACJpje2T5bc"
      },
      "source": [
        "word2vec = api.load(\"glove-wiki-gigaword-300\") #\"word2vec-google-news-300\""
      ],
      "execution_count": 9,
      "outputs": []
    },
    {
      "cell_type": "code",
      "metadata": {
        "id": "NafmYHrkT5YD",
        "colab": {
          "base_uri": "https://localhost:8080/"
        },
        "outputId": "45b9b480-0c0c-4dc0-c768-9bc820bda432"
      },
      "source": [
        "emb_line = [word2vec.get_vector(w) for w in filtered_line if w in word2vec]\n",
        "print(sum(emb_line).shape)"
      ],
      "execution_count": 10,
      "outputs": [
        {
          "output_type": "stream",
          "name": "stdout",
          "text": [
            "(300,)\n"
          ]
        }
      ]
    },
    {
      "cell_type": "markdown",
      "metadata": {
        "id": "LTS6LCkd6_E7"
      },
      "source": [
        "Нормализуем эмбеддинги, прежде чем обучать на них сеть. \n",
        "(наверное, вы помните, что нейронные сети гораздо лучше обучаются на нормализованных данных)"
      ]
    },
    {
      "cell_type": "code",
      "metadata": {
        "id": "3PyLTZ6xf3Oq",
        "colab": {
          "base_uri": "https://localhost:8080/"
        },
        "outputId": "10c3b052-a229-4165-c8df-80fb8712774d"
      },
      "source": [
        "mean = np.mean(word2vec.vectors, 0)\n",
        "std = np.std(word2vec.vectors, 0)\n",
        "norm_emb_line = [(word2vec.get_vector(w) - mean) / std for w in filtered_line if w in word2vec and len(w) > 3]\n",
        "print(sum(norm_emb_line).shape)\n",
        "print([all(norm_emb_line[i] == emb_line[i]) for i in range(len(emb_line))])"
      ],
      "execution_count": 11,
      "outputs": [
        {
          "output_type": "stream",
          "name": "stdout",
          "text": [
            "(300,)\n",
            "[False, False, False, False, False, False, False, False, False, False, False, False]\n"
          ]
        }
      ]
    },
    {
      "cell_type": "markdown",
      "metadata": {
        "id": "q7vm6Ppd7Ubw"
      },
      "source": [
        "Сделаем датасет, который будет по запросу возвращать подготовленные данные."
      ]
    },
    {
      "cell_type": "code",
      "metadata": {
        "id": "b4eZajF7pZ1X"
      },
      "source": [
        "from torch.utils.data import Dataset, random_split\n",
        "\n",
        "\n",
        "class TwitterDataset(Dataset):\n",
        "    def __init__(self, data: pd.DataFrame, feature_column: str, target_column: str, word2vec: gensim.models.Word2Vec):\n",
        "        self.tokenizer = nltk.WordPunctTokenizer()\n",
        "        \n",
        "        self.data = data\n",
        "\n",
        "        self.feature_column = feature_column\n",
        "        self.target_column = target_column\n",
        "\n",
        "        self.word2vec = word2vec\n",
        "\n",
        "        self.label2num = lambda label: 0 if label == 0 else 1\n",
        "        self.mean = np.mean(word2vec.vectors, axis=0)\n",
        "        self.std = np.std(word2vec.vectors, axis=0)\n",
        "\n",
        "    def __getitem__(self, item):\n",
        "        text = self.data[self.feature_column][item]\n",
        "        label = self.label2num(self.data[self.target_column][item])\n",
        "\n",
        "        tokens = self.get_tokens_(text)\n",
        "        embeddings = self.get_embeddings_(tokens)\n",
        "\n",
        "        return {\"feature\": embeddings, \"target\": label}\n",
        "\n",
        "  \n",
        "\n",
        "    def get_tokens_(self, text):\n",
        "        # Получи все токены из текста и профильтруй их\n",
        "        line = self.tokenizer.tokenize(text.lower())\n",
        "        filtered_line = [w for w in line if all(c not in string.punctuation+'@' for c in w) and len(w) > 3 and (w in self.word2vec)] # добавим к символам пунктуации симвл \"@\", чтобы убрать ники пользователей \n",
        "        return filtered_line\n",
        "\n",
        "    def get_embeddings_(self, tokens):\n",
        "        # Получи эмбеддинги слов и усредни их\n",
        "        if len(tokens) == 0:\n",
        "          return np.zeros_like(self.get_embeddings_('next'))\n",
        "        embeddings = np.array([(w - self.mean)/self.std for w in self.word2vec[tokens]])\n",
        "        return embeddings\n",
        "\n",
        "\n",
        "        #if len(embeddings) == 0:\n",
        "           # embeddings = np.zeros((1, self.word2vec.vector_size))\n",
        "       # else:\n",
        "          #  embeddings = np.array(embeddings)\n",
        "          #  if len(embeddings.shape) == 1:\n",
        "              #  embeddings = embeddings.reshape(-1, 1)\n",
        "\n",
        "        return embeddings\n",
        "\n",
        "    def __len__(self):\n",
        "        return self.data.shape[0]"
      ],
      "execution_count": 12,
      "outputs": []
    },
    {
      "cell_type": "code",
      "metadata": {
        "id": "IZJpttbXpZyz"
      },
      "source": [
        "dev = TwitterDataset(dev_data, \"text\", \"emotion\", word2vec)"
      ],
      "execution_count": 27,
      "outputs": []
    },
    {
      "cell_type": "markdown",
      "metadata": {
        "id": "Sr-aetH0_LH1"
      },
      "source": [
        "Отлично, мы готовы с помощью эмбеддингов слов превращать твиты в векторы и обучать нейронную сеть.\n",
        "\n",
        "Превращать твиты в векторы, используя эмбеддинги слов, можно несколькими способами. А именно такими:"
      ]
    },
    {
      "cell_type": "markdown",
      "metadata": {
        "id": "4AhHrWa196Yc"
      },
      "source": [
        "## Average embedding (2 балла)\n",
        "---\n",
        "Это самый простой вариант, как получить вектор предложения, используя векторные представления слов в предложении. А именно: вектор предложения есть средний вектор всех слов в предлоежнии (которые остались после токенизации и удаления коротких слов, конечно). "
      ]
    },
    {
      "cell_type": "code",
      "metadata": {
        "id": "ScdokSW-994t",
        "colab": {
          "base_uri": "https://localhost:8080/"
        },
        "outputId": "9f4a7a7f-2e9b-4e3e-9624-81f4b5947c87"
      },
      "source": [
        "indexes = np.arange(len(dev))\n",
        "np.random.shuffle(indexes)\n",
        "example_indexes = indexes[::1000]\n",
        "\n",
        "examples = {\"features\": [np.sum(dev[i][\"feature\"], axis=0) for i in example_indexes], \n",
        "            \"targets\": [dev[i][\"target\"] for i in example_indexes]}\n",
        "print(len(examples[\"features\"]))"
      ],
      "execution_count": 28,
      "outputs": [
        {
          "output_type": "stream",
          "name": "stdout",
          "text": [
            "1280\n"
          ]
        }
      ]
    },
    {
      "cell_type": "markdown",
      "metadata": {
        "id": "1yGQ_lOx_1NL"
      },
      "source": [
        "Давайте сделаем визуализацию полученных векторов твитов тренировочного (dev) датасета. Так мы увидим, насколько хорошо твиты с разными target значениями отделяются друг от друга, т.е. насколько хорошо усреднение эмбеддингов слов предложения передает информацию о предложении."
      ]
    },
    {
      "cell_type": "markdown",
      "metadata": {
        "id": "LZwFksd_8uYO"
      },
      "source": [
        "Для визуализации векторов надо получить их проекцию на плоскость. Сделаем это с помощью `PCA`. Если хотите, можете вместо PCA использовать TSNE: так у вас получится более точная проекция на плоскость (а значит, более информативная, т.е. отражающая реальное положение векторов твитов в пространстве). Но TSNE будет работать намного дольше."
      ]
    },
    {
      "cell_type": "code",
      "metadata": {
        "id": "aKFZRSHdtIac"
      },
      "source": [
        "from sklearn.decomposition import PCA\n",
        "\n",
        "\n",
        "pca = PCA(n_components=2)\n",
        "pca.fit(examples['features'])\n",
        "examples[\"transformed_features\"] = pca.transform(examples['features']) # Обучи PCA на эмбеддингах слов"
      ],
      "execution_count": 29,
      "outputs": []
    },
    {
      "cell_type": "code",
      "metadata": {
        "id": "szEOWdiNtIX8"
      },
      "source": [
        "import bokeh.models as bm, bokeh.plotting as pl\n",
        "from bokeh.io import output_notebook\n",
        "output_notebook()\n",
        "\n",
        "def draw_vectors(x, y, radius=10, alpha=0.25, color='blue',\n",
        "                 width=600, height=400, show=True, **kwargs):\n",
        "    \"\"\" draws an interactive plot for data points with auxilirary info on hover \"\"\"\n",
        "    data_source = bm.ColumnDataSource({ 'x' : x, 'y' : y, 'color': color, **kwargs })\n",
        "\n",
        "    fig = pl.figure(active_scroll='wheel_zoom', width=width, height=height)\n",
        "    fig.scatter('x', 'y', size=radius, color='color', alpha=alpha, source=data_source)\n",
        "\n",
        "    fig.add_tools(bm.HoverTool(tooltips=[(key, \"@\" + key) for key in kwargs.keys()]))\n",
        "    if show: pl.show(fig)\n",
        "    return fig"
      ],
      "execution_count": 30,
      "outputs": []
    },
    {
      "cell_type": "code",
      "metadata": {
        "id": "7OONK8ldtIWe",
        "colab": {
          "base_uri": "https://localhost:8080/",
          "height": 434
        },
        "outputId": "7f01246b-bfc2-43ce-cc33-5bcaac5695e3"
      },
      "source": [
        "draw_vectors(\n",
        "    examples[\"transformed_features\"][:, 0], \n",
        "    examples[\"transformed_features\"][:, 1], \n",
        "    color=[[\"red\", \"blue\"][t] for t in examples[\"targets\"]]\n",
        "    )"
      ],
      "execution_count": 31,
      "outputs": [
        {
          "output_type": "display_data",
          "data": {
            "application/javascript": [
              "\n",
              "(function(root) {\n",
              "  function now() {\n",
              "    return new Date();\n",
              "  }\n",
              "\n",
              "  var force = true;\n",
              "\n",
              "  if (typeof root._bokeh_onload_callbacks === \"undefined\" || force === true) {\n",
              "    root._bokeh_onload_callbacks = [];\n",
              "    root._bokeh_is_loading = undefined;\n",
              "  }\n",
              "\n",
              "  var JS_MIME_TYPE = 'application/javascript';\n",
              "  var HTML_MIME_TYPE = 'text/html';\n",
              "  var EXEC_MIME_TYPE = 'application/vnd.bokehjs_exec.v0+json';\n",
              "  var CLASS_NAME = 'output_bokeh rendered_html';\n",
              "\n",
              "  /**\n",
              "   * Render data to the DOM node\n",
              "   */\n",
              "  function render(props, node) {\n",
              "    var script = document.createElement(\"script\");\n",
              "    node.appendChild(script);\n",
              "  }\n",
              "\n",
              "  /**\n",
              "   * Handle when an output is cleared or removed\n",
              "   */\n",
              "  function handleClearOutput(event, handle) {\n",
              "    var cell = handle.cell;\n",
              "\n",
              "    var id = cell.output_area._bokeh_element_id;\n",
              "    var server_id = cell.output_area._bokeh_server_id;\n",
              "    // Clean up Bokeh references\n",
              "    if (id != null && id in Bokeh.index) {\n",
              "      Bokeh.index[id].model.document.clear();\n",
              "      delete Bokeh.index[id];\n",
              "    }\n",
              "\n",
              "    if (server_id !== undefined) {\n",
              "      // Clean up Bokeh references\n",
              "      var cmd = \"from bokeh.io.state import curstate; print(curstate().uuid_to_server['\" + server_id + \"'].get_sessions()[0].document.roots[0]._id)\";\n",
              "      cell.notebook.kernel.execute(cmd, {\n",
              "        iopub: {\n",
              "          output: function(msg) {\n",
              "            var id = msg.content.text.trim();\n",
              "            if (id in Bokeh.index) {\n",
              "              Bokeh.index[id].model.document.clear();\n",
              "              delete Bokeh.index[id];\n",
              "            }\n",
              "          }\n",
              "        }\n",
              "      });\n",
              "      // Destroy server and session\n",
              "      var cmd = \"import bokeh.io.notebook as ion; ion.destroy_server('\" + server_id + \"')\";\n",
              "      cell.notebook.kernel.execute(cmd);\n",
              "    }\n",
              "  }\n",
              "\n",
              "  /**\n",
              "   * Handle when a new output is added\n",
              "   */\n",
              "  function handleAddOutput(event, handle) {\n",
              "    var output_area = handle.output_area;\n",
              "    var output = handle.output;\n",
              "\n",
              "    // limit handleAddOutput to display_data with EXEC_MIME_TYPE content only\n",
              "    if ((output.output_type != \"display_data\") || (!Object.prototype.hasOwnProperty.call(output.data, EXEC_MIME_TYPE))) {\n",
              "      return\n",
              "    }\n",
              "\n",
              "    var toinsert = output_area.element.find(\".\" + CLASS_NAME.split(' ')[0]);\n",
              "\n",
              "    if (output.metadata[EXEC_MIME_TYPE][\"id\"] !== undefined) {\n",
              "      toinsert[toinsert.length - 1].firstChild.textContent = output.data[JS_MIME_TYPE];\n",
              "      // store reference to embed id on output_area\n",
              "      output_area._bokeh_element_id = output.metadata[EXEC_MIME_TYPE][\"id\"];\n",
              "    }\n",
              "    if (output.metadata[EXEC_MIME_TYPE][\"server_id\"] !== undefined) {\n",
              "      var bk_div = document.createElement(\"div\");\n",
              "      bk_div.innerHTML = output.data[HTML_MIME_TYPE];\n",
              "      var script_attrs = bk_div.children[0].attributes;\n",
              "      for (var i = 0; i < script_attrs.length; i++) {\n",
              "        toinsert[toinsert.length - 1].firstChild.setAttribute(script_attrs[i].name, script_attrs[i].value);\n",
              "        toinsert[toinsert.length - 1].firstChild.textContent = bk_div.children[0].textContent\n",
              "      }\n",
              "      // store reference to server id on output_area\n",
              "      output_area._bokeh_server_id = output.metadata[EXEC_MIME_TYPE][\"server_id\"];\n",
              "    }\n",
              "  }\n",
              "\n",
              "  function register_renderer(events, OutputArea) {\n",
              "\n",
              "    function append_mime(data, metadata, element) {\n",
              "      // create a DOM node to render to\n",
              "      var toinsert = this.create_output_subarea(\n",
              "        metadata,\n",
              "        CLASS_NAME,\n",
              "        EXEC_MIME_TYPE\n",
              "      );\n",
              "      this.keyboard_manager.register_events(toinsert);\n",
              "      // Render to node\n",
              "      var props = {data: data, metadata: metadata[EXEC_MIME_TYPE]};\n",
              "      render(props, toinsert[toinsert.length - 1]);\n",
              "      element.append(toinsert);\n",
              "      return toinsert\n",
              "    }\n",
              "\n",
              "    /* Handle when an output is cleared or removed */\n",
              "    events.on('clear_output.CodeCell', handleClearOutput);\n",
              "    events.on('delete.Cell', handleClearOutput);\n",
              "\n",
              "    /* Handle when a new output is added */\n",
              "    events.on('output_added.OutputArea', handleAddOutput);\n",
              "\n",
              "    /**\n",
              "     * Register the mime type and append_mime function with output_area\n",
              "     */\n",
              "    OutputArea.prototype.register_mime_type(EXEC_MIME_TYPE, append_mime, {\n",
              "      /* Is output safe? */\n",
              "      safe: true,\n",
              "      /* Index of renderer in `output_area.display_order` */\n",
              "      index: 0\n",
              "    });\n",
              "  }\n",
              "\n",
              "  // register the mime type if in Jupyter Notebook environment and previously unregistered\n",
              "  if (root.Jupyter !== undefined) {\n",
              "    var events = require('base/js/events');\n",
              "    var OutputArea = require('notebook/js/outputarea').OutputArea;\n",
              "\n",
              "    if (OutputArea.prototype.mime_types().indexOf(EXEC_MIME_TYPE) == -1) {\n",
              "      register_renderer(events, OutputArea);\n",
              "    }\n",
              "  }\n",
              "\n",
              "  \n",
              "  if (typeof (root._bokeh_timeout) === \"undefined\" || force === true) {\n",
              "    root._bokeh_timeout = Date.now() + 5000;\n",
              "    root._bokeh_failed_load = false;\n",
              "  }\n",
              "\n",
              "  var NB_LOAD_WARNING = {'data': {'text/html':\n",
              "     \"<div style='background-color: #fdd'>\\n\"+\n",
              "     \"<p>\\n\"+\n",
              "     \"BokehJS does not appear to have successfully loaded. If loading BokehJS from CDN, this \\n\"+\n",
              "     \"may be due to a slow or bad network connection. Possible fixes:\\n\"+\n",
              "     \"</p>\\n\"+\n",
              "     \"<ul>\\n\"+\n",
              "     \"<li>re-rerun `output_notebook()` to attempt to load from CDN again, or</li>\\n\"+\n",
              "     \"<li>use INLINE resources instead, as so:</li>\\n\"+\n",
              "     \"</ul>\\n\"+\n",
              "     \"<code>\\n\"+\n",
              "     \"from bokeh.resources import INLINE\\n\"+\n",
              "     \"output_notebook(resources=INLINE)\\n\"+\n",
              "     \"</code>\\n\"+\n",
              "     \"</div>\"}};\n",
              "\n",
              "  function display_loaded() {\n",
              "    var el = document.getElementById(null);\n",
              "    if (el != null) {\n",
              "      el.textContent = \"BokehJS is loading...\";\n",
              "    }\n",
              "    if (root.Bokeh !== undefined) {\n",
              "      if (el != null) {\n",
              "        el.textContent = \"BokehJS \" + root.Bokeh.version + \" successfully loaded.\";\n",
              "      }\n",
              "    } else if (Date.now() < root._bokeh_timeout) {\n",
              "      setTimeout(display_loaded, 100)\n",
              "    }\n",
              "  }\n",
              "\n",
              "\n",
              "  function run_callbacks() {\n",
              "    try {\n",
              "      root._bokeh_onload_callbacks.forEach(function(callback) {\n",
              "        if (callback != null)\n",
              "          callback();\n",
              "      });\n",
              "    } finally {\n",
              "      delete root._bokeh_onload_callbacks\n",
              "    }\n",
              "    console.debug(\"Bokeh: all callbacks have finished\");\n",
              "  }\n",
              "\n",
              "  function load_libs(css_urls, js_urls, callback) {\n",
              "    if (css_urls == null) css_urls = [];\n",
              "    if (js_urls == null) js_urls = [];\n",
              "\n",
              "    root._bokeh_onload_callbacks.push(callback);\n",
              "    if (root._bokeh_is_loading > 0) {\n",
              "      console.debug(\"Bokeh: BokehJS is being loaded, scheduling callback at\", now());\n",
              "      return null;\n",
              "    }\n",
              "    if (js_urls == null || js_urls.length === 0) {\n",
              "      run_callbacks();\n",
              "      return null;\n",
              "    }\n",
              "    console.debug(\"Bokeh: BokehJS not loaded, scheduling load and callback at\", now());\n",
              "    root._bokeh_is_loading = css_urls.length + js_urls.length;\n",
              "\n",
              "    function on_load() {\n",
              "      root._bokeh_is_loading--;\n",
              "      if (root._bokeh_is_loading === 0) {\n",
              "        console.debug(\"Bokeh: all BokehJS libraries/stylesheets loaded\");\n",
              "        run_callbacks()\n",
              "      }\n",
              "    }\n",
              "\n",
              "    function on_error(url) {\n",
              "      console.error(\"failed to load \" + url);\n",
              "    }\n",
              "\n",
              "    for (let i = 0; i < css_urls.length; i++) {\n",
              "      const url = css_urls[i];\n",
              "      const element = document.createElement(\"link\");\n",
              "      element.onload = on_load;\n",
              "      element.onerror = on_error.bind(null, url);\n",
              "      element.rel = \"stylesheet\";\n",
              "      element.type = \"text/css\";\n",
              "      element.href = url;\n",
              "      console.debug(\"Bokeh: injecting link tag for BokehJS stylesheet: \", url);\n",
              "      document.body.appendChild(element);\n",
              "    }\n",
              "\n",
              "    const hashes = {\"https://cdn.bokeh.org/bokeh/release/bokeh-2.3.3.min.js\": \"dM3QQsP+wXdHg42wTqW85BjZQdLNNIXqlPw/BgKoExPmTG7ZLML4EGqLMfqHT6ON\", \"https://cdn.bokeh.org/bokeh/release/bokeh-tables-2.3.3.min.js\": \"8x57I4YuIfu8XyZfFo0XVr2WAT8EK4rh/uDe3wF7YuW2FNUSNEpJbsPaB1nJ2fz2\", \"https://cdn.bokeh.org/bokeh/release/bokeh-widgets-2.3.3.min.js\": \"3QTqdz9LyAm2i0sG5XTePsHec3UHWwVsrOL68SYRoAXsafvfAyqtQ+h440+qIBhS\"};\n",
              "\n",
              "    for (let i = 0; i < js_urls.length; i++) {\n",
              "      const url = js_urls[i];\n",
              "      const element = document.createElement('script');\n",
              "      element.onload = on_load;\n",
              "      element.onerror = on_error.bind(null, url);\n",
              "      element.async = false;\n",
              "      element.src = url;\n",
              "      if (url in hashes) {\n",
              "        element.crossOrigin = \"anonymous\";\n",
              "        element.integrity = \"sha384-\" + hashes[url];\n",
              "      }\n",
              "      console.debug(\"Bokeh: injecting script tag for BokehJS library: \", url);\n",
              "      document.head.appendChild(element);\n",
              "    }\n",
              "  };\n",
              "\n",
              "  function inject_raw_css(css) {\n",
              "    const element = document.createElement(\"style\");\n",
              "    element.appendChild(document.createTextNode(css));\n",
              "    document.body.appendChild(element);\n",
              "  }\n",
              "\n",
              "  \n",
              "  var js_urls = [\"https://cdn.bokeh.org/bokeh/release/bokeh-2.3.3.min.js\", \"https://cdn.bokeh.org/bokeh/release/bokeh-widgets-2.3.3.min.js\", \"https://cdn.bokeh.org/bokeh/release/bokeh-tables-2.3.3.min.js\"];\n",
              "  var css_urls = [];\n",
              "  \n",
              "\n",
              "  var inline_js = [\n",
              "    function(Bokeh) {\n",
              "      Bokeh.set_log_level(\"info\");\n",
              "    },\n",
              "    function(Bokeh) {\n",
              "    \n",
              "    \n",
              "    }\n",
              "  ];\n",
              "\n",
              "  function run_inline_js() {\n",
              "    \n",
              "    if (root.Bokeh !== undefined || force === true) {\n",
              "      \n",
              "    for (var i = 0; i < inline_js.length; i++) {\n",
              "      inline_js[i].call(root, root.Bokeh);\n",
              "    }\n",
              "    } else if (Date.now() < root._bokeh_timeout) {\n",
              "      setTimeout(run_inline_js, 100);\n",
              "    } else if (!root._bokeh_failed_load) {\n",
              "      console.log(\"Bokeh: BokehJS failed to load within specified timeout.\");\n",
              "      root._bokeh_failed_load = true;\n",
              "    } else if (force !== true) {\n",
              "      var cell = $(document.getElementById(null)).parents('.cell').data().cell;\n",
              "      cell.output_area.append_execute_result(NB_LOAD_WARNING)\n",
              "    }\n",
              "\n",
              "  }\n",
              "\n",
              "  if (root._bokeh_is_loading === 0) {\n",
              "    console.debug(\"Bokeh: BokehJS loaded, going straight to plotting\");\n",
              "    run_inline_js();\n",
              "  } else {\n",
              "    load_libs(css_urls, js_urls, function() {\n",
              "      console.debug(\"Bokeh: BokehJS plotting callback run at\", now());\n",
              "      run_inline_js();\n",
              "    });\n",
              "  }\n",
              "}(window));"
            ],
            "application/vnd.bokehjs_load.v0+json": "\n(function(root) {\n  function now() {\n    return new Date();\n  }\n\n  var force = true;\n\n  if (typeof root._bokeh_onload_callbacks === \"undefined\" || force === true) {\n    root._bokeh_onload_callbacks = [];\n    root._bokeh_is_loading = undefined;\n  }\n\n  \n\n  \n  if (typeof (root._bokeh_timeout) === \"undefined\" || force === true) {\n    root._bokeh_timeout = Date.now() + 5000;\n    root._bokeh_failed_load = false;\n  }\n\n  var NB_LOAD_WARNING = {'data': {'text/html':\n     \"<div style='background-color: #fdd'>\\n\"+\n     \"<p>\\n\"+\n     \"BokehJS does not appear to have successfully loaded. If loading BokehJS from CDN, this \\n\"+\n     \"may be due to a slow or bad network connection. Possible fixes:\\n\"+\n     \"</p>\\n\"+\n     \"<ul>\\n\"+\n     \"<li>re-rerun `output_notebook()` to attempt to load from CDN again, or</li>\\n\"+\n     \"<li>use INLINE resources instead, as so:</li>\\n\"+\n     \"</ul>\\n\"+\n     \"<code>\\n\"+\n     \"from bokeh.resources import INLINE\\n\"+\n     \"output_notebook(resources=INLINE)\\n\"+\n     \"</code>\\n\"+\n     \"</div>\"}};\n\n  function display_loaded() {\n    var el = document.getElementById(null);\n    if (el != null) {\n      el.textContent = \"BokehJS is loading...\";\n    }\n    if (root.Bokeh !== undefined) {\n      if (el != null) {\n        el.textContent = \"BokehJS \" + root.Bokeh.version + \" successfully loaded.\";\n      }\n    } else if (Date.now() < root._bokeh_timeout) {\n      setTimeout(display_loaded, 100)\n    }\n  }\n\n\n  function run_callbacks() {\n    try {\n      root._bokeh_onload_callbacks.forEach(function(callback) {\n        if (callback != null)\n          callback();\n      });\n    } finally {\n      delete root._bokeh_onload_callbacks\n    }\n    console.debug(\"Bokeh: all callbacks have finished\");\n  }\n\n  function load_libs(css_urls, js_urls, callback) {\n    if (css_urls == null) css_urls = [];\n    if (js_urls == null) js_urls = [];\n\n    root._bokeh_onload_callbacks.push(callback);\n    if (root._bokeh_is_loading > 0) {\n      console.debug(\"Bokeh: BokehJS is being loaded, scheduling callback at\", now());\n      return null;\n    }\n    if (js_urls == null || js_urls.length === 0) {\n      run_callbacks();\n      return null;\n    }\n    console.debug(\"Bokeh: BokehJS not loaded, scheduling load and callback at\", now());\n    root._bokeh_is_loading = css_urls.length + js_urls.length;\n\n    function on_load() {\n      root._bokeh_is_loading--;\n      if (root._bokeh_is_loading === 0) {\n        console.debug(\"Bokeh: all BokehJS libraries/stylesheets loaded\");\n        run_callbacks()\n      }\n    }\n\n    function on_error(url) {\n      console.error(\"failed to load \" + url);\n    }\n\n    for (let i = 0; i < css_urls.length; i++) {\n      const url = css_urls[i];\n      const element = document.createElement(\"link\");\n      element.onload = on_load;\n      element.onerror = on_error.bind(null, url);\n      element.rel = \"stylesheet\";\n      element.type = \"text/css\";\n      element.href = url;\n      console.debug(\"Bokeh: injecting link tag for BokehJS stylesheet: \", url);\n      document.body.appendChild(element);\n    }\n\n    const hashes = {\"https://cdn.bokeh.org/bokeh/release/bokeh-2.3.3.min.js\": \"dM3QQsP+wXdHg42wTqW85BjZQdLNNIXqlPw/BgKoExPmTG7ZLML4EGqLMfqHT6ON\", \"https://cdn.bokeh.org/bokeh/release/bokeh-tables-2.3.3.min.js\": \"8x57I4YuIfu8XyZfFo0XVr2WAT8EK4rh/uDe3wF7YuW2FNUSNEpJbsPaB1nJ2fz2\", \"https://cdn.bokeh.org/bokeh/release/bokeh-widgets-2.3.3.min.js\": \"3QTqdz9LyAm2i0sG5XTePsHec3UHWwVsrOL68SYRoAXsafvfAyqtQ+h440+qIBhS\"};\n\n    for (let i = 0; i < js_urls.length; i++) {\n      const url = js_urls[i];\n      const element = document.createElement('script');\n      element.onload = on_load;\n      element.onerror = on_error.bind(null, url);\n      element.async = false;\n      element.src = url;\n      if (url in hashes) {\n        element.crossOrigin = \"anonymous\";\n        element.integrity = \"sha384-\" + hashes[url];\n      }\n      console.debug(\"Bokeh: injecting script tag for BokehJS library: \", url);\n      document.head.appendChild(element);\n    }\n  };\n\n  function inject_raw_css(css) {\n    const element = document.createElement(\"style\");\n    element.appendChild(document.createTextNode(css));\n    document.body.appendChild(element);\n  }\n\n  \n  var js_urls = [\"https://cdn.bokeh.org/bokeh/release/bokeh-2.3.3.min.js\", \"https://cdn.bokeh.org/bokeh/release/bokeh-widgets-2.3.3.min.js\", \"https://cdn.bokeh.org/bokeh/release/bokeh-tables-2.3.3.min.js\"];\n  var css_urls = [];\n  \n\n  var inline_js = [\n    function(Bokeh) {\n      Bokeh.set_log_level(\"info\");\n    },\n    function(Bokeh) {\n    \n    \n    }\n  ];\n\n  function run_inline_js() {\n    \n    if (root.Bokeh !== undefined || force === true) {\n      \n    for (var i = 0; i < inline_js.length; i++) {\n      inline_js[i].call(root, root.Bokeh);\n    }\n    } else if (Date.now() < root._bokeh_timeout) {\n      setTimeout(run_inline_js, 100);\n    } else if (!root._bokeh_failed_load) {\n      console.log(\"Bokeh: BokehJS failed to load within specified timeout.\");\n      root._bokeh_failed_load = true;\n    } else if (force !== true) {\n      var cell = $(document.getElementById(null)).parents('.cell').data().cell;\n      cell.output_area.append_execute_result(NB_LOAD_WARNING)\n    }\n\n  }\n\n  if (root._bokeh_is_loading === 0) {\n    console.debug(\"Bokeh: BokehJS loaded, going straight to plotting\");\n    run_inline_js();\n  } else {\n    load_libs(css_urls, js_urls, function() {\n      console.debug(\"Bokeh: BokehJS plotting callback run at\", now());\n      run_inline_js();\n    });\n  }\n}(window));"
          },
          "metadata": {}
        },
        {
          "output_type": "display_data",
          "data": {
            "text/html": [
              "\n",
              "\n",
              "\n",
              "\n",
              "\n",
              "\n",
              "  <div class=\"bk-root\" id=\"39a50f28-1360-45ca-bada-a6d16fdcba10\" data-root-id=\"1003\"></div>\n"
            ]
          },
          "metadata": {}
        },
        {
          "output_type": "display_data",
          "data": {
            "application/javascript": [
              "(function(root) {\n",
              "  function embed_document(root) {\n",
              "    \n",
              "  var docs_json = {\"f9367677-5c36-445f-91c9-7663bed3e4ac\":{\"defs\":[],\"roots\":{\"references\":[{\"attributes\":{\"below\":[{\"id\":\"1012\"}],\"center\":[{\"id\":\"1015\"},{\"id\":\"1019\"}],\"height\":400,\"left\":[{\"id\":\"1016\"}],\"renderers\":[{\"id\":\"1037\"}],\"title\":{\"id\":\"1041\"},\"toolbar\":{\"id\":\"1027\"},\"x_range\":{\"id\":\"1004\"},\"x_scale\":{\"id\":\"1008\"},\"y_range\":{\"id\":\"1006\"},\"y_scale\":{\"id\":\"1010\"}},\"id\":\"1003\",\"subtype\":\"Figure\",\"type\":\"Plot\"},{\"attributes\":{},\"id\":\"1017\",\"type\":\"BasicTicker\"},{\"attributes\":{\"fill_alpha\":{\"value\":0.25},\"fill_color\":{\"field\":\"color\"},\"line_alpha\":{\"value\":0.25},\"line_color\":{\"field\":\"color\"},\"size\":{\"value\":10},\"x\":{\"field\":\"x\"},\"y\":{\"field\":\"y\"}},\"id\":\"1035\",\"type\":\"Scatter\"},{\"attributes\":{\"bottom_units\":\"screen\",\"fill_alpha\":0.5,\"fill_color\":\"lightgrey\",\"left_units\":\"screen\",\"level\":\"overlay\",\"line_alpha\":1.0,\"line_color\":\"black\",\"line_dash\":[4,4],\"line_width\":2,\"right_units\":\"screen\",\"syncable\":false,\"top_units\":\"screen\"},\"id\":\"1026\",\"type\":\"BoxAnnotation\"},{\"attributes\":{},\"id\":\"1041\",\"type\":\"Title\"},{\"attributes\":{},\"id\":\"1010\",\"type\":\"LinearScale\"},{\"attributes\":{},\"id\":\"1021\",\"type\":\"WheelZoomTool\"},{\"attributes\":{\"formatter\":{\"id\":\"1048\"},\"major_label_policy\":{\"id\":\"1047\"},\"ticker\":{\"id\":\"1013\"}},\"id\":\"1012\",\"type\":\"LinearAxis\"},{\"attributes\":{\"active_multi\":null,\"active_scroll\":{\"id\":\"1021\"},\"tools\":[{\"id\":\"1020\"},{\"id\":\"1021\"},{\"id\":\"1022\"},{\"id\":\"1023\"},{\"id\":\"1024\"},{\"id\":\"1025\"},{\"id\":\"1039\"}]},\"id\":\"1027\",\"type\":\"Toolbar\"},{\"attributes\":{\"data_source\":{\"id\":\"1002\"},\"glyph\":{\"id\":\"1035\"},\"hover_glyph\":null,\"muted_glyph\":null,\"nonselection_glyph\":{\"id\":\"1036\"},\"view\":{\"id\":\"1038\"}},\"id\":\"1037\",\"type\":\"GlyphRenderer\"},{\"attributes\":{\"callback\":null,\"tooltips\":[]},\"id\":\"1039\",\"type\":\"HoverTool\"},{\"attributes\":{\"overlay\":{\"id\":\"1026\"}},\"id\":\"1022\",\"type\":\"BoxZoomTool\"},{\"attributes\":{},\"id\":\"1023\",\"type\":\"SaveTool\"},{\"attributes\":{},\"id\":\"1006\",\"type\":\"DataRange1d\"},{\"attributes\":{\"data\":{\"color\":[\"red\",\"red\",\"red\",\"blue\",\"red\",\"blue\",\"blue\",\"blue\",\"blue\",\"blue\",\"blue\",\"blue\",\"blue\",\"red\",\"red\",\"blue\",\"blue\",\"blue\",\"red\",\"blue\",\"blue\",\"blue\",\"blue\",\"red\",\"blue\",\"blue\",\"red\",\"red\",\"blue\",\"red\",\"blue\",\"red\",\"red\",\"blue\",\"red\",\"red\",\"blue\",\"red\",\"blue\",\"blue\",\"red\",\"blue\",\"blue\",\"blue\",\"red\",\"red\",\"red\",\"red\",\"blue\",\"red\",\"blue\",\"blue\",\"blue\",\"red\",\"blue\",\"red\",\"blue\",\"blue\",\"red\",\"red\",\"red\",\"blue\",\"blue\",\"red\",\"red\",\"blue\",\"blue\",\"red\",\"blue\",\"blue\",\"blue\",\"blue\",\"red\",\"red\",\"red\",\"red\",\"red\",\"blue\",\"red\",\"red\",\"blue\",\"blue\",\"red\",\"red\",\"blue\",\"red\",\"red\",\"red\",\"blue\",\"red\",\"red\",\"red\",\"red\",\"blue\",\"blue\",\"red\",\"red\",\"blue\",\"red\",\"red\",\"blue\",\"red\",\"blue\",\"red\",\"red\",\"red\",\"red\",\"blue\",\"red\",\"blue\",\"blue\",\"blue\",\"blue\",\"red\",\"red\",\"blue\",\"blue\",\"blue\",\"red\",\"blue\",\"red\",\"red\",\"red\",\"red\",\"blue\",\"blue\",\"red\",\"blue\",\"red\",\"blue\",\"blue\",\"blue\",\"red\",\"blue\",\"red\",\"blue\",\"red\",\"red\",\"blue\",\"red\",\"red\",\"blue\",\"red\",\"red\",\"blue\",\"red\",\"red\",\"blue\",\"blue\",\"blue\",\"blue\",\"red\",\"red\",\"red\",\"blue\",\"red\",\"red\",\"red\",\"blue\",\"red\",\"red\",\"red\",\"red\",\"red\",\"red\",\"blue\",\"blue\",\"red\",\"blue\",\"blue\",\"red\",\"red\",\"red\",\"blue\",\"red\",\"red\",\"blue\",\"red\",\"blue\",\"blue\",\"red\",\"blue\",\"red\",\"red\",\"blue\",\"blue\",\"blue\",\"blue\",\"blue\",\"red\",\"red\",\"red\",\"blue\",\"blue\",\"blue\",\"red\",\"red\",\"blue\",\"blue\",\"blue\",\"blue\",\"blue\",\"blue\",\"red\",\"red\",\"red\",\"red\",\"red\",\"red\",\"red\",\"red\",\"red\",\"blue\",\"blue\",\"blue\",\"red\",\"blue\",\"red\",\"blue\",\"blue\",\"red\",\"blue\",\"red\",\"blue\",\"blue\",\"red\",\"blue\",\"blue\",\"blue\",\"blue\",\"red\",\"blue\",\"red\",\"red\",\"red\",\"blue\",\"red\",\"blue\",\"red\",\"red\",\"red\",\"blue\",\"red\",\"blue\",\"red\",\"blue\",\"red\",\"blue\",\"red\",\"blue\",\"blue\",\"blue\",\"blue\",\"blue\",\"blue\",\"blue\",\"red\",\"red\",\"red\",\"red\",\"blue\",\"red\",\"red\",\"blue\",\"blue\",\"blue\",\"red\",\"red\",\"red\",\"red\",\"blue\",\"blue\",\"blue\",\"blue\",\"blue\",\"blue\",\"blue\",\"red\",\"blue\",\"red\",\"red\",\"red\",\"blue\",\"red\",\"red\",\"blue\",\"blue\",\"red\",\"blue\",\"blue\",\"red\",\"red\",\"blue\",\"red\",\"red\",\"blue\",\"blue\",\"red\",\"blue\",\"red\",\"red\",\"blue\",\"red\",\"red\",\"blue\",\"red\",\"blue\",\"blue\",\"red\",\"red\",\"blue\",\"blue\",\"blue\",\"red\",\"blue\",\"blue\",\"red\",\"red\",\"red\",\"blue\",\"blue\",\"red\",\"blue\",\"red\",\"red\",\"red\",\"red\",\"red\",\"blue\",\"blue\",\"red\",\"red\",\"red\",\"red\",\"red\",\"blue\",\"red\",\"red\",\"red\",\"blue\",\"blue\",\"blue\",\"blue\",\"blue\",\"red\",\"blue\",\"blue\",\"red\",\"red\",\"blue\",\"blue\",\"blue\",\"blue\",\"red\",\"blue\",\"blue\",\"blue\",\"blue\",\"red\",\"blue\",\"red\",\"blue\",\"red\",\"red\",\"blue\",\"blue\",\"blue\",\"red\",\"red\",\"blue\",\"red\",\"red\",\"red\",\"blue\",\"red\",\"blue\",\"blue\",\"blue\",\"red\",\"red\",\"red\",\"blue\",\"blue\",\"red\",\"blue\",\"blue\",\"red\",\"blue\",\"blue\",\"red\",\"blue\",\"blue\",\"red\",\"blue\",\"red\",\"red\",\"blue\",\"blue\",\"blue\",\"red\",\"blue\",\"blue\",\"blue\",\"red\",\"red\",\"blue\",\"blue\",\"blue\",\"red\",\"blue\",\"blue\",\"blue\",\"red\",\"blue\",\"blue\",\"blue\",\"blue\",\"red\",\"blue\",\"blue\",\"red\",\"red\",\"red\",\"blue\",\"blue\",\"blue\",\"red\",\"red\",\"blue\",\"blue\",\"blue\",\"red\",\"blue\",\"blue\",\"blue\",\"blue\",\"blue\",\"red\",\"red\",\"blue\",\"blue\",\"blue\",\"red\",\"red\",\"blue\",\"red\",\"red\",\"red\",\"blue\",\"red\",\"red\",\"blue\",\"red\",\"blue\",\"blue\",\"red\",\"blue\",\"blue\",\"red\",\"red\",\"blue\",\"blue\",\"blue\",\"blue\",\"red\",\"red\",\"red\",\"red\",\"blue\",\"blue\",\"blue\",\"red\",\"blue\",\"blue\",\"red\",\"blue\",\"red\",\"red\",\"blue\",\"red\",\"blue\",\"red\",\"red\",\"blue\",\"red\",\"blue\",\"blue\",\"blue\",\"red\",\"blue\",\"red\",\"blue\",\"blue\",\"blue\",\"blue\",\"blue\",\"red\",\"blue\",\"blue\",\"red\",\"blue\",\"red\",\"blue\",\"red\",\"blue\",\"red\",\"red\",\"red\",\"red\",\"red\",\"red\",\"blue\",\"blue\",\"blue\",\"red\",\"blue\",\"red\",\"red\",\"blue\",\"red\",\"red\",\"red\",\"red\",\"red\",\"red\",\"blue\",\"blue\",\"blue\",\"red\",\"blue\",\"red\",\"blue\",\"blue\",\"red\",\"red\",\"red\",\"blue\",\"red\",\"blue\",\"blue\",\"blue\",\"red\",\"blue\",\"blue\",\"red\",\"blue\",\"blue\",\"blue\",\"blue\",\"blue\",\"blue\",\"red\",\"red\",\"red\",\"blue\",\"blue\",\"red\",\"blue\",\"blue\",\"blue\",\"red\",\"blue\",\"red\",\"blue\",\"blue\",\"red\",\"red\",\"blue\",\"red\",\"red\",\"red\",\"blue\",\"red\",\"red\",\"blue\",\"red\",\"red\",\"blue\",\"blue\",\"blue\",\"red\",\"red\",\"red\",\"blue\",\"blue\",\"blue\",\"red\",\"red\",\"red\",\"red\",\"blue\",\"blue\",\"red\",\"red\",\"red\",\"red\",\"red\",\"red\",\"blue\",\"blue\",\"red\",\"red\",\"red\",\"blue\",\"red\",\"red\",\"red\",\"blue\",\"red\",\"red\",\"blue\",\"red\",\"red\",\"blue\",\"blue\",\"blue\",\"red\",\"blue\",\"blue\",\"blue\",\"red\",\"red\",\"red\",\"blue\",\"blue\",\"red\",\"red\",\"blue\",\"red\",\"blue\",\"blue\",\"blue\",\"red\",\"red\",\"blue\",\"red\",\"red\",\"blue\",\"red\",\"blue\",\"blue\",\"red\",\"red\",\"red\",\"red\",\"red\",\"red\",\"red\",\"red\",\"red\",\"blue\",\"blue\",\"blue\",\"red\",\"red\",\"blue\",\"blue\",\"blue\",\"red\",\"blue\",\"blue\",\"blue\",\"blue\",\"red\",\"blue\",\"red\",\"blue\",\"red\",\"red\",\"red\",\"blue\",\"red\",\"red\",\"red\",\"blue\",\"red\",\"blue\",\"blue\",\"blue\",\"red\",\"red\",\"red\",\"blue\",\"blue\",\"blue\",\"red\",\"red\",\"red\",\"blue\",\"red\",\"red\",\"red\",\"blue\",\"red\",\"blue\",\"red\",\"red\",\"blue\",\"red\",\"blue\",\"blue\",\"red\",\"red\",\"blue\",\"blue\",\"blue\",\"blue\",\"red\",\"blue\",\"blue\",\"red\",\"red\",\"red\",\"red\",\"blue\",\"blue\",\"red\",\"red\",\"red\",\"red\",\"red\",\"blue\",\"blue\",\"red\",\"red\",\"red\",\"blue\",\"blue\",\"blue\",\"blue\",\"blue\",\"red\",\"red\",\"red\",\"blue\",\"blue\",\"red\",\"red\",\"red\",\"red\",\"red\",\"blue\",\"blue\",\"blue\",\"red\",\"red\",\"red\",\"red\",\"red\",\"blue\",\"red\",\"red\",\"red\",\"blue\",\"red\",\"red\",\"red\",\"red\",\"red\",\"red\",\"red\",\"red\",\"red\",\"blue\",\"blue\",\"blue\",\"blue\",\"blue\",\"red\",\"blue\",\"blue\",\"red\",\"blue\",\"red\",\"red\",\"blue\",\"red\",\"red\",\"blue\",\"red\",\"blue\",\"red\",\"red\",\"red\",\"blue\",\"red\",\"blue\",\"blue\",\"blue\",\"red\",\"blue\",\"blue\",\"red\",\"blue\",\"blue\",\"blue\",\"blue\",\"red\",\"blue\",\"red\",\"red\",\"red\",\"red\",\"blue\",\"blue\",\"red\",\"red\",\"blue\",\"red\",\"red\",\"blue\",\"red\",\"blue\",\"red\",\"blue\",\"blue\",\"red\",\"blue\",\"blue\",\"blue\",\"red\",\"blue\",\"red\",\"blue\",\"blue\",\"red\",\"red\",\"red\",\"blue\",\"blue\",\"blue\",\"red\",\"blue\",\"red\",\"blue\",\"blue\",\"red\",\"blue\",\"blue\",\"blue\",\"red\",\"red\",\"red\",\"blue\",\"red\",\"red\",\"red\",\"blue\",\"red\",\"red\",\"blue\",\"red\",\"blue\",\"blue\",\"blue\",\"red\",\"blue\",\"blue\",\"red\",\"red\",\"red\",\"blue\",\"blue\",\"blue\",\"red\",\"blue\",\"red\",\"blue\",\"red\",\"red\",\"blue\",\"red\",\"red\",\"red\",\"blue\",\"blue\",\"blue\",\"red\",\"red\",\"red\",\"red\",\"red\",\"red\",\"blue\",\"red\",\"red\",\"blue\",\"red\",\"red\",\"blue\",\"red\",\"blue\",\"blue\",\"blue\",\"blue\",\"red\",\"blue\",\"blue\",\"blue\",\"blue\",\"red\",\"red\",\"blue\",\"blue\",\"red\",\"red\",\"red\",\"blue\",\"red\",\"red\",\"blue\",\"blue\",\"red\",\"red\",\"blue\",\"red\",\"red\",\"blue\",\"red\",\"red\",\"red\",\"blue\",\"blue\",\"red\",\"red\",\"red\",\"blue\",\"red\",\"blue\",\"red\",\"blue\",\"red\",\"blue\",\"red\",\"blue\",\"red\",\"red\",\"blue\",\"blue\",\"blue\",\"red\",\"red\",\"red\",\"red\",\"red\",\"red\",\"blue\",\"red\",\"blue\",\"red\",\"blue\",\"red\",\"blue\",\"blue\",\"blue\",\"red\",\"blue\",\"blue\",\"red\",\"blue\",\"blue\",\"blue\",\"red\",\"red\",\"red\",\"blue\",\"blue\",\"blue\",\"red\",\"red\",\"blue\",\"red\",\"red\",\"red\",\"red\",\"blue\",\"red\",\"red\",\"red\",\"red\",\"blue\",\"blue\",\"blue\",\"red\",\"blue\",\"red\",\"red\",\"blue\",\"red\",\"blue\",\"blue\",\"red\",\"red\",\"red\",\"blue\",\"blue\",\"blue\",\"blue\",\"red\",\"red\",\"blue\",\"blue\",\"red\",\"blue\",\"blue\",\"blue\",\"blue\",\"red\",\"blue\",\"red\",\"red\",\"blue\",\"blue\",\"blue\",\"blue\",\"blue\",\"red\",\"red\",\"red\",\"red\",\"blue\",\"red\",\"blue\",\"red\",\"blue\",\"red\",\"blue\",\"red\",\"blue\",\"red\",\"blue\",\"blue\",\"red\",\"blue\",\"red\",\"blue\",\"red\",\"blue\",\"blue\",\"blue\",\"red\",\"red\",\"blue\",\"red\",\"red\",\"blue\",\"blue\",\"blue\",\"red\",\"blue\",\"blue\",\"red\",\"red\",\"red\",\"blue\",\"red\",\"blue\",\"blue\",\"red\",\"red\",\"red\",\"blue\",\"red\",\"blue\",\"blue\",\"blue\",\"red\",\"blue\",\"red\",\"red\",\"red\",\"red\",\"red\",\"red\",\"blue\",\"red\",\"blue\",\"blue\",\"blue\",\"red\",\"blue\",\"red\",\"red\",\"blue\",\"blue\",\"red\",\"red\",\"blue\",\"red\",\"blue\",\"red\",\"red\",\"blue\",\"red\",\"red\",\"blue\",\"red\",\"red\",\"red\",\"blue\",\"blue\",\"blue\",\"red\",\"blue\",\"blue\",\"blue\",\"red\",\"blue\",\"red\",\"red\",\"blue\",\"red\",\"blue\",\"blue\",\"red\",\"blue\",\"red\",\"blue\",\"blue\",\"red\",\"blue\",\"blue\",\"red\",\"blue\",\"blue\",\"blue\",\"red\",\"red\",\"blue\",\"blue\",\"red\",\"blue\",\"red\",\"red\",\"red\",\"blue\",\"blue\",\"blue\",\"red\",\"blue\",\"blue\",\"blue\",\"red\",\"blue\",\"blue\",\"blue\",\"blue\",\"blue\",\"red\",\"blue\",\"blue\",\"red\",\"red\",\"blue\",\"red\",\"red\",\"red\",\"blue\",\"blue\",\"blue\",\"red\",\"blue\",\"blue\",\"blue\",\"red\",\"red\",\"red\",\"red\",\"red\",\"blue\",\"blue\",\"red\",\"blue\",\"red\",\"blue\",\"blue\",\"blue\",\"red\",\"red\",\"red\",\"blue\",\"blue\",\"red\",\"red\",\"blue\",\"red\",\"blue\",\"blue\",\"red\",\"blue\",\"blue\",\"red\",\"red\",\"red\",\"red\",\"red\",\"red\",\"blue\",\"red\",\"red\",\"blue\",\"blue\",\"red\",\"blue\",\"blue\",\"blue\",\"red\",\"blue\",\"blue\",\"blue\",\"blue\",\"blue\",\"red\",\"red\",\"red\",\"red\",\"red\",\"red\",\"blue\",\"blue\",\"red\",\"red\",\"red\",\"blue\",\"red\",\"blue\",\"blue\",\"red\",\"blue\",\"blue\",\"red\",\"blue\",\"red\",\"red\",\"blue\",\"red\",\"red\",\"blue\",\"blue\",\"blue\",\"red\",\"red\",\"red\",\"blue\",\"blue\",\"red\",\"blue\",\"blue\",\"blue\",\"red\",\"red\",\"red\",\"blue\",\"red\",\"red\",\"red\",\"blue\",\"blue\",\"red\",\"blue\",\"blue\",\"blue\",\"blue\",\"blue\",\"blue\",\"blue\",\"blue\",\"blue\",\"red\",\"blue\",\"red\",\"red\",\"blue\",\"blue\",\"red\",\"red\",\"blue\",\"blue\",\"blue\",\"red\"],\"x\":{\"__ndarray__\":\"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\",\"dtype\":\"float64\",\"order\":\"little\",\"shape\":[1280]},\"y\":{\"__ndarray__\":\"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\",\"dtype\":\"float64\",\"order\":\"little\",\"shape\":[1280]}},\"selected\":{\"id\":\"1049\"},\"selection_policy\":{\"id\":\"1050\"}},\"id\":\"1002\",\"type\":\"ColumnDataSource\"},{\"attributes\":{},\"id\":\"1024\",\"type\":\"ResetTool\"},{\"attributes\":{},\"id\":\"1008\",\"type\":\"LinearScale\"},{\"attributes\":{},\"id\":\"1025\",\"type\":\"HelpTool\"},{\"attributes\":{},\"id\":\"1049\",\"type\":\"Selection\"},{\"attributes\":{},\"id\":\"1047\",\"type\":\"AllLabels\"},{\"attributes\":{},\"id\":\"1020\",\"type\":\"PanTool\"},{\"attributes\":{},\"id\":\"1044\",\"type\":\"AllLabels\"},{\"attributes\":{},\"id\":\"1004\",\"type\":\"DataRange1d\"},{\"attributes\":{\"axis\":{\"id\":\"1012\"},\"ticker\":null},\"id\":\"1015\",\"type\":\"Grid\"},{\"attributes\":{},\"id\":\"1013\",\"type\":\"BasicTicker\"},{\"attributes\":{\"axis\":{\"id\":\"1016\"},\"dimension\":1,\"ticker\":null},\"id\":\"1019\",\"type\":\"Grid\"},{\"attributes\":{\"source\":{\"id\":\"1002\"}},\"id\":\"1038\",\"type\":\"CDSView\"},{\"attributes\":{\"formatter\":{\"id\":\"1045\"},\"major_label_policy\":{\"id\":\"1044\"},\"ticker\":{\"id\":\"1017\"}},\"id\":\"1016\",\"type\":\"LinearAxis\"},{\"attributes\":{},\"id\":\"1048\",\"type\":\"BasicTickFormatter\"},{\"attributes\":{\"fill_alpha\":{\"value\":0.1},\"fill_color\":{\"field\":\"color\"},\"line_alpha\":{\"value\":0.1},\"line_color\":{\"field\":\"color\"},\"size\":{\"value\":10},\"x\":{\"field\":\"x\"},\"y\":{\"field\":\"y\"}},\"id\":\"1036\",\"type\":\"Scatter\"},{\"attributes\":{},\"id\":\"1050\",\"type\":\"UnionRenderers\"},{\"attributes\":{},\"id\":\"1045\",\"type\":\"BasicTickFormatter\"}],\"root_ids\":[\"1003\"]},\"title\":\"Bokeh Application\",\"version\":\"2.3.3\"}};\n",
              "  var render_items = [{\"docid\":\"f9367677-5c36-445f-91c9-7663bed3e4ac\",\"root_ids\":[\"1003\"],\"roots\":{\"1003\":\"39a50f28-1360-45ca-bada-a6d16fdcba10\"}}];\n",
              "  root.Bokeh.embed.embed_items_notebook(docs_json, render_items);\n",
              "\n",
              "  }\n",
              "  if (root.Bokeh !== undefined) {\n",
              "    embed_document(root);\n",
              "  } else {\n",
              "    var attempts = 0;\n",
              "    var timer = setInterval(function(root) {\n",
              "      if (root.Bokeh !== undefined) {\n",
              "        clearInterval(timer);\n",
              "        embed_document(root);\n",
              "      } else {\n",
              "        attempts++;\n",
              "        if (attempts > 100) {\n",
              "          clearInterval(timer);\n",
              "          console.log(\"Bokeh: ERROR: Unable to run BokehJS code because BokehJS library is missing\");\n",
              "        }\n",
              "      }\n",
              "    }, 10, root)\n",
              "  }\n",
              "})(window);"
            ],
            "application/vnd.bokehjs_exec.v0+json": ""
          },
          "metadata": {
            "application/vnd.bokehjs_exec.v0+json": {
              "id": "1003"
            }
          }
        },
        {
          "output_type": "execute_result",
          "data": {
            "text/html": [
              "<div style=\"display: table;\"><div style=\"display: table-row;\"><div style=\"display: table-cell;\"><b title=\"bokeh.plotting.figure.Figure\">Figure</b>(</div><div style=\"display: table-cell;\">id&nbsp;=&nbsp;'1003', <span id=\"1108\" style=\"cursor: pointer;\">&hellip;)</span></div></div><div class=\"1107\" style=\"display: none;\"><div style=\"display: table-cell;\"></div><div style=\"display: table-cell;\">above&nbsp;=&nbsp;[],</div></div><div class=\"1107\" style=\"display: none;\"><div style=\"display: table-cell;\"></div><div style=\"display: table-cell;\">align&nbsp;=&nbsp;'start',</div></div><div class=\"1107\" style=\"display: none;\"><div style=\"display: table-cell;\"></div><div style=\"display: table-cell;\">aspect_ratio&nbsp;=&nbsp;None,</div></div><div class=\"1107\" style=\"display: none;\"><div style=\"display: table-cell;\"></div><div style=\"display: table-cell;\">aspect_scale&nbsp;=&nbsp;1,</div></div><div class=\"1107\" style=\"display: none;\"><div style=\"display: table-cell;\"></div><div style=\"display: table-cell;\">background&nbsp;=&nbsp;None,</div></div><div class=\"1107\" style=\"display: none;\"><div style=\"display: table-cell;\"></div><div style=\"display: table-cell;\">background_fill_alpha&nbsp;=&nbsp;1.0,</div></div><div class=\"1107\" style=\"display: none;\"><div style=\"display: table-cell;\"></div><div style=\"display: table-cell;\">background_fill_color&nbsp;=&nbsp;'#ffffff',</div></div><div class=\"1107\" style=\"display: none;\"><div style=\"display: table-cell;\"></div><div style=\"display: table-cell;\">below&nbsp;=&nbsp;[LinearAxis(id='1012', ...)],</div></div><div class=\"1107\" style=\"display: none;\"><div style=\"display: table-cell;\"></div><div style=\"display: table-cell;\">border_fill_alpha&nbsp;=&nbsp;1.0,</div></div><div class=\"1107\" style=\"display: none;\"><div style=\"display: table-cell;\"></div><div style=\"display: table-cell;\">border_fill_color&nbsp;=&nbsp;'#ffffff',</div></div><div class=\"1107\" style=\"display: none;\"><div style=\"display: table-cell;\"></div><div style=\"display: table-cell;\">center&nbsp;=&nbsp;[Grid(id='1015', ...), Grid(id='1019', ...)],</div></div><div class=\"1107\" style=\"display: none;\"><div style=\"display: table-cell;\"></div><div style=\"display: table-cell;\">css_classes&nbsp;=&nbsp;[],</div></div><div class=\"1107\" style=\"display: none;\"><div style=\"display: table-cell;\"></div><div style=\"display: table-cell;\">disabled&nbsp;=&nbsp;False,</div></div><div class=\"1107\" style=\"display: none;\"><div style=\"display: table-cell;\"></div><div style=\"display: table-cell;\">extra_x_ranges&nbsp;=&nbsp;{},</div></div><div class=\"1107\" style=\"display: none;\"><div style=\"display: table-cell;\"></div><div style=\"display: table-cell;\">extra_y_ranges&nbsp;=&nbsp;{},</div></div><div class=\"1107\" style=\"display: none;\"><div style=\"display: table-cell;\"></div><div style=\"display: table-cell;\">frame_height&nbsp;=&nbsp;None,</div></div><div class=\"1107\" style=\"display: none;\"><div style=\"display: table-cell;\"></div><div style=\"display: table-cell;\">frame_width&nbsp;=&nbsp;None,</div></div><div class=\"1107\" style=\"display: none;\"><div style=\"display: table-cell;\"></div><div style=\"display: table-cell;\">height&nbsp;=&nbsp;400,</div></div><div class=\"1107\" style=\"display: none;\"><div style=\"display: table-cell;\"></div><div style=\"display: table-cell;\">height_policy&nbsp;=&nbsp;'auto',</div></div><div class=\"1107\" style=\"display: none;\"><div style=\"display: table-cell;\"></div><div style=\"display: table-cell;\">hidpi&nbsp;=&nbsp;True,</div></div><div class=\"1107\" style=\"display: none;\"><div style=\"display: table-cell;\"></div><div style=\"display: table-cell;\">inner_height&nbsp;=&nbsp;0,</div></div><div class=\"1107\" style=\"display: none;\"><div style=\"display: table-cell;\"></div><div style=\"display: table-cell;\">inner_width&nbsp;=&nbsp;0,</div></div><div class=\"1107\" style=\"display: none;\"><div style=\"display: table-cell;\"></div><div style=\"display: table-cell;\">js_event_callbacks&nbsp;=&nbsp;{},</div></div><div class=\"1107\" style=\"display: none;\"><div style=\"display: table-cell;\"></div><div style=\"display: table-cell;\">js_property_callbacks&nbsp;=&nbsp;{},</div></div><div class=\"1107\" style=\"display: none;\"><div style=\"display: table-cell;\"></div><div style=\"display: table-cell;\">left&nbsp;=&nbsp;[LinearAxis(id='1016', ...)],</div></div><div class=\"1107\" style=\"display: none;\"><div style=\"display: table-cell;\"></div><div style=\"display: table-cell;\">lod_factor&nbsp;=&nbsp;10,</div></div><div class=\"1107\" style=\"display: none;\"><div style=\"display: table-cell;\"></div><div style=\"display: table-cell;\">lod_interval&nbsp;=&nbsp;300,</div></div><div class=\"1107\" style=\"display: none;\"><div style=\"display: table-cell;\"></div><div style=\"display: table-cell;\">lod_threshold&nbsp;=&nbsp;2000,</div></div><div class=\"1107\" style=\"display: none;\"><div style=\"display: table-cell;\"></div><div style=\"display: table-cell;\">lod_timeout&nbsp;=&nbsp;500,</div></div><div class=\"1107\" style=\"display: none;\"><div style=\"display: table-cell;\"></div><div style=\"display: table-cell;\">margin&nbsp;=&nbsp;(0, 0, 0, 0),</div></div><div class=\"1107\" style=\"display: none;\"><div style=\"display: table-cell;\"></div><div style=\"display: table-cell;\">match_aspect&nbsp;=&nbsp;False,</div></div><div class=\"1107\" style=\"display: none;\"><div style=\"display: table-cell;\"></div><div style=\"display: table-cell;\">max_height&nbsp;=&nbsp;None,</div></div><div class=\"1107\" style=\"display: none;\"><div style=\"display: table-cell;\"></div><div style=\"display: table-cell;\">max_width&nbsp;=&nbsp;None,</div></div><div class=\"1107\" style=\"display: none;\"><div style=\"display: table-cell;\"></div><div style=\"display: table-cell;\">min_border&nbsp;=&nbsp;5,</div></div><div class=\"1107\" style=\"display: none;\"><div style=\"display: table-cell;\"></div><div style=\"display: table-cell;\">min_border_bottom&nbsp;=&nbsp;None,</div></div><div class=\"1107\" style=\"display: none;\"><div style=\"display: table-cell;\"></div><div style=\"display: table-cell;\">min_border_left&nbsp;=&nbsp;None,</div></div><div class=\"1107\" style=\"display: none;\"><div style=\"display: table-cell;\"></div><div style=\"display: table-cell;\">min_border_right&nbsp;=&nbsp;None,</div></div><div class=\"1107\" style=\"display: none;\"><div style=\"display: table-cell;\"></div><div style=\"display: table-cell;\">min_border_top&nbsp;=&nbsp;None,</div></div><div class=\"1107\" style=\"display: none;\"><div style=\"display: table-cell;\"></div><div style=\"display: table-cell;\">min_height&nbsp;=&nbsp;None,</div></div><div class=\"1107\" style=\"display: none;\"><div style=\"display: table-cell;\"></div><div style=\"display: table-cell;\">min_width&nbsp;=&nbsp;None,</div></div><div class=\"1107\" style=\"display: none;\"><div style=\"display: table-cell;\"></div><div style=\"display: table-cell;\">name&nbsp;=&nbsp;None,</div></div><div class=\"1107\" style=\"display: none;\"><div style=\"display: table-cell;\"></div><div style=\"display: table-cell;\">outer_height&nbsp;=&nbsp;0,</div></div><div class=\"1107\" style=\"display: none;\"><div style=\"display: table-cell;\"></div><div style=\"display: table-cell;\">outer_width&nbsp;=&nbsp;0,</div></div><div class=\"1107\" style=\"display: none;\"><div style=\"display: table-cell;\"></div><div style=\"display: table-cell;\">outline_line_alpha&nbsp;=&nbsp;1.0,</div></div><div class=\"1107\" style=\"display: none;\"><div style=\"display: table-cell;\"></div><div style=\"display: table-cell;\">outline_line_cap&nbsp;=&nbsp;'butt',</div></div><div class=\"1107\" style=\"display: none;\"><div style=\"display: table-cell;\"></div><div style=\"display: table-cell;\">outline_line_color&nbsp;=&nbsp;'#e5e5e5',</div></div><div class=\"1107\" style=\"display: none;\"><div style=\"display: table-cell;\"></div><div style=\"display: table-cell;\">outline_line_dash&nbsp;=&nbsp;[],</div></div><div class=\"1107\" style=\"display: none;\"><div style=\"display: table-cell;\"></div><div style=\"display: table-cell;\">outline_line_dash_offset&nbsp;=&nbsp;0,</div></div><div class=\"1107\" style=\"display: none;\"><div style=\"display: table-cell;\"></div><div style=\"display: table-cell;\">outline_line_join&nbsp;=&nbsp;'bevel',</div></div><div class=\"1107\" style=\"display: none;\"><div style=\"display: table-cell;\"></div><div style=\"display: table-cell;\">outline_line_width&nbsp;=&nbsp;1,</div></div><div class=\"1107\" style=\"display: none;\"><div style=\"display: table-cell;\"></div><div style=\"display: table-cell;\">output_backend&nbsp;=&nbsp;'canvas',</div></div><div class=\"1107\" style=\"display: none;\"><div style=\"display: table-cell;\"></div><div style=\"display: table-cell;\">renderers&nbsp;=&nbsp;[GlyphRenderer(id='1037', ...)],</div></div><div class=\"1107\" style=\"display: none;\"><div style=\"display: table-cell;\"></div><div style=\"display: table-cell;\">reset_policy&nbsp;=&nbsp;'standard',</div></div><div class=\"1107\" style=\"display: none;\"><div style=\"display: table-cell;\"></div><div style=\"display: table-cell;\">right&nbsp;=&nbsp;[],</div></div><div class=\"1107\" style=\"display: none;\"><div style=\"display: table-cell;\"></div><div style=\"display: table-cell;\">sizing_mode&nbsp;=&nbsp;None,</div></div><div class=\"1107\" style=\"display: none;\"><div style=\"display: table-cell;\"></div><div style=\"display: table-cell;\">subscribed_events&nbsp;=&nbsp;[],</div></div><div class=\"1107\" style=\"display: none;\"><div style=\"display: table-cell;\"></div><div style=\"display: table-cell;\">syncable&nbsp;=&nbsp;True,</div></div><div class=\"1107\" style=\"display: none;\"><div style=\"display: table-cell;\"></div><div style=\"display: table-cell;\">tags&nbsp;=&nbsp;[],</div></div><div class=\"1107\" style=\"display: none;\"><div style=\"display: table-cell;\"></div><div style=\"display: table-cell;\">title&nbsp;=&nbsp;Title(id='1041', ...),</div></div><div class=\"1107\" style=\"display: none;\"><div style=\"display: table-cell;\"></div><div style=\"display: table-cell;\">title_location&nbsp;=&nbsp;'above',</div></div><div class=\"1107\" style=\"display: none;\"><div style=\"display: table-cell;\"></div><div style=\"display: table-cell;\">toolbar&nbsp;=&nbsp;Toolbar(id='1027', ...),</div></div><div class=\"1107\" style=\"display: none;\"><div style=\"display: table-cell;\"></div><div style=\"display: table-cell;\">toolbar_location&nbsp;=&nbsp;'right',</div></div><div class=\"1107\" style=\"display: none;\"><div style=\"display: table-cell;\"></div><div style=\"display: table-cell;\">toolbar_sticky&nbsp;=&nbsp;True,</div></div><div class=\"1107\" style=\"display: none;\"><div style=\"display: table-cell;\"></div><div style=\"display: table-cell;\">visible&nbsp;=&nbsp;True,</div></div><div class=\"1107\" style=\"display: none;\"><div style=\"display: table-cell;\"></div><div style=\"display: table-cell;\">width&nbsp;=&nbsp;600,</div></div><div class=\"1107\" style=\"display: none;\"><div style=\"display: table-cell;\"></div><div style=\"display: table-cell;\">width_policy&nbsp;=&nbsp;'auto',</div></div><div class=\"1107\" style=\"display: none;\"><div style=\"display: table-cell;\"></div><div style=\"display: table-cell;\">x_range&nbsp;=&nbsp;DataRange1d(id='1004', ...),</div></div><div class=\"1107\" style=\"display: none;\"><div style=\"display: table-cell;\"></div><div style=\"display: table-cell;\">x_scale&nbsp;=&nbsp;LinearScale(id='1008', ...),</div></div><div class=\"1107\" style=\"display: none;\"><div style=\"display: table-cell;\"></div><div style=\"display: table-cell;\">y_range&nbsp;=&nbsp;DataRange1d(id='1006', ...),</div></div><div class=\"1107\" style=\"display: none;\"><div style=\"display: table-cell;\"></div><div style=\"display: table-cell;\">y_scale&nbsp;=&nbsp;LinearScale(id='1010', ...))</div></div></div>\n",
              "<script>\n",
              "(function() {\n",
              "  var expanded = false;\n",
              "  var ellipsis = document.getElementById(\"1108\");\n",
              "  ellipsis.addEventListener(\"click\", function() {\n",
              "    var rows = document.getElementsByClassName(\"1107\");\n",
              "    for (var i = 0; i < rows.length; i++) {\n",
              "      var el = rows[i];\n",
              "      el.style.display = expanded ? \"none\" : \"table-row\";\n",
              "    }\n",
              "    ellipsis.innerHTML = expanded ? \"&hellip;)\" : \"&lsaquo;&lsaquo;&lsaquo;\";\n",
              "    expanded = !expanded;\n",
              "  });\n",
              "})();\n",
              "</script>\n"
            ],
            "text/plain": [
              "Figure(id='1003', ...)"
            ]
          },
          "metadata": {},
          "execution_count": 31
        }
      ]
    },
    {
      "cell_type": "markdown",
      "metadata": {
        "id": "0fNF6LRQ9MPI"
      },
      "source": [
        "Скорее всего, на визуализации нет четкого разделения твитов между классами. Это значит, что по полученным нами векторам твитов не так-то просто определить, к какому классу твит пренадлежит. Значит, обычный линейный классификатор не очень хорошо справится с задачей. Надо будет делать глубокую (хотя бы два слоя) нейронную сеть.\n",
        "\n",
        "Подготовим загрузчики данных.\n",
        "Усреднее векторов будем делать в \"батчевалке\"(`collate_fn`). Она используется для того, чтобы собирать из данных `torch.Tensor` батчи, которые можно отправлять в модель.\n"
      ]
    },
    {
      "cell_type": "code",
      "metadata": {
        "id": "6T9zN6l2TFyw"
      },
      "source": [
        "from torch.utils.data import DataLoader\n"
      ],
      "execution_count": 32,
      "outputs": []
    },
    {
      "cell_type": "code",
      "metadata": {
        "id": "y1XapsADtITv",
        "colab": {
          "base_uri": "https://localhost:8080/"
        },
        "outputId": "e23c786f-2bed-48cc-8d7d-beb6bc774cd9"
      },
      "source": [
        "batch_size = 1024\n",
        "num_workers = 4\n",
        "\n",
        "def average_emb(batch):\n",
        "    features = [np.mean(b[\"feature\"], axis=0) for b in batch]\n",
        "    targets = [b[\"target\"] for b in batch]\n",
        "\n",
        "    return {\"features\": torch.FloatTensor(features), \"targets\": torch.LongTensor(targets)}\n",
        "\n",
        "\n",
        "train_size = math.ceil(len(dev) * 0.8)\n",
        "\n",
        "train, valid = random_split(dev, [train_size, len(dev) - train_size])\n",
        "\n",
        "train_loader = DataLoader(train, batch_size=batch_size, num_workers=num_workers, shuffle=True, drop_last=True, collate_fn=average_emb)\n",
        "valid_loader = DataLoader(valid, batch_size=batch_size, num_workers=num_workers, shuffle=False, drop_last=False, collate_fn=average_emb)"
      ],
      "execution_count": 33,
      "outputs": [
        {
          "output_type": "stream",
          "name": "stderr",
          "text": [
            "/usr/local/lib/python3.7/dist-packages/torch/utils/data/dataloader.py:481: UserWarning: This DataLoader will create 4 worker processes in total. Our suggested max number of worker in current system is 2, which is smaller than what this DataLoader is going to create. Please be aware that excessive worker creation might get DataLoader running slow or even freeze, lower the worker number to avoid potential slowness/freeze if necessary.\n",
            "  cpuset_checked))\n"
          ]
        }
      ]
    },
    {
      "cell_type": "markdown",
      "metadata": {
        "id": "p-zs0WEK-Vkt"
      },
      "source": [
        "Определим функции для тренировки и теста модели:"
      ]
    },
    {
      "cell_type": "code",
      "metadata": {
        "id": "U--T2Gjw1r27"
      },
      "source": [
        "from tqdm.notebook import tqdm\n",
        "\n",
        "\n",
        "def training(model, optimizer, criterion, train_loader, epoch, device=\"cpu\"):\n",
        "    pbar = tqdm(train_loader, desc=f\"Epoch {e + 1}. Train Loss: {0}\")\n",
        "    model.train()\n",
        "    \n",
        "    for batch in pbar:\n",
        "        features = batch[\"features\"].to(device)\n",
        "        targets = batch[\"targets\"].to(device)\n",
        "\n",
        "        pred_targets = model(features)# Получи предсказания модели\n",
        "        loss = criterion(pred_targets, targets) # Посчитай лосс\n",
        "        # Обнови параметры модели\n",
        "        optimizer.zero_grad()\n",
        "        loss.backward()\n",
        "        optimizer.step()\n",
        "        pbar.set_description(f\"Epoch {e + 1}. Train Loss: {loss:.4}\")\n",
        "\n",
        "\n",
        "\n",
        "def testing(model, criterion, test_loader, device=\"cpu\"):\n",
        "    pbar = tqdm(test_loader, desc=f\"Test Loss: {0}, Test Acc: {0}\")\n",
        "    mean_loss = 0\n",
        "    mean_acc = 0\n",
        "    model.eval()\n",
        "    with torch.no_grad():\n",
        "        for batch in pbar:\n",
        "            features = batch[\"features\"].to(device)\n",
        "            targets = batch[\"targets\"].to(device)\n",
        "\n",
        "            # Получи предсказания модели\n",
        "            pred_targets = model(features)\n",
        "            loss = criterion(pred_targets, targets) # Посчитай лосс\n",
        "            preds = torch.argmax(pred_targets, dim=1)\n",
        "            acc = (preds==targets).cpu().numpy().mean() # Посчитай точность модели\n",
        "\n",
        "            mean_loss += loss.item()\n",
        "            mean_acc += acc.item()\n",
        "\n",
        "            pbar.set_description(f\"Test Loss: {loss:.4}, Test Acc: {acc:.4}\")\n",
        "\n",
        "    pbar.set_description(f\"Test Loss: {mean_loss / len(test_loader):.4}, Test Acc: {mean_acc / len(test_loader):.4}\")\n",
        "\n",
        "    return {\"Test Loss\": mean_loss / len(test_loader), \"Test Acc\": mean_acc / len(test_loader)}"
      ],
      "execution_count": 34,
      "outputs": []
    },
    {
      "cell_type": "markdown",
      "metadata": {
        "id": "oVg_XBBb-YBH"
      },
      "source": [
        "Создадим модель, оптимизатор и целевую функцию. Вы можете сами выбрать количество слоев в нейронной сети, ваш любимый оптимизатор и целевую функцию.\n"
      ]
    },
    {
      "cell_type": "code",
      "metadata": {
        "id": "OgGlydMwAQI-"
      },
      "source": [
        "import torch.nn as nn\n",
        "from torch.optim import Adam"
      ],
      "execution_count": 15,
      "outputs": []
    },
    {
      "cell_type": "code",
      "metadata": {
        "id": "EBoZ4F3Fx1Hm"
      },
      "source": [
        "vector_size = dev.word2vec.vector_size\n",
        "num_classes = 2\n",
        "lr = 1e-2\n",
        "num_epochs = 1\n",
        "\n",
        "model = nn.Sequential(nn.Linear(vector_size, 1024), nn.ReLU(), nn.Linear(1024, num_classes))# Твоя модель\n",
        "model = model.cuda()\n",
        "criterion = nn.CrossEntropyLoss()# Твой лосс\n",
        "optimizer = Adam(model.parameters(), lr )# Твой оптимайзер"
      ],
      "execution_count": 36,
      "outputs": []
    },
    {
      "cell_type": "markdown",
      "metadata": {
        "id": "-AitU8AR-zBj"
      },
      "source": [
        "Наконец, обучим модель и протестируем её.\n",
        "\n",
        "После каждой эпохи будем проверять качество модели на валидационной части датасета. Если метрика стала лучше, будем сохранять модель. **Подумайте, какая метрика (точность или лосс) будет лучше работать в этой задаче?** "
      ]
    },
    {
      "cell_type": "code",
      "metadata": {
        "id": "gKhk71Pmx1F1",
        "colab": {
          "base_uri": "https://localhost:8080/",
          "height": 152,
          "referenced_widgets": [
            "275925e616624bd5bca8a214cd7a8b4d",
            "4ea51c5632bf474ba4036ea5e8ca7215",
            "d6d604fd855149dba87e5907d9a35d82",
            "dc289d22bcb244d584001374478a9b9d",
            "0bffcd25de6c4538a8c11ffd1b111cf6",
            "1404bcd0182a4cd39a6ae9958f83796d",
            "a037a8b4eeca4bf495addccbb7b5783a",
            "b5b1e683399b42cc91a8b9f0d2cdf71f",
            "ca345102e1924bf8856e89d6629c351d",
            "29037f045ad64d2982b38af2ad6937f8",
            "6d9761de141c45c9bfc6ce374fa07f90",
            "37e1ea7a41644a7ead92e444082d05a4",
            "b8f68215a3e540d6a071845f423d72ad",
            "9aedc3c111254d94bb33443d31d5fba9",
            "04f9b48f3b5a40feb874def03486b1ff",
            "7738f8826809417181a3af1d3283ad1a",
            "345c7e73c8774db5a4566a8de7007a03",
            "4d2de0edb5f84c1b9753dd9ca59bf313",
            "d919521927c94e7a85c09401e5deba24",
            "b927f9962bcc4a7b9e13635835701f13",
            "306557f4d3574f4094b5652bf23b83f3",
            "40f10e11aa3540f096482f2b1efa7e8c"
          ]
        },
        "outputId": "d28d02fe-18b5-4c37-82f1-fabe2dce3ce0"
      },
      "source": [
        "best_metric = np.inf\n",
        "for e in range(num_epochs):\n",
        "    training(model, optimizer, criterion, train_loader, e, device)\n",
        "    log = testing(model, criterion, valid_loader, device)\n",
        "    print(log)\n",
        "    if log[\"Test Loss\"] < best_metric:\n",
        "        torch.save(model.state_dict(), \"model.pt\")\n",
        "        best_metric = log[\"Test Loss\"]"
      ],
      "execution_count": 37,
      "outputs": [
        {
          "output_type": "display_data",
          "data": {
            "application/vnd.jupyter.widget-view+json": {
              "model_id": "275925e616624bd5bca8a214cd7a8b4d",
              "version_minor": 0,
              "version_major": 2
            },
            "text/plain": [
              "Epoch 1. Train Loss: 0:   0%|          | 0/1000 [00:00<?, ?it/s]"
            ]
          },
          "metadata": {}
        },
        {
          "output_type": "stream",
          "name": "stderr",
          "text": [
            "/usr/local/lib/python3.7/dist-packages/torch/utils/data/dataloader.py:481: UserWarning: This DataLoader will create 4 worker processes in total. Our suggested max number of worker in current system is 2, which is smaller than what this DataLoader is going to create. Please be aware that excessive worker creation might get DataLoader running slow or even freeze, lower the worker number to avoid potential slowness/freeze if necessary.\n",
            "  cpuset_checked))\n"
          ]
        },
        {
          "output_type": "display_data",
          "data": {
            "application/vnd.jupyter.widget-view+json": {
              "model_id": "37e1ea7a41644a7ead92e444082d05a4",
              "version_minor": 0,
              "version_major": 2
            },
            "text/plain": [
              "Test Loss: 0, Test Acc: 0:   0%|          | 0/250 [00:00<?, ?it/s]"
            ]
          },
          "metadata": {}
        },
        {
          "output_type": "stream",
          "name": "stdout",
          "text": [
            "{'Test Loss': 0.5429359939098358, 'Test Acc': 0.729140625}\n"
          ]
        }
      ]
    },
    {
      "cell_type": "code",
      "metadata": {
        "id": "di4dGwD4x1Dt",
        "colab": {
          "base_uri": "https://localhost:8080/",
          "height": 120,
          "referenced_widgets": [
            "41b755c6ef654b219dc830dae26840cc",
            "8ae31f8edf5d4c55af0a34408919c2e6",
            "7448909871024ebab2480635c8fec4c1",
            "c380363fa61e43479b1a129d27e44d7c",
            "92a848991cac44878a97bbd45c326cc0",
            "e486030e89d4402d93656c9e5da5a177",
            "fa8bc5503a20445c93b18990d2cb2a77",
            "f4d80aac97e049c780aeb4b5499948b2",
            "2d63536392804b36abccd9e642c7fbd8",
            "d1b7fd2c646543a7ae88bfbe494fcc4d",
            "f185bd4dfa22474d800d2b6f20d8efed"
          ]
        },
        "outputId": "2a316cf0-2b7f-4f67-f81e-bb6d2b89f5bf"
      },
      "source": [
        "test_loader = DataLoader(\n",
        "    TwitterDataset(test_data, \"text\", \"emotion\", word2vec), \n",
        "    batch_size=batch_size, \n",
        "    num_workers=num_workers, \n",
        "    shuffle=False,\n",
        "    drop_last=False, \n",
        "    collate_fn=average_emb)\n",
        "\n",
        "model.load_state_dict(torch.load(\"model.pt\", map_location=device))\n",
        "\n",
        "print(testing(model, criterion, test_loader, device=device))"
      ],
      "execution_count": 38,
      "outputs": [
        {
          "output_type": "stream",
          "name": "stderr",
          "text": [
            "/usr/local/lib/python3.7/dist-packages/torch/utils/data/dataloader.py:481: UserWarning: This DataLoader will create 4 worker processes in total. Our suggested max number of worker in current system is 2, which is smaller than what this DataLoader is going to create. Please be aware that excessive worker creation might get DataLoader running slow or even freeze, lower the worker number to avoid potential slowness/freeze if necessary.\n",
            "  cpuset_checked))\n"
          ]
        },
        {
          "output_type": "display_data",
          "data": {
            "application/vnd.jupyter.widget-view+json": {
              "model_id": "41b755c6ef654b219dc830dae26840cc",
              "version_minor": 0,
              "version_major": 2
            },
            "text/plain": [
              "Test Loss: 0, Test Acc: 0:   0%|          | 0/313 [00:00<?, ?it/s]"
            ]
          },
          "metadata": {}
        },
        {
          "output_type": "stream",
          "name": "stdout",
          "text": [
            "{'Test Loss': 0.5444025133554928, 'Test Acc': 0.7296544279153354}\n"
          ]
        }
      ]
    },
    {
      "cell_type": "markdown",
      "metadata": {
        "id": "ZRvzpldHSAu0"
      },
      "source": [
        "## Embeddings for unknown words (8 баллов)\n",
        "\n",
        "Пока что использовалась не вся информация из текста. Часть информации фильтровалось – если слова не было в словаре эмбеддингов, то мы просто превращали слово в нулевой вектор. Хочется использовать информацию по-максимуму. Поэтому рассмотрим другие способы обработки слов, которых нет в словаре. А именно:\n",
        "\n",
        "- Для каждого незнакомого слова будем запоминать его контекст(слова слева и справа от этого слова). Эмбеддингом нашего незнакомого слова будет сумма эмбеддингов всех слов из его контекста. (4 балла)\n",
        "- Для каждого слова текста получим его эмбеддинг из Tfidf с помощью ```TfidfVectorizer``` из [sklearn](https://scikit-learn.org/stable/modules/generated/sklearn.feature_extraction.text.TfidfVectorizer.html#sklearn.feature_extraction.text.TfidfVectorizer). Итоговым эмбеддингом для каждого слова будет сумма двух эмбеддингов: предобученного и Tfidf-ного. Для слов, которых нет в словаре предобученных эмбеддингов, результирующий эмбеддинг будет просто полученный из Tfidf. (4 балла)\n",
        "\n",
        "Реализуйте оба варианта **ниже**. Напишите, какой способ сработал лучше и ваши мысли, почему так получилось."
      ]
    },
    {
      "cell_type": "code",
      "metadata": {
        "id": "RxhEpKalU1UQ"
      },
      "source": [
        "class TwitterDatasetForUnknownWords(TwitterDataset):\n",
        "\n",
        "    def get_tokens_(self, text):\n",
        "        line = self.tokenizer.tokenize(text.lower())\n",
        "        filtered_line = [w for w in line if all(c not in string.punctuation+'@' for c in w) and len(w) > 3]\n",
        "        return filtered_line\n",
        "\n",
        "    # версия, когда в качестве ембединга неизвестного слова берется контекст с шириной окна, равного 1\n",
        "    def get_embeddings_(self, tokens):\n",
        "        if len(tokens) == 0:\n",
        "          return np.zeros_like(self.get_embeddings_('next'))\n",
        "        embeddings = []\n",
        "        for i, w in enumerate(tokens):\n",
        "          if w in self.word2vec:\n",
        "            embeddings.append((self.word2vec[w] - self.mean)/self.std)\n",
        "          else:\n",
        "            if i == 0:\n",
        "              if len(tokens) > 1 and tokens[i+1] in self.word2vec:\n",
        "                embeddings.append((self.word2vec[tokens[i+1]] - self.mean)/self.std)\n",
        "              else:\n",
        "                embeddings.append(np.zeros_like(self.word2vec['next']))\n",
        "            else:\n",
        "              if i == len(tokens) - 1:\n",
        "                embeddings.append(embeddings[i-1])\n",
        "              else:\n",
        "                if tokens[i+1] in self.word2vec:\n",
        "                  embeddings.append(embeddings[i-1] + (self.word2vec[tokens[i+1]] - self.mean)/self.std)\n",
        "                else:\n",
        "                  embeddings.append(embeddings[i-1])\n",
        "                \n",
        "        embeddings = np.array(embeddings)\n",
        "        return embeddings  \n"
      ],
      "execution_count": 39,
      "outputs": []
    },
    {
      "cell_type": "code",
      "metadata": {
        "id": "deGY6a4tYM_V"
      },
      "source": [
        "dev = TwitterDatasetForUnknownWords(dev_data, \"text\", \"emotion\", word2vec)"
      ],
      "execution_count": 40,
      "outputs": []
    },
    {
      "cell_type": "code",
      "metadata": {
        "id": "kuo_rRUNWPgm"
      },
      "source": [
        "vector_size = dev.word2vec.vector_size\n",
        "num_classes = 2\n",
        "lr = 1e-2\n",
        "num_epochs = 1\n",
        "\n",
        "model = nn.Sequential(nn.Linear(vector_size, 1024), nn.ReLU(), nn.Linear(1024, num_classes))\n",
        "model = model.cuda()\n",
        "criterion = nn.CrossEntropyLoss()\n",
        "optimizer = Adam(model.parameters(), lr )"
      ],
      "execution_count": 41,
      "outputs": []
    },
    {
      "cell_type": "code",
      "metadata": {
        "id": "vICToT3nWYoJ",
        "colab": {
          "base_uri": "https://localhost:8080/",
          "height": 152,
          "referenced_widgets": [
            "4960f287dbe64afd968258104e3b9b33",
            "79988a28d11e4b0a90f79594f8b94163",
            "e03f235dc2c64dc4a568148ee1d9f3be",
            "2e640fd86c3e4be29f588b034283fba1",
            "7b5bf3eb7b5c4e9b8fb9db4e1eca281a",
            "ee6481a806ee49a2a5a69bb547c80428",
            "8f9835c01bd04d8b99bbd7bc6f681709",
            "2066e9d9a8d844e7ba20a0691cd868b2",
            "39853da84a1b431abe7d22a0710fdada",
            "324673e8c6d243ada0d2c821b052372a",
            "e46127027c9b4e2fb819958bc713382d",
            "9c7b9d13d504425ab87983f40ffc9d3c",
            "af8ba54786524cd2951bafade2ddcabc",
            "c20de29ece314b10a77b93f41f116de2",
            "7e44b6bca36f443c8e3f0d8a4b90e96c",
            "9d5b876cd77c43b6947f7ba0e8dc52b5",
            "236f19ebc7084ee6be80be349f4b4d6a",
            "f501f69bc2c84ead99984707e455f97e",
            "91a0be459308487d93873fc23fbe5ca5",
            "63a136bc791f4973b12290bab8b914d5",
            "5c6c73f72c3e424ca20f794c8fff1be1",
            "3b7ab9ee8c264bec9bae06ab15e12331"
          ]
        },
        "outputId": "4dcdacfb-090d-482d-820e-9b25f2da3c84"
      },
      "source": [
        "best_metric = np.inf\n",
        "for e in range(num_epochs):\n",
        "    training(model, optimizer, criterion, train_loader, e, device)\n",
        "    log = testing(model, criterion, valid_loader, device)\n",
        "    print(log)\n",
        "    if log[\"Test Loss\"] < best_metric:\n",
        "        torch.save(model.state_dict(), \"model.pt\")\n",
        "        best_metric = log[\"Test Loss\"] "
      ],
      "execution_count": 42,
      "outputs": [
        {
          "output_type": "display_data",
          "data": {
            "application/vnd.jupyter.widget-view+json": {
              "model_id": "4960f287dbe64afd968258104e3b9b33",
              "version_minor": 0,
              "version_major": 2
            },
            "text/plain": [
              "Epoch 1. Train Loss: 0:   0%|          | 0/1000 [00:00<?, ?it/s]"
            ]
          },
          "metadata": {}
        },
        {
          "output_type": "stream",
          "name": "stderr",
          "text": [
            "/usr/local/lib/python3.7/dist-packages/torch/utils/data/dataloader.py:481: UserWarning: This DataLoader will create 4 worker processes in total. Our suggested max number of worker in current system is 2, which is smaller than what this DataLoader is going to create. Please be aware that excessive worker creation might get DataLoader running slow or even freeze, lower the worker number to avoid potential slowness/freeze if necessary.\n",
            "  cpuset_checked))\n"
          ]
        },
        {
          "output_type": "display_data",
          "data": {
            "application/vnd.jupyter.widget-view+json": {
              "model_id": "9c7b9d13d504425ab87983f40ffc9d3c",
              "version_minor": 0,
              "version_major": 2
            },
            "text/plain": [
              "Test Loss: 0, Test Acc: 0:   0%|          | 0/250 [00:00<?, ?it/s]"
            ]
          },
          "metadata": {}
        },
        {
          "output_type": "stream",
          "name": "stdout",
          "text": [
            "{'Test Loss': 0.5450632212162018, 'Test Acc': 0.72519921875}\n"
          ]
        }
      ]
    },
    {
      "cell_type": "code",
      "metadata": {
        "colab": {
          "base_uri": "https://localhost:8080/",
          "height": 120,
          "referenced_widgets": [
            "3699e9fc10f94ca48c5932ddcda2b7e5",
            "f655a8da6aa242eab6a6785f1820d02a",
            "e3d6930ed69a42a594ee78514b785e9b",
            "d38fc286e40a48c8823876a400e6bd34",
            "e30c385c2574423eb5cd26ddb1252fb3",
            "63b8a73f30f642498c0bb76628a2ed63",
            "4dffb4d5fc5d4138b62814fc4cd65631",
            "2601d3f1085b4691bde07c48c74da1db",
            "0bc740e91fed451293afe87a7e7379e3",
            "345d2fe510c44f42b1b0199c34857265",
            "43275830a9b34c08ab548f17e016da5f"
          ]
        },
        "id": "5L3cVCpZ2hHi",
        "outputId": "9c52b8a9-48f5-4160-c243-8a3110a3784c"
      },
      "source": [
        "print(testing(model, criterion, test_loader, device=device)) "
      ],
      "execution_count": 43,
      "outputs": [
        {
          "output_type": "display_data",
          "data": {
            "application/vnd.jupyter.widget-view+json": {
              "model_id": "3699e9fc10f94ca48c5932ddcda2b7e5",
              "version_minor": 0,
              "version_major": 2
            },
            "text/plain": [
              "Test Loss: 0, Test Acc: 0:   0%|          | 0/313 [00:00<?, ?it/s]"
            ]
          },
          "metadata": {}
        },
        {
          "output_type": "stream",
          "name": "stderr",
          "text": [
            "/usr/local/lib/python3.7/dist-packages/torch/utils/data/dataloader.py:481: UserWarning: This DataLoader will create 4 worker processes in total. Our suggested max number of worker in current system is 2, which is smaller than what this DataLoader is going to create. Please be aware that excessive worker creation might get DataLoader running slow or even freeze, lower the worker number to avoid potential slowness/freeze if necessary.\n",
            "  cpuset_checked))\n"
          ]
        },
        {
          "output_type": "stream",
          "name": "stdout",
          "text": [
            "{'Test Loss': 0.5460617658429252, 'Test Acc': 0.7246124950079872}\n"
          ]
        }
      ]
    },
    {
      "cell_type": "markdown",
      "metadata": {
        "id": "-RQI2uCMurwX"
      },
      "source": [
        "# Версия TF-IDF + Word2Vec"
      ]
    },
    {
      "cell_type": "code",
      "metadata": {
        "colab": {
          "base_uri": "https://localhost:8080/"
        },
        "id": "GuvAeiaB_iaT",
        "outputId": "c44ebaa5-4a17-4769-a778-1c69beac0bd2"
      },
      "source": [
        "!pip install sparsesvd"
      ],
      "execution_count": 44,
      "outputs": [
        {
          "output_type": "stream",
          "name": "stdout",
          "text": [
            "Requirement already satisfied: sparsesvd in /usr/local/lib/python3.7/dist-packages (0.2.2)\n",
            "Requirement already satisfied: cython in /usr/local/lib/python3.7/dist-packages (from sparsesvd) (0.29.24)\n",
            "Requirement already satisfied: scipy>=0.6.0 in /usr/local/lib/python3.7/dist-packages (from sparsesvd) (1.4.1)\n",
            "Requirement already satisfied: numpy>=1.13.3 in /usr/local/lib/python3.7/dist-packages (from scipy>=0.6.0->sparsesvd) (1.19.5)\n"
          ]
        }
      ]
    },
    {
      "cell_type": "code",
      "metadata": {
        "id": "OHKradEKgdTx",
        "colab": {
          "base_uri": "https://localhost:8080/"
        },
        "outputId": "7af93492-8608-4a14-a872-d74a3fd318d4"
      },
      "source": [
        "from sklearn.feature_extraction.text import TfidfVectorizer\n",
        "import spacy\n",
        "from sparsesvd import sparsesvd\n",
        "\n",
        "vectorizer = TfidfVectorizer(tokenizer = tokenizer.tokenize, min_df=5)\n",
        "filtered_dev_data = []\n",
        "for line in dev_data['text']:\n",
        "    line = \" \".join(tokenizer.tokenize(line.lower()))\n",
        "    new_line = ' '.join([w for w in line.split() if  len(w) > 3 and all(c not in string.punctuation+'@' for c in w) ]) \n",
        "    if new_line:\n",
        "        filtered_dev_data.append(new_line)\n",
        "filtered_dev_data = np.array(filtered_dev_data)\n",
        "print(filtered_dev_data.shape)\n",
        "X = vectorizer.fit_transform(filtered_dev_data)"
      ],
      "execution_count": 45,
      "outputs": [
        {
          "output_type": "stream",
          "name": "stdout",
          "text": [
            "(1277797,)\n"
          ]
        }
      ]
    },
    {
      "cell_type": "code",
      "metadata": {
        "id": "aanpEikUToJi"
      },
      "source": [
        "u, s, vt = sparsesvd(X.tocsc(), 300)\n",
        "k, v = vectorizer.get_feature_names(), vt.T\n",
        "tf_idf_embeddings = {k[i]:v[i] for i in range(len(v))}"
      ],
      "execution_count": 46,
      "outputs": []
    },
    {
      "cell_type": "code",
      "metadata": {
        "id": "A_Huzu_eghYt"
      },
      "source": [
        "class TwitterDatasetWithTfIdf(TwitterDataset):\n",
        "\n",
        "    def __init__(self, data: pd.DataFrame, feature_column: str, target_column: str, word2vec: gensim.models.Word2Vec, tf_idf_embeddings, vectorizer):\n",
        "        super().__init__(data, feature_column, target_column, word2vec)\n",
        "        self.vectorizer = vectorizer\n",
        "        self.tf_idf_embeddings = tf_idf_embeddings\n",
        "        \n",
        "    def get_tokens_(self, text):\n",
        "        line = self.tokenizer.tokenize(text.lower())\n",
        "        filtered_line = [w for w in line if all(c not in string.punctuation+'@' for c in w) and len(w) > 3]\n",
        "        return filtered_line\n",
        "\n",
        "    def get_embeddings_(self, tokens):\n",
        "        if len(tokens) == 0:\n",
        "          return np.zeros_like(self.get_embeddings_('next'))\n",
        "        embeddings = []\n",
        "        for w in tokens:   \n",
        "          if w in self.word2vec:\n",
        "            if w in self.tf_idf_embeddings.keys():\n",
        "              embeddings.append((self.word2vec[w] - self.mean)/self.std + self.tf_idf_embeddings[w]) \n",
        "            else:\n",
        "              embeddings.append((self.word2vec[w] - self.mean)/self.std)\n",
        "          else:\n",
        "            if w in self.tf_idf_embeddings.keys():\n",
        "              embeddings.append(self.tf_idf_embeddings[w])\n",
        "            else:\n",
        "              embeddings.append(np.zeros(300))\n",
        "                \n",
        "        embeddings = np.array(embeddings)\n",
        "        return embeddings"
      ],
      "execution_count": 47,
      "outputs": []
    },
    {
      "cell_type": "code",
      "metadata": {
        "id": "8o4FHDgIlXpw"
      },
      "source": [
        "dev = TwitterDatasetWithTfIdf(dev_data, \"text\", \"emotion\", word2vec, tf_idf_embeddings, vectorizer)"
      ],
      "execution_count": 48,
      "outputs": []
    },
    {
      "cell_type": "code",
      "metadata": {
        "id": "0C_LxquelcCT"
      },
      "source": [
        "vector_size = dev.word2vec.vector_size\n",
        "num_classes = 2\n",
        "lr = 1e-2\n",
        "num_epochs = 1\n",
        "\n",
        "model = nn.Sequential(nn.Linear(vector_size, 1024), nn.ReLU(), nn.Linear(1024, num_classes))\n",
        "model = model.cuda()\n",
        "criterion = nn.CrossEntropyLoss()\n",
        "optimizer = Adam(model.parameters(), lr )"
      ],
      "execution_count": 49,
      "outputs": []
    },
    {
      "cell_type": "code",
      "metadata": {
        "id": "ad4aSQeDlihh",
        "colab": {
          "base_uri": "https://localhost:8080/",
          "height": 152,
          "referenced_widgets": [
            "a66d0126c18145cf9f21498b298b5689",
            "a5ee3fd075be4e2e8a5008634b0b13aa",
            "814c965a68e642519f386bb9865bbe13",
            "a41a8e55b702411f8832e3bf82cd0730",
            "d071ddf130b44e69888097c0ae1f9b29",
            "c5b38fbec9784a948cb467b05c20fad9",
            "a953e7e508d54f78b475391b38b8671f",
            "a869fdea9bb646f1b9a3f521adaffa5d",
            "de9401d61cf74615a42c63f4682b92ba",
            "051a798366514d5697ca003da7fef462",
            "e36ffc2c0496431ebafa2e2dc768ca1d",
            "5589d364f49047f98051577aabca5180",
            "d7529be4f0954e9b85716366e289199e",
            "9cd330f5b4e04e709c8f7b5a6bdaa682",
            "27ca3e77f0964aa5b8cb808bbc9ffecf",
            "89dbe7a2056b4e9383966f1aed41f718",
            "948395f713a2489ea3f11dc0e5905989",
            "4d3e8fd49a1245b8a40e2fc280f03999",
            "5d8ebaf9f45c4cb2bf9de7a313ce11b3",
            "658efc4b72094a5a858f388f0654f92c",
            "6c192dfdda874f49a10c61dd470950ed",
            "942d7120a4084095bfdace8fe08774b2"
          ]
        },
        "outputId": "8f3fd0a0-01ef-4732-d64e-5d63e3cf425c"
      },
      "source": [
        "best_metric = np.inf\n",
        "for e in range(num_epochs):\n",
        "    training(model, optimizer, criterion, train_loader, e, device)\n",
        "    log = testing(model, criterion, valid_loader, device)\n",
        "    print(log)\n",
        "    if log[\"Test Loss\"] < best_metric:\n",
        "        torch.save(model.state_dict(), \"model.pt\")\n",
        "        best_metric = log[\"Test Loss\"]"
      ],
      "execution_count": 50,
      "outputs": [
        {
          "output_type": "display_data",
          "data": {
            "application/vnd.jupyter.widget-view+json": {
              "model_id": "a66d0126c18145cf9f21498b298b5689",
              "version_minor": 0,
              "version_major": 2
            },
            "text/plain": [
              "Epoch 1. Train Loss: 0:   0%|          | 0/1000 [00:00<?, ?it/s]"
            ]
          },
          "metadata": {}
        },
        {
          "output_type": "stream",
          "name": "stderr",
          "text": [
            "/usr/local/lib/python3.7/dist-packages/torch/utils/data/dataloader.py:481: UserWarning: This DataLoader will create 4 worker processes in total. Our suggested max number of worker in current system is 2, which is smaller than what this DataLoader is going to create. Please be aware that excessive worker creation might get DataLoader running slow or even freeze, lower the worker number to avoid potential slowness/freeze if necessary.\n",
            "  cpuset_checked))\n"
          ]
        },
        {
          "output_type": "display_data",
          "data": {
            "application/vnd.jupyter.widget-view+json": {
              "model_id": "5589d364f49047f98051577aabca5180",
              "version_minor": 0,
              "version_major": 2
            },
            "text/plain": [
              "Test Loss: 0, Test Acc: 0:   0%|          | 0/250 [00:00<?, ?it/s]"
            ]
          },
          "metadata": {}
        },
        {
          "output_type": "stream",
          "name": "stdout",
          "text": [
            "{'Test Loss': 0.5555121970176696, 'Test Acc': 0.72711328125}\n"
          ]
        }
      ]
    },
    {
      "cell_type": "code",
      "metadata": {
        "colab": {
          "base_uri": "https://localhost:8080/",
          "height": 120,
          "referenced_widgets": [
            "a4f84a997b8b4b829ebcb46a92b3878e",
            "d8ea28c043a84e1bb8f28879574f303f",
            "65ac5f694f42427584e6c9dbab168768",
            "db5e6cfcfc7d4b9da4f42d3f44440087",
            "cee75a1701294f3bafd748c3e32393bb",
            "85855f91aeb34dd29c3e6863084bec2e",
            "17dee6ac428746a09fdfdff51b87ded8",
            "83f61d747e4342488886aa4dd9c6bc97",
            "c386c802232042e5917368746f06160a",
            "f766ccb9f6c7438eb5382fdff4bd5fdf",
            "031bd01ef0774a4bb3aaa72a5404ca05"
          ]
        },
        "id": "G8PCvKZp66PU",
        "outputId": "b88c07a2-46b0-4284-920b-5821aaa70297"
      },
      "source": [
        "print(testing(model, criterion, test_loader, device=device)) "
      ],
      "execution_count": 51,
      "outputs": [
        {
          "output_type": "display_data",
          "data": {
            "application/vnd.jupyter.widget-view+json": {
              "model_id": "a4f84a997b8b4b829ebcb46a92b3878e",
              "version_minor": 0,
              "version_major": 2
            },
            "text/plain": [
              "Test Loss: 0, Test Acc: 0:   0%|          | 0/313 [00:00<?, ?it/s]"
            ]
          },
          "metadata": {}
        },
        {
          "output_type": "stream",
          "name": "stderr",
          "text": [
            "/usr/local/lib/python3.7/dist-packages/torch/utils/data/dataloader.py:481: UserWarning: This DataLoader will create 4 worker processes in total. Our suggested max number of worker in current system is 2, which is smaller than what this DataLoader is going to create. Please be aware that excessive worker creation might get DataLoader running slow or even freeze, lower the worker number to avoid potential slowness/freeze if necessary.\n",
            "  cpuset_checked))\n"
          ]
        },
        {
          "output_type": "stream",
          "name": "stdout",
          "text": [
            "{'Test Loss': 0.5539057738483905, 'Test Acc': 0.7280101837060703}\n"
          ]
        }
      ]
    },
    {
      "cell_type": "markdown",
      "metadata": {
        "id": "FLX_MPpGh6aG"
      },
      "source": [
        "# Вывод\n",
        "Как видим - Test Acc примерно одинаковый во всех 3 подходах и равен 72-73%. На мой взгляд, это может объясняться тем, что слова, которые встречаются в нашем тексте и есть в word2vec достаточно хорошо предобучены и достаточно точно описывают предложение, в котором они встречаются, но мы сталкиваемся с другой проблемой - в наших текстах очень много слов, которых нет в word2vec. Ниже я посчитал отношение количества слов, которые встречаются в тексте и есть в word2vec к количеству слов, которых встречаются в тексте и нет в word2vec, и получил неожиданный для себя результат - это отношение равняется $0.18$. Таким образом, естественно напрашивается вывод, что в случае, когда мы пытаемся сделать embedding'и слов с помощью tf-idf, для слов, которых нет в word2vec, мы получим практически нулевые векторы, то есть не передающие никакого смысла, а следовательно практические не влияющие на обучение модели. В случае, когда мы пытаемся получить вектор слов, которых нет в word2vec, суммируя embedding'и слов, которые окружают его, мы впринципе не сильно меняем ситуацию, когда используем только слова из word2vec, потому что таким образом как бы \"удваиваем\" контекст предложения."
      ]
    },
    {
      "cell_type": "code",
      "metadata": {
        "colab": {
          "base_uri": "https://localhost:8080/"
        },
        "id": "IROA0nC9iBvw",
        "outputId": "fba91753-b2c9-4ccd-c712-4a25a1755f93"
      },
      "source": [
        "words_word2vec = set() # слова, которые встретились в нашем тексте и есть в word2vec\n",
        "for line in dev_data['text']:\n",
        "    line = \" \".join(tokenizer.tokenize(line.lower()))\n",
        "    for w in line.split():\n",
        "      if len(w)>3 and (w in word2vec) and all(c not in string.punctuation+'@' for c in w):\n",
        "        words_word2vec.add(w)\n",
        "    \n",
        "words_not_in_word2vec = set() # слова, которые встретились в нашем тексте, но их нет в word2vec\n",
        "for line in dev_data['text']:\n",
        "    line = \" \".join(tokenizer.tokenize(line.lower()))\n",
        "    for w in line.split():\n",
        "      if len(w)>3 and (w not in word2vec) and all(c not in string.punctuation+'@' for c in w):\n",
        "        words_not_in_word2vec.add(w)\n",
        "\n",
        "print(f'Количество слов, которые встретились в нашем тексте и есть в word2vec : {len(words_word2vec)} \\nКоличество слов, которые встретились в нашем тексте, но их нет в word2vec : {len(words_not_in_word2vec)}')\n",
        "print(f'Также посмотрим на соотношение между words_word2vec и words_not_in_word2vec : {len(words_word2vec)/len(words_not_in_word2vec)}')"
      ],
      "execution_count": 94,
      "outputs": [
        {
          "output_type": "stream",
          "name": "stdout",
          "text": [
            "Количество слов, которые встретились в нашем тексте и есть в word2vec : 83750 \n",
            "Количество слов, которые встретились в нашем тексте, но их нет в word2vec : 463155\n",
            "Также посмотрим на соотношение между words_word2vec и words_not_in_word2vec : 0.18082499379257483\n"
          ]
        }
      ]
    }
  ]
}