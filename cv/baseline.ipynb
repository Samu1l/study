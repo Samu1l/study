{
  "nbformat": 4,
  "nbformat_minor": 0,
  "metadata": {
    "kernelspec": {
      "display_name": "Python 3",
      "language": "python",
      "name": "python3"
    },
    "language_info": {
      "codemirror_mode": {
        "name": "ipython",
        "version": 3
      },
      "file_extension": ".py",
      "mimetype": "text/x-python",
      "name": "python",
      "nbconvert_exporter": "python",
      "pygments_lexer": "ipython3",
      "version": "3.7.4"
    },
    "colab": {
      "name": "Копия baseline.ipynb",
      "provenance": [],
      "collapsed_sections": []
    }
  },
  "cells": [
    {
      "cell_type": "markdown",
      "metadata": {
        "id": "TK7oX5qdEEYr"
      },
      "source": [
        "<p style=\"align: center;\"><img align=center src=\"https://s8.hostingkartinok.com/uploads/images/2018/08/308b49fcfbc619d629fe4604bceb67ac.jpg\" width=500 height=450/></p>\n",
        "\n",
        "<h3 style=\"text-align: center;\"><b>Школа глубокого обучения ФПМИ МФТИ</b></h3>\n",
        "\n",
        "<h3 style=\"text-align: center;\"><b>Домашнее задание. Продвинутый поток. Весна 2021</b></h3>\n",
        "\n",
        "Это домашнее задание будет посвящено полноценному решению задачи машинного обучения."
      ]
    },
    {
      "cell_type": "markdown",
      "metadata": {
        "id": "zlB-owfaEEYs"
      },
      "source": [
        "Есть две части этого домашнего задания: \n",
        "* Сделать полноценный отчет о вашей работе: как вы обработали данные, какие модели попробовали и какие результаты получились (максимум 10 баллов). За каждую выполненную часть будет начислено определенное количество баллов.\n",
        "* Лучшее решение отправить в соревнование на [kaggle](https://www.kaggle.com/c/advanced-dls-spring-2021/) (максимум 5 баллов). За прохождение определенного порогов будут начисляться баллы.\n",
        "\n",
        "\n",
        "**Обе части будут проверяться в формате peer-review. Т.е. вашу посылку на степик будут проверять несколько других студентов и аггрегация их оценок будет выставлена. В то же время вам тоже нужно будет проверить несколько других учеников.**\n",
        "\n",
        "**Пожалуйста, делайте свою работу чистой и понятной, чтобы облегчить проверку. Если у вас будут проблемы с решением или хочется совета, то пишите в наш чат в телеграме или в лс @runfme. Если вы захотите проаппелировать оценку, то пипшите в лс @runfme.**\n",
        "\n",
        "**Во всех пунктах указания это минимальный набор вещей, которые стоит сделать. Если вы можете сделать какой-то шаг лучше или добавить что-то свое - дерзайте!**"
      ]
    },
    {
      "cell_type": "markdown",
      "metadata": {
        "id": "Tu_JvqcBEN8Y"
      },
      "source": [
        "# Как проверять?\n",
        "\n",
        "Ставьте полный балл, если выполнены все рекомендации или сделано что-то более интересное и сложное. За каждый отсустствующий пункт из рекомендация снижайте 1 балл."
      ]
    },
    {
      "cell_type": "markdown",
      "metadata": {
        "id": "ninJ63mJEEYt"
      },
      "source": [
        "# Метрика\n",
        "\n",
        "Перед решением любой задачи важно понимать, как будет оцениваться ваше решение. В данном случае мы используем стандартную для задачи классификации метрику ROC-AUC. Ее можно вычислить используя только предсказанные вероятности и истинные классы без конкретного порога классификации + она раотает даже если классы в данных сильно несбалансированны (примеров одного класса в десятки раз больше примеров длугого). Именно поэтому она очень удобна для соревнований.\n",
        "\n",
        "Посчитать ее легко:\n"
      ]
    },
    {
      "cell_type": "code",
      "metadata": {
        "id": "SQIrka7yEEYu",
        "colab": {
          "base_uri": "https://localhost:8080/"
        },
        "outputId": "7ea92532-42a9-4964-8dcf-d840613da10d"
      },
      "source": [
        "from sklearn.metrics import roc_auc_score\n",
        "\n",
        "y_true = [\n",
        "    0,\n",
        "    1,\n",
        "    1,\n",
        "    0,\n",
        "    1\n",
        "]\n",
        "\n",
        "y_predictions = [\n",
        "    0.1,\n",
        "    0.9,\n",
        "    0.4,\n",
        "    0.6,\n",
        "    0.61\n",
        "]\n",
        "\n",
        "roc_auc_score(y_true, y_predictions)"
      ],
      "execution_count": null,
      "outputs": [
        {
          "output_type": "execute_result",
          "data": {
            "text/plain": [
              "0.8333333333333333"
            ]
          },
          "metadata": {
            "tags": []
          },
          "execution_count": 6
        }
      ]
    },
    {
      "cell_type": "markdown",
      "metadata": {
        "id": "IrDNNkNTEEYz"
      },
      "source": [
        "# Первая часть. Исследование"
      ]
    },
    {
      "cell_type": "code",
      "metadata": {
        "id": "lzLqEeZKEEYz"
      },
      "source": [
        "import pandas as pd\n",
        "import numpy as np\n",
        "from matplotlib import pyplot as plt"
      ],
      "execution_count": null,
      "outputs": []
    },
    {
      "cell_type": "code",
      "metadata": {
        "colab": {
          "base_uri": "https://localhost:8080/"
        },
        "id": "KPHOniwMaEDL",
        "outputId": "607a48a6-2d65-4bb1-bb60-325a2aa02a49"
      },
      "source": [
        "from google.colab import drive\n",
        "drive.mount('/content/drive')"
      ],
      "execution_count": null,
      "outputs": [
        {
          "output_type": "stream",
          "text": [
            "Mounted at /content/drive\n"
          ],
          "name": "stdout"
        }
      ]
    },
    {
      "cell_type": "markdown",
      "metadata": {
        "id": "LOlxdURSEEY3"
      },
      "source": [
        "## Загрузка данных (2 балла)\n",
        "\n",
        "1) Посмотрите на случайные строчки. \n",
        "\n",
        "2) Посмотрите, есть ли в датасете незаполненные значения (nan'ы) с помощью data.isna() или data.info() и, если нужно, замените их на что-то. Будет хорошо, если вы построите табличку с количеством nan в каждой колонке."
      ]
    },
    {
      "cell_type": "code",
      "metadata": {
        "id": "pw-Brue9EEY3"
      },
      "source": [
        "data = pd.read_csv('/content/drive/MyDrive/dls/train.csv')"
      ],
      "execution_count": null,
      "outputs": []
    },
    {
      "cell_type": "code",
      "metadata": {
        "id": "KgnkkF5bEEY9"
      },
      "source": [
        "# Для вашего удобства списки с именами разных колонок\n",
        "\n",
        "# Числовые признаки\n",
        "num_cols = [\n",
        "    'ClientPeriod',\n",
        "    'MonthlySpending',\n",
        "    'TotalSpent'\n",
        "]\n",
        "\n",
        "# Категориальные признаки\n",
        "cat_cols = [\n",
        "    'Sex',\n",
        "    'IsSeniorCitizen',\n",
        "    'HasPartner',\n",
        "    'HasChild',\n",
        "    'HasPhoneService',\n",
        "    'HasMultiplePhoneNumbers',\n",
        "    'HasInternetService',\n",
        "    'HasOnlineSecurityService',\n",
        "    'HasOnlineBackup',\n",
        "    'HasDeviceProtection',\n",
        "    'HasTechSupportAccess',\n",
        "    'HasOnlineTV',\n",
        "    'HasMovieSubscription',\n",
        "    'HasContractPhone',\n",
        "    'IsBillingPaperless',\n",
        "    'PaymentMethod'\n",
        "]\n",
        "\n",
        "feature_cols = num_cols + cat_cols\n",
        "target_col = 'Churn'"
      ],
      "execution_count": null,
      "outputs": []
    },
    {
      "cell_type": "markdown",
      "metadata": {
        "id": "iFPrdSP3-_xw"
      },
      "source": [
        "Посмотрим на данные\n"
      ]
    },
    {
      "cell_type": "code",
      "metadata": {
        "id": "tHC6gWabEEZA",
        "colab": {
          "base_uri": "https://localhost:8080/",
          "height": 292
        },
        "outputId": "da0cac37-3428-4c7e-ab44-b128ee0e04ed"
      },
      "source": [
        "# YOUR CODE\n",
        "data.head()"
      ],
      "execution_count": null,
      "outputs": [
        {
          "output_type": "execute_result",
          "data": {
            "text/html": [
              "<div>\n",
              "<style scoped>\n",
              "    .dataframe tbody tr th:only-of-type {\n",
              "        vertical-align: middle;\n",
              "    }\n",
              "\n",
              "    .dataframe tbody tr th {\n",
              "        vertical-align: top;\n",
              "    }\n",
              "\n",
              "    .dataframe thead th {\n",
              "        text-align: right;\n",
              "    }\n",
              "</style>\n",
              "<table border=\"1\" class=\"dataframe\">\n",
              "  <thead>\n",
              "    <tr style=\"text-align: right;\">\n",
              "      <th></th>\n",
              "      <th>ClientPeriod</th>\n",
              "      <th>MonthlySpending</th>\n",
              "      <th>TotalSpent</th>\n",
              "      <th>Sex</th>\n",
              "      <th>IsSeniorCitizen</th>\n",
              "      <th>HasPartner</th>\n",
              "      <th>HasChild</th>\n",
              "      <th>HasPhoneService</th>\n",
              "      <th>HasMultiplePhoneNumbers</th>\n",
              "      <th>HasInternetService</th>\n",
              "      <th>HasOnlineSecurityService</th>\n",
              "      <th>HasOnlineBackup</th>\n",
              "      <th>HasDeviceProtection</th>\n",
              "      <th>HasTechSupportAccess</th>\n",
              "      <th>HasOnlineTV</th>\n",
              "      <th>HasMovieSubscription</th>\n",
              "      <th>HasContractPhone</th>\n",
              "      <th>IsBillingPaperless</th>\n",
              "      <th>PaymentMethod</th>\n",
              "      <th>Churn</th>\n",
              "    </tr>\n",
              "  </thead>\n",
              "  <tbody>\n",
              "    <tr>\n",
              "      <th>0</th>\n",
              "      <td>55</td>\n",
              "      <td>19.50</td>\n",
              "      <td>1026.35</td>\n",
              "      <td>Male</td>\n",
              "      <td>0</td>\n",
              "      <td>Yes</td>\n",
              "      <td>Yes</td>\n",
              "      <td>Yes</td>\n",
              "      <td>No</td>\n",
              "      <td>No</td>\n",
              "      <td>No internet service</td>\n",
              "      <td>No internet service</td>\n",
              "      <td>No internet service</td>\n",
              "      <td>No internet service</td>\n",
              "      <td>No internet service</td>\n",
              "      <td>No internet service</td>\n",
              "      <td>One year</td>\n",
              "      <td>No</td>\n",
              "      <td>Mailed check</td>\n",
              "      <td>0</td>\n",
              "    </tr>\n",
              "    <tr>\n",
              "      <th>1</th>\n",
              "      <td>72</td>\n",
              "      <td>25.85</td>\n",
              "      <td>1872.2</td>\n",
              "      <td>Male</td>\n",
              "      <td>0</td>\n",
              "      <td>Yes</td>\n",
              "      <td>No</td>\n",
              "      <td>Yes</td>\n",
              "      <td>Yes</td>\n",
              "      <td>No</td>\n",
              "      <td>No internet service</td>\n",
              "      <td>No internet service</td>\n",
              "      <td>No internet service</td>\n",
              "      <td>No internet service</td>\n",
              "      <td>No internet service</td>\n",
              "      <td>No internet service</td>\n",
              "      <td>Two year</td>\n",
              "      <td>No</td>\n",
              "      <td>Credit card (automatic)</td>\n",
              "      <td>0</td>\n",
              "    </tr>\n",
              "    <tr>\n",
              "      <th>2</th>\n",
              "      <td>1</td>\n",
              "      <td>75.90</td>\n",
              "      <td>75.9</td>\n",
              "      <td>Male</td>\n",
              "      <td>0</td>\n",
              "      <td>No</td>\n",
              "      <td>No</td>\n",
              "      <td>Yes</td>\n",
              "      <td>No</td>\n",
              "      <td>Fiber optic</td>\n",
              "      <td>No</td>\n",
              "      <td>No</td>\n",
              "      <td>No</td>\n",
              "      <td>Yes</td>\n",
              "      <td>No</td>\n",
              "      <td>No</td>\n",
              "      <td>Month-to-month</td>\n",
              "      <td>Yes</td>\n",
              "      <td>Electronic check</td>\n",
              "      <td>1</td>\n",
              "    </tr>\n",
              "    <tr>\n",
              "      <th>3</th>\n",
              "      <td>32</td>\n",
              "      <td>79.30</td>\n",
              "      <td>2570</td>\n",
              "      <td>Female</td>\n",
              "      <td>1</td>\n",
              "      <td>Yes</td>\n",
              "      <td>No</td>\n",
              "      <td>Yes</td>\n",
              "      <td>Yes</td>\n",
              "      <td>Fiber optic</td>\n",
              "      <td>No</td>\n",
              "      <td>No</td>\n",
              "      <td>Yes</td>\n",
              "      <td>No</td>\n",
              "      <td>No</td>\n",
              "      <td>No</td>\n",
              "      <td>Month-to-month</td>\n",
              "      <td>No</td>\n",
              "      <td>Mailed check</td>\n",
              "      <td>0</td>\n",
              "    </tr>\n",
              "    <tr>\n",
              "      <th>4</th>\n",
              "      <td>60</td>\n",
              "      <td>115.25</td>\n",
              "      <td>6758.45</td>\n",
              "      <td>Female</td>\n",
              "      <td>0</td>\n",
              "      <td>Yes</td>\n",
              "      <td>Yes</td>\n",
              "      <td>Yes</td>\n",
              "      <td>Yes</td>\n",
              "      <td>Fiber optic</td>\n",
              "      <td>Yes</td>\n",
              "      <td>Yes</td>\n",
              "      <td>Yes</td>\n",
              "      <td>Yes</td>\n",
              "      <td>Yes</td>\n",
              "      <td>Yes</td>\n",
              "      <td>Two year</td>\n",
              "      <td>No</td>\n",
              "      <td>Credit card (automatic)</td>\n",
              "      <td>0</td>\n",
              "    </tr>\n",
              "  </tbody>\n",
              "</table>\n",
              "</div>"
            ],
            "text/plain": [
              "   ClientPeriod  MonthlySpending  ...            PaymentMethod Churn\n",
              "0            55            19.50  ...             Mailed check     0\n",
              "1            72            25.85  ...  Credit card (automatic)     0\n",
              "2             1            75.90  ...         Electronic check     1\n",
              "3            32            79.30  ...             Mailed check     0\n",
              "4            60           115.25  ...  Credit card (automatic)     0\n",
              "\n",
              "[5 rows x 20 columns]"
            ]
          },
          "metadata": {
            "tags": []
          },
          "execution_count": 12
        }
      ]
    },
    {
      "cell_type": "markdown",
      "metadata": {
        "id": "Dza5E3Qn_Gj3"
      },
      "source": [
        "Посчитаем количество nan'ов в каждом столбце"
      ]
    },
    {
      "cell_type": "code",
      "metadata": {
        "colab": {
          "base_uri": "https://localhost:8080/"
        },
        "id": "l8R9BlZkoc_n",
        "outputId": "600ae8c6-07fa-4068-ac02-607f2382580f"
      },
      "source": [
        "data.isna().sum()"
      ],
      "execution_count": null,
      "outputs": [
        {
          "output_type": "execute_result",
          "data": {
            "text/plain": [
              "ClientPeriod                0\n",
              "MonthlySpending             0\n",
              "TotalSpent                  0\n",
              "Sex                         0\n",
              "IsSeniorCitizen             0\n",
              "HasPartner                  0\n",
              "HasChild                    0\n",
              "HasPhoneService             0\n",
              "HasMultiplePhoneNumbers     0\n",
              "HasInternetService          0\n",
              "HasOnlineSecurityService    0\n",
              "HasOnlineBackup             0\n",
              "HasDeviceProtection         0\n",
              "HasTechSupportAccess        0\n",
              "HasOnlineTV                 0\n",
              "HasMovieSubscription        0\n",
              "HasContractPhone            0\n",
              "IsBillingPaperless          0\n",
              "PaymentMethod               0\n",
              "Churn                       0\n",
              "dtype: int64"
            ]
          },
          "metadata": {
            "tags": []
          },
          "execution_count": 13
        }
      ]
    },
    {
      "cell_type": "markdown",
      "metadata": {
        "id": "Sguzhpty_Xh2"
      },
      "source": [
        "При выполнении следующего задания я обнаружил, что график распределения данных в столбце 'TotalSpent' отображается некорректно. Посмотрев на типы данных в каждом столбце с помощью метода data.info(), я обнаружил, что тип данных этого столбца 'object', однако я ожидал 'float64'. Таким образом, было принято решение пройтись по каждой ячейке столбца 'TotalSpent' и попытаться перевести ее содержимое в число с помощью функции pd.to_numeric(arg, errors = 'coerce'), причем параметр errors = 'coerce' указывает, что если ячейку не удалось преобразовать в число, то ее содержимое заполняется nan'ом. После чего, с помощью функции pd.notna(arg) отбираем те строки в датасете, в которых в столбце 'TotalSpent' не стоит nan и приводим этот столбец к типу 'float64'."
      ]
    },
    {
      "cell_type": "code",
      "metadata": {
        "colab": {
          "base_uri": "https://localhost:8080/"
        },
        "id": "TicMNH-3BfW_",
        "outputId": "431d4799-ddbf-4b65-a78c-5095f9dc1980"
      },
      "source": [
        "data.info()"
      ],
      "execution_count": null,
      "outputs": [
        {
          "output_type": "stream",
          "text": [
            "<class 'pandas.core.frame.DataFrame'>\n",
            "RangeIndex: 5282 entries, 0 to 5281\n",
            "Data columns (total 20 columns):\n",
            " #   Column                    Non-Null Count  Dtype  \n",
            "---  ------                    --------------  -----  \n",
            " 0   ClientPeriod              5282 non-null   int64  \n",
            " 1   MonthlySpending           5282 non-null   float64\n",
            " 2   TotalSpent                5282 non-null   object \n",
            " 3   Sex                       5282 non-null   object \n",
            " 4   IsSeniorCitizen           5282 non-null   int64  \n",
            " 5   HasPartner                5282 non-null   object \n",
            " 6   HasChild                  5282 non-null   object \n",
            " 7   HasPhoneService           5282 non-null   object \n",
            " 8   HasMultiplePhoneNumbers   5282 non-null   object \n",
            " 9   HasInternetService        5282 non-null   object \n",
            " 10  HasOnlineSecurityService  5282 non-null   object \n",
            " 11  HasOnlineBackup           5282 non-null   object \n",
            " 12  HasDeviceProtection       5282 non-null   object \n",
            " 13  HasTechSupportAccess      5282 non-null   object \n",
            " 14  HasOnlineTV               5282 non-null   object \n",
            " 15  HasMovieSubscription      5282 non-null   object \n",
            " 16  HasContractPhone          5282 non-null   object \n",
            " 17  IsBillingPaperless        5282 non-null   object \n",
            " 18  PaymentMethod             5282 non-null   object \n",
            " 19  Churn                     5282 non-null   int64  \n",
            "dtypes: float64(1), int64(3), object(16)\n",
            "memory usage: 825.4+ KB\n"
          ],
          "name": "stdout"
        }
      ]
    },
    {
      "cell_type": "code",
      "metadata": {
        "id": "qoBw5tCnzNkp",
        "colab": {
          "base_uri": "https://localhost:8080/"
        },
        "outputId": "3c3d1dab-bccf-46ac-f21b-f3336d20f074"
      },
      "source": [
        "data = data[pd.notna(pd.to_numeric(data['TotalSpent'], errors ='coerce'))]\n",
        "data['TotalSpent'] = pd.to_numeric(data['TotalSpent'])\n",
        "data.info()"
      ],
      "execution_count": null,
      "outputs": [
        {
          "output_type": "stream",
          "text": [
            "<class 'pandas.core.frame.DataFrame'>\n",
            "Int64Index: 5273 entries, 0 to 5281\n",
            "Data columns (total 20 columns):\n",
            " #   Column                    Non-Null Count  Dtype  \n",
            "---  ------                    --------------  -----  \n",
            " 0   ClientPeriod              5273 non-null   int64  \n",
            " 1   MonthlySpending           5273 non-null   float64\n",
            " 2   TotalSpent                5273 non-null   float64\n",
            " 3   Sex                       5273 non-null   object \n",
            " 4   IsSeniorCitizen           5273 non-null   int64  \n",
            " 5   HasPartner                5273 non-null   object \n",
            " 6   HasChild                  5273 non-null   object \n",
            " 7   HasPhoneService           5273 non-null   object \n",
            " 8   HasMultiplePhoneNumbers   5273 non-null   object \n",
            " 9   HasInternetService        5273 non-null   object \n",
            " 10  HasOnlineSecurityService  5273 non-null   object \n",
            " 11  HasOnlineBackup           5273 non-null   object \n",
            " 12  HasDeviceProtection       5273 non-null   object \n",
            " 13  HasTechSupportAccess      5273 non-null   object \n",
            " 14  HasOnlineTV               5273 non-null   object \n",
            " 15  HasMovieSubscription      5273 non-null   object \n",
            " 16  HasContractPhone          5273 non-null   object \n",
            " 17  IsBillingPaperless        5273 non-null   object \n",
            " 18  PaymentMethod             5273 non-null   object \n",
            " 19  Churn                     5273 non-null   int64  \n",
            "dtypes: float64(2), int64(3), object(15)\n",
            "memory usage: 865.1+ KB\n"
          ],
          "name": "stdout"
        }
      ]
    },
    {
      "cell_type": "markdown",
      "metadata": {
        "id": "iIZNcwc8Ezqy"
      },
      "source": [
        "Проверим, нет ли мусора среди категориальных данных. Как видно, таковых не нашлось."
      ]
    },
    {
      "cell_type": "code",
      "metadata": {
        "colab": {
          "base_uri": "https://localhost:8080/"
        },
        "id": "DoQpJny4Cyn_",
        "outputId": "5ef562a8-9479-4e3a-8f57-f31a3843d3a7"
      },
      "source": [
        "for cat in cat_cols:\n",
        "  print(cat, ': ', data[cat].value_counts().index)"
      ],
      "execution_count": null,
      "outputs": [
        {
          "output_type": "stream",
          "text": [
            "Sex :  Index(['Male', 'Female'], dtype='object')\n",
            "IsSeniorCitizen :  Int64Index([0, 1], dtype='int64')\n",
            "HasPartner :  Index(['No', 'Yes'], dtype='object')\n",
            "HasChild :  Index(['No', 'Yes'], dtype='object')\n",
            "HasPhoneService :  Index(['Yes', 'No'], dtype='object')\n",
            "HasMultiplePhoneNumbers :  Index(['No', 'Yes', 'No phone service'], dtype='object')\n",
            "HasInternetService :  Index(['Fiber optic', 'DSL', 'No'], dtype='object')\n",
            "HasOnlineSecurityService :  Index(['No', 'Yes', 'No internet service'], dtype='object')\n",
            "HasOnlineBackup :  Index(['No', 'Yes', 'No internet service'], dtype='object')\n",
            "HasDeviceProtection :  Index(['No', 'Yes', 'No internet service'], dtype='object')\n",
            "HasTechSupportAccess :  Index(['No', 'Yes', 'No internet service'], dtype='object')\n",
            "HasOnlineTV :  Index(['No', 'Yes', 'No internet service'], dtype='object')\n",
            "HasMovieSubscription :  Index(['No', 'Yes', 'No internet service'], dtype='object')\n",
            "HasContractPhone :  Index(['Month-to-month', 'Two year', 'One year'], dtype='object')\n",
            "IsBillingPaperless :  Index(['Yes', 'No'], dtype='object')\n",
            "PaymentMethod :  Index(['Electronic check', 'Mailed check', 'Bank transfer (automatic)',\n",
            "       'Credit card (automatic)'],\n",
            "      dtype='object')\n"
          ],
          "name": "stdout"
        }
      ]
    },
    {
      "cell_type": "markdown",
      "metadata": {
        "id": "dK370bPCEEZD"
      },
      "source": [
        "## Анализ данных (3 балла)\n",
        "\n",
        "1) Для численных призанков постройте гистограмму (*plt.hist(...)*) или boxplot (*plt.boxplot(...)*). Для категориальных посчитайте количество каждого значения для каждого признака. Для каждой колонки надо сделать *data.value_counts()* и построить bar диаграммы *plt.bar(...)* или круговые диаграммы *plt.pie(...)* (хорошо, елси вы сможете это сделать на одном гарфике с помощью *plt.subplots(...)*). \n",
        "\n",
        "2) Посмотрите на распределение целевой переменной и скажите, являются ли классы несбалансированными.\n",
        "\n",
        "3) (Если будет желание) Поиграйте с разными библиотеками для визуализации - *sns*, *pandas_visual_analysis*, etc.\n",
        "\n",
        "Второй пункт очень важен, потому что существуют задачи классификации с несбалансированными классами. Например, это может значить, что в датасете намного больше примеров 0 класса. В таких случаях нужно 1) не использовать accuracy как метрику 2) использовать методы борьбы с imbalanced dataset (обычно если датасет сильно несбалансирован, т.е. класса 1 в 20 раз меньше класса 0)."
      ]
    },
    {
      "cell_type": "markdown",
      "metadata": {
        "id": "Oyzly07OGSe7"
      },
      "source": [
        ""
      ]
    },
    {
      "cell_type": "code",
      "metadata": {
        "colab": {
          "base_uri": "https://localhost:8080/",
          "height": 292
        },
        "id": "nPCXthL9e8tQ",
        "outputId": "f201f9d6-56a9-4ad1-df3c-54438f208f37"
      },
      "source": [
        "data.head()"
      ],
      "execution_count": null,
      "outputs": [
        {
          "output_type": "execute_result",
          "data": {
            "text/html": [
              "<div>\n",
              "<style scoped>\n",
              "    .dataframe tbody tr th:only-of-type {\n",
              "        vertical-align: middle;\n",
              "    }\n",
              "\n",
              "    .dataframe tbody tr th {\n",
              "        vertical-align: top;\n",
              "    }\n",
              "\n",
              "    .dataframe thead th {\n",
              "        text-align: right;\n",
              "    }\n",
              "</style>\n",
              "<table border=\"1\" class=\"dataframe\">\n",
              "  <thead>\n",
              "    <tr style=\"text-align: right;\">\n",
              "      <th></th>\n",
              "      <th>ClientPeriod</th>\n",
              "      <th>MonthlySpending</th>\n",
              "      <th>TotalSpent</th>\n",
              "      <th>Sex</th>\n",
              "      <th>IsSeniorCitizen</th>\n",
              "      <th>HasPartner</th>\n",
              "      <th>HasChild</th>\n",
              "      <th>HasPhoneService</th>\n",
              "      <th>HasMultiplePhoneNumbers</th>\n",
              "      <th>HasInternetService</th>\n",
              "      <th>HasOnlineSecurityService</th>\n",
              "      <th>HasOnlineBackup</th>\n",
              "      <th>HasDeviceProtection</th>\n",
              "      <th>HasTechSupportAccess</th>\n",
              "      <th>HasOnlineTV</th>\n",
              "      <th>HasMovieSubscription</th>\n",
              "      <th>HasContractPhone</th>\n",
              "      <th>IsBillingPaperless</th>\n",
              "      <th>PaymentMethod</th>\n",
              "      <th>Churn</th>\n",
              "    </tr>\n",
              "  </thead>\n",
              "  <tbody>\n",
              "    <tr>\n",
              "      <th>0</th>\n",
              "      <td>55</td>\n",
              "      <td>19.50</td>\n",
              "      <td>1026.35</td>\n",
              "      <td>Male</td>\n",
              "      <td>0</td>\n",
              "      <td>Yes</td>\n",
              "      <td>Yes</td>\n",
              "      <td>Yes</td>\n",
              "      <td>No</td>\n",
              "      <td>No</td>\n",
              "      <td>No internet service</td>\n",
              "      <td>No internet service</td>\n",
              "      <td>No internet service</td>\n",
              "      <td>No internet service</td>\n",
              "      <td>No internet service</td>\n",
              "      <td>No internet service</td>\n",
              "      <td>One year</td>\n",
              "      <td>No</td>\n",
              "      <td>Mailed check</td>\n",
              "      <td>0</td>\n",
              "    </tr>\n",
              "    <tr>\n",
              "      <th>1</th>\n",
              "      <td>72</td>\n",
              "      <td>25.85</td>\n",
              "      <td>1872.20</td>\n",
              "      <td>Male</td>\n",
              "      <td>0</td>\n",
              "      <td>Yes</td>\n",
              "      <td>No</td>\n",
              "      <td>Yes</td>\n",
              "      <td>Yes</td>\n",
              "      <td>No</td>\n",
              "      <td>No internet service</td>\n",
              "      <td>No internet service</td>\n",
              "      <td>No internet service</td>\n",
              "      <td>No internet service</td>\n",
              "      <td>No internet service</td>\n",
              "      <td>No internet service</td>\n",
              "      <td>Two year</td>\n",
              "      <td>No</td>\n",
              "      <td>Credit card (automatic)</td>\n",
              "      <td>0</td>\n",
              "    </tr>\n",
              "    <tr>\n",
              "      <th>2</th>\n",
              "      <td>1</td>\n",
              "      <td>75.90</td>\n",
              "      <td>75.90</td>\n",
              "      <td>Male</td>\n",
              "      <td>0</td>\n",
              "      <td>No</td>\n",
              "      <td>No</td>\n",
              "      <td>Yes</td>\n",
              "      <td>No</td>\n",
              "      <td>Fiber optic</td>\n",
              "      <td>No</td>\n",
              "      <td>No</td>\n",
              "      <td>No</td>\n",
              "      <td>Yes</td>\n",
              "      <td>No</td>\n",
              "      <td>No</td>\n",
              "      <td>Month-to-month</td>\n",
              "      <td>Yes</td>\n",
              "      <td>Electronic check</td>\n",
              "      <td>1</td>\n",
              "    </tr>\n",
              "    <tr>\n",
              "      <th>3</th>\n",
              "      <td>32</td>\n",
              "      <td>79.30</td>\n",
              "      <td>2570.00</td>\n",
              "      <td>Female</td>\n",
              "      <td>1</td>\n",
              "      <td>Yes</td>\n",
              "      <td>No</td>\n",
              "      <td>Yes</td>\n",
              "      <td>Yes</td>\n",
              "      <td>Fiber optic</td>\n",
              "      <td>No</td>\n",
              "      <td>No</td>\n",
              "      <td>Yes</td>\n",
              "      <td>No</td>\n",
              "      <td>No</td>\n",
              "      <td>No</td>\n",
              "      <td>Month-to-month</td>\n",
              "      <td>No</td>\n",
              "      <td>Mailed check</td>\n",
              "      <td>0</td>\n",
              "    </tr>\n",
              "    <tr>\n",
              "      <th>4</th>\n",
              "      <td>60</td>\n",
              "      <td>115.25</td>\n",
              "      <td>6758.45</td>\n",
              "      <td>Female</td>\n",
              "      <td>0</td>\n",
              "      <td>Yes</td>\n",
              "      <td>Yes</td>\n",
              "      <td>Yes</td>\n",
              "      <td>Yes</td>\n",
              "      <td>Fiber optic</td>\n",
              "      <td>Yes</td>\n",
              "      <td>Yes</td>\n",
              "      <td>Yes</td>\n",
              "      <td>Yes</td>\n",
              "      <td>Yes</td>\n",
              "      <td>Yes</td>\n",
              "      <td>Two year</td>\n",
              "      <td>No</td>\n",
              "      <td>Credit card (automatic)</td>\n",
              "      <td>0</td>\n",
              "    </tr>\n",
              "  </tbody>\n",
              "</table>\n",
              "</div>"
            ],
            "text/plain": [
              "   ClientPeriod  MonthlySpending  ...            PaymentMethod Churn\n",
              "0            55            19.50  ...             Mailed check     0\n",
              "1            72            25.85  ...  Credit card (automatic)     0\n",
              "2             1            75.90  ...         Electronic check     1\n",
              "3            32            79.30  ...             Mailed check     0\n",
              "4            60           115.25  ...  Credit card (automatic)     0\n",
              "\n",
              "[5 rows x 20 columns]"
            ]
          },
          "metadata": {
            "tags": []
          },
          "execution_count": 45
        }
      ]
    },
    {
      "cell_type": "markdown",
      "metadata": {
        "id": "JuhVNXx6GVMK"
      },
      "source": [
        "*Первый пункт задачи.*"
      ]
    },
    {
      "cell_type": "code",
      "metadata": {
        "id": "NZkbgFJZEEZE",
        "colab": {
          "base_uri": "https://localhost:8080/",
          "height": 1000
        },
        "outputId": "58699a9c-173e-437a-8f19-ac8b57229016"
      },
      "source": [
        "# YOUR CODE\n",
        "for col in num_cols:\n",
        "  plt.title(col)\n",
        "  plt.hist(data[col])\n",
        "  plt.show()\n",
        "\n",
        "fig, ax = plt.subplots(4, 4, figsize = (20, 20))\n",
        "ax = ax.ravel()\n",
        "for i, col in enumerate(cat_cols):\n",
        "  ax[i].set_title(col, fontsize = 20)\n",
        "  data[col].value_counts(normalize = True)\n",
        "  ax[i].pie(data[col].value_counts(normalize = True), labels = data[col].value_counts(normalize = True).keys())\n"
      ],
      "execution_count": null,
      "outputs": [
        {
          "output_type": "display_data",
          "data": {
            "image/png": "[encoded data removed]",
            "text/plain": [
              "<Figure size 432x288 with 1 Axes>"
            ]
          },
          "metadata": {
            "tags": [],
            "needs_background": "light"
          }
        },
        {
          "output_type": "display_data",
          "data": {
            "image/png": "[encoded data removed]",
            "text/plain": [
              "<Figure size 432x288 with 1 Axes>"
            ]
          },
          "metadata": {
            "tags": [],
            "needs_background": "light"
          }
        },
        {
          "output_type": "display_data",
          "data": {
            "image/png": "[encoded data removed]",
            "text/plain": [
              "<Figure size 432x288 with 1 Axes>"
            ]
          },
          "metadata": {
            "tags": [],
            "needs_background": "light"
          }
        },
        {
          "output_type": "display_data",
          "data": {
            "image/png": "[encoded data removed]",
            "text/plain": [
              "<Figure size 1440x1440 with 16 Axes>"
            ]
          },
          "metadata": {
            "tags": []
          }
        }
      ]
    },
    {
      "cell_type": "code",
      "metadata": {
        "colab": {
          "base_uri": "https://localhost:8080/",
          "height": 281
        },
        "id": "ibg0i8w2gKf_",
        "outputId": "6949d05c-c96e-4567-b05b-bd2f9ea49384"
      },
      "source": [
        "plt.title(target_col)\n",
        "plt.hist(data[target_col])\n",
        "plt.show()"
      ],
      "execution_count": null,
      "outputs": [
        {
          "output_type": "display_data",
          "data": {
            "image/png": "[encoded data removed]",
            "text/plain": [
              "<Figure size 432x288 with 1 Axes>"
            ]
          },
          "metadata": {
            "tags": [],
            "needs_background": "light"
          }
        }
      ]
    },
    {
      "cell_type": "markdown",
      "metadata": {
        "id": "zg60u3QDEEZH"
      },
      "source": [
        "(Дополнительно) Если вы нашли какие-то ошибки в данных или выбросы, то можете их убрать. Тут можно поэксперементировать с обработкой данных как угодно, но не за баллы."
      ]
    },
    {
      "cell_type": "code",
      "metadata": {
        "id": "fwfksF1gEEZI"
      },
      "source": [
        "# YOUR CODE"
      ],
      "execution_count": null,
      "outputs": []
    },
    {
      "cell_type": "markdown",
      "metadata": {
        "id": "DviiJd8REEZK"
      },
      "source": [
        "## Применение линейных моделей (3 балла)\n",
        "\n",
        "1) Обработайте данные для того, чтобы к ним можно было применить LogisticRegression. Т.е. отнормируйте числовые признаки, а категориальные закодируйте с помощью one-hot-encoding'а. \n",
        "\n",
        "2) С помощью кроссвалидации или разделения на train/valid выборку протестируйте разные значения гиперпараметра C и выберите лучший (можно тестировать С=100, 10, 1, 0.1, 0.01, 0.001) по метрике ROC-AUC. \n",
        "\n",
        "Если вы разделяете на train/valid, то используйте LogisticRegressionCV. Он сам при вызове .fit() подберет параметр С. (не забудьте передать scroing='roc_auc', чтобы при кроссвалидации сравнивались значения этой метрики, и refit=True, чтобы при потом модель обучилась на всем датасете с лучшим параметром C). \n",
        "\n",
        "\n",
        "(более сложный вариант) Если вы будете использовать кроссвалидацию, то преобразования данных и LogisticRegression нужно соединить в один Pipeline с помощью make_pipeline, как это делалось во втором семинаре. Потом pipeline надо передать в GridSearchCV. Для one-hot-encoding'a можно испльзовать комбинацию LabelEncoder + OneHotEncoder (сначала превращаем строчки в числа, а потом числа првращаем в one-hot вектора.)"
      ]
    },
    {
      "cell_type": "code",
      "metadata": {
        "id": "xHCLDmwqEEZL"
      },
      "source": [
        "from sklearn.linear_model import LogisticRegression, LogisticRegressionCV\n",
        "from sklearn.model_selection import train_test_split, GridSearchCV\n",
        "from sklearn.preprocessing import StandardScaler, RobustScaler, LabelEncoder, OneHotEncoder\n",
        "from sklearn.pipeline import make_pipeline"
      ],
      "execution_count": null,
      "outputs": []
    },
    {
      "cell_type": "markdown",
      "metadata": {
        "id": "w8Z96rVnH5cA"
      },
      "source": [
        "Первый пункт делаем аналогично тому, что делали на семинаре."
      ]
    },
    {
      "cell_type": "code",
      "metadata": {
        "id": "P2Yv3uYtEEZO"
      },
      "source": [
        "# YOUR CODE\n",
        "dummy_features = pd.get_dummies(data[cat_cols])\n",
        "X = pd.concat([data[num_cols], dummy_features], axis = 1)\n",
        "X_train, X_test, y_train, y_test = train_test_split(X, data[target_col].values, \n",
        "                                                    train_size=0.8,\n",
        "                                                    random_state=42)\n",
        "scaler = StandardScaler()\n",
        "\n",
        "X_train_scaled = X_train.copy()\n",
        "X_test_scaled = X_test.copy()\n",
        "\n",
        "X_train_scaled[num_cols] = scaler.fit_transform(X_train[num_cols])\n",
        "X_test_scaled[num_cols] = scaler.transform(X_test[num_cols])\n",
        "clf = LogisticRegressionCV(cv = 5, scoring = 'roc_auc', refit=True)"
      ],
      "execution_count": null,
      "outputs": []
    },
    {
      "cell_type": "code",
      "metadata": {
        "colab": {
          "base_uri": "https://localhost:8080/"
        },
        "id": "FRlcZkAtODzo",
        "outputId": "2ffdf6bd-6acc-4a31-b313-de4c1dfa48e7"
      },
      "source": [
        "clf.fit(X_train_scaled, y_train)"
      ],
      "execution_count": null,
      "outputs": [
        {
          "output_type": "execute_result",
          "data": {
            "text/plain": [
              "LogisticRegressionCV(Cs=10, class_weight=None, cv=5, dual=False,\n",
              "                     fit_intercept=True, intercept_scaling=1.0, l1_ratios=None,\n",
              "                     max_iter=100, multi_class='auto', n_jobs=None,\n",
              "                     penalty='l2', random_state=None, refit=True,\n",
              "                     scoring='roc_auc', solver='lbfgs', tol=0.0001, verbose=0)"
            ]
          },
          "metadata": {
            "tags": []
          },
          "execution_count": 21
        }
      ]
    },
    {
      "cell_type": "code",
      "metadata": {
        "id": "3eNJYxQpZIOK"
      },
      "source": [
        "pred = clf.predict_proba(X_test_scaled)[:, -1:]"
      ],
      "execution_count": null,
      "outputs": []
    },
    {
      "cell_type": "code",
      "metadata": {
        "colab": {
          "base_uri": "https://localhost:8080/"
        },
        "id": "inRd1fKbRBuR",
        "outputId": "d8952ec6-e7ba-47a1-99f4-0ca91edbd88c"
      },
      "source": [
        "print(roc_auc_score(y_test, clf.predict_proba(X_test_scaled)[:, -1:]))\n",
        "clf.get_params()"
      ],
      "execution_count": null,
      "outputs": [
        {
          "output_type": "stream",
          "text": [
            "0.8438216560509553\n"
          ],
          "name": "stdout"
        },
        {
          "output_type": "execute_result",
          "data": {
            "text/plain": [
              "{'Cs': 10,\n",
              " 'class_weight': None,\n",
              " 'cv': 5,\n",
              " 'dual': False,\n",
              " 'fit_intercept': True,\n",
              " 'intercept_scaling': 1.0,\n",
              " 'l1_ratios': None,\n",
              " 'max_iter': 100,\n",
              " 'multi_class': 'auto',\n",
              " 'n_jobs': None,\n",
              " 'penalty': 'l2',\n",
              " 'random_state': None,\n",
              " 'refit': True,\n",
              " 'scoring': 'roc_auc',\n",
              " 'solver': 'lbfgs',\n",
              " 'tol': 0.0001,\n",
              " 'verbose': 0}"
            ]
          },
          "metadata": {
            "tags": []
          },
          "execution_count": 32
        }
      ]
    },
    {
      "cell_type": "markdown",
      "metadata": {
        "id": "uVahy6JKEEZQ"
      },
      "source": [
        "Выпишите какое лучшее качество и с какими параметрами вам удалось получить"
      ]
    },
    {
      "cell_type": "markdown",
      "metadata": {
        "id": "36729TOQEEZR"
      },
      "source": [
        ""
      ]
    },
    {
      "cell_type": "markdown",
      "metadata": {
        "id": "BlTeVy7fEEZR"
      },
      "source": [
        "## Применение градиентного бустинга (2 балла)\n",
        "\n",
        "Если вы хотите получить баллы за точный ответ, то стоит попробовать градиентный бустинг. Часто градиентный бустинг с дефолтными параметрами даст вам 80% результата за 0% усилий.\n",
        "\n",
        "Мы будем использовать catboost, поэтому нам не надо кодировать категориальные признаки. catboost сделает это сам (в .fit() надо передать cat_features=cat_cols). А численные признаки нормировать для моделей, основанных на деревьях не нужно.\n",
        "\n",
        "1) Разделите выборку на train/valid. Протестируйте catboost cо стандартными параметрами.\n",
        "\n",
        "2) Протестируйте разные занчения параметроа количества деревьев и learning_rate'а и выберите лучшую по метрике ROC-AUC комбинацию. \n",
        "\n",
        "(Дополнительно) Есть некоторые сложности с тем, чтобы использовать CatBoostClassifier вместе с GridSearchCV, поэтому мы не просим использовать кроссвалидацию. Но можете попробовать)"
      ]
    },
    {
      "cell_type": "code",
      "metadata": {
        "id": "Fioxxlp-EEZS",
        "colab": {
          "base_uri": "https://localhost:8080/"
        },
        "outputId": "59287bfa-dab1-4023-8dcf-0aca56aa6db9"
      },
      "source": [
        "# YOUR CODE\n",
        "!pip install catboost\n",
        "import catboost\n",
        "X_train_origin, X_test_origin, y_train, y_test = train_test_split(data[feature_cols], data[target_col], \n",
        "                                                       train_size=0.99, \n",
        "                                                       random_state=42)\n",
        "scaler = StandardScaler()\n",
        "\n",
        "#X_train_origin[num_cols] = scaler.fit_transform(X_train_origin[num_cols])\n",
        "#X_test_origin[num_cols] = scaler.transform(X_test_origin[num_cols])\n",
        "boosting_model = catboost.CatBoostClassifier(n_estimators=500, \n",
        "                                             cat_features=cat_cols)\n",
        "\n",
        "boosting_model.fit(X_train_origin, y_train, cat_features=cat_cols)\n",
        "\n",
        "y_train_predicted = boosting_model.predict_proba(X_train_origin)[:, 1]\n",
        "y_test_predicted = boosting_model.predict_proba(X_test_origin)[:, 1]\n",
        "train_auc = roc_auc_score(y_train, y_train_predicted)\n",
        "test_auc = roc_auc_score(y_test, y_test_predicted)\n",
        "print(test_auc)"
      ],
      "execution_count": null,
      "outputs": [
        {
          "output_type": "stream",
          "text": [
            "Requirement already satisfied: catboost in /usr/local/lib/python3.7/dist-packages (0.25)\n",
            "Requirement already satisfied: pandas>=0.24.0 in /usr/local/lib/python3.7/dist-packages (from catboost) (1.1.5)\n",
            "Requirement already satisfied: plotly in /usr/local/lib/python3.7/dist-packages (from catboost) (4.4.1)\n",
            "Requirement already satisfied: graphviz in /usr/local/lib/python3.7/dist-packages (from catboost) (0.10.1)\n",
            "Requirement already satisfied: matplotlib in /usr/local/lib/python3.7/dist-packages (from catboost) (3.2.2)\n",
            "Requirement already satisfied: scipy in /usr/local/lib/python3.7/dist-packages (from catboost) (1.4.1)\n",
            "Requirement already satisfied: numpy>=1.16.0 in /usr/local/lib/python3.7/dist-packages (from catboost) (1.19.5)\n",
            "Requirement already satisfied: six in /usr/local/lib/python3.7/dist-packages (from catboost) (1.15.0)\n",
            "Requirement already satisfied: pytz>=2017.2 in /usr/local/lib/python3.7/dist-packages (from pandas>=0.24.0->catboost) (2018.9)\n",
            "Requirement already satisfied: python-dateutil>=2.7.3 in /usr/local/lib/python3.7/dist-packages (from pandas>=0.24.0->catboost) (2.8.1)\n",
            "Requirement already satisfied: retrying>=1.3.3 in /usr/local/lib/python3.7/dist-packages (from plotly->catboost) (1.3.3)\n",
            "Requirement already satisfied: kiwisolver>=1.0.1 in /usr/local/lib/python3.7/dist-packages (from matplotlib->catboost) (1.3.1)\n",
            "Requirement already satisfied: pyparsing!=2.0.4,!=2.1.2,!=2.1.6,>=2.0.1 in /usr/local/lib/python3.7/dist-packages (from matplotlib->catboost) (2.4.7)\n",
            "Requirement already satisfied: cycler>=0.10 in /usr/local/lib/python3.7/dist-packages (from matplotlib->catboost) (0.10.0)\n",
            "Learning rate set to 0.039393\n",
            "0:\tlearn: 0.6684052\ttotal: 18.9ms\tremaining: 9.42s\n",
            "1:\tlearn: 0.6460264\ttotal: 38.1ms\tremaining: 9.5s\n",
            "2:\tlearn: 0.6297772\ttotal: 45ms\tremaining: 7.45s\n",
            "3:\tlearn: 0.6116703\ttotal: 63.8ms\tremaining: 7.92s\n",
            "4:\tlearn: 0.5956206\ttotal: 81.2ms\tremaining: 8.04s\n",
            "5:\tlearn: 0.5794804\ttotal: 103ms\tremaining: 8.5s\n",
            "6:\tlearn: 0.5689787\ttotal: 110ms\tremaining: 7.77s\n",
            "7:\tlearn: 0.5544700\ttotal: 128ms\tremaining: 7.89s\n",
            "8:\tlearn: 0.5418394\ttotal: 145ms\tremaining: 7.91s\n",
            "9:\tlearn: 0.5305427\ttotal: 163ms\tremaining: 7.98s\n",
            "10:\tlearn: 0.5193268\ttotal: 179ms\tremaining: 7.97s\n",
            "11:\tlearn: 0.5097788\ttotal: 194ms\tremaining: 7.87s\n",
            "12:\tlearn: 0.5017930\ttotal: 208ms\tremaining: 7.79s\n",
            "13:\tlearn: 0.4943146\ttotal: 223ms\tremaining: 7.76s\n",
            "14:\tlearn: 0.4871505\ttotal: 239ms\tremaining: 7.72s\n",
            "15:\tlearn: 0.4814499\ttotal: 247ms\tremaining: 7.48s\n",
            "16:\tlearn: 0.4754431\ttotal: 263ms\tremaining: 7.47s\n",
            "17:\tlearn: 0.4698316\ttotal: 277ms\tremaining: 7.43s\n",
            "18:\tlearn: 0.4646228\ttotal: 295ms\tremaining: 7.46s\n",
            "19:\tlearn: 0.4618374\ttotal: 301ms\tremaining: 7.24s\n",
            "20:\tlearn: 0.4573897\ttotal: 320ms\tremaining: 7.29s\n",
            "21:\tlearn: 0.4532750\ttotal: 336ms\tremaining: 7.29s\n",
            "22:\tlearn: 0.4495947\ttotal: 351ms\tremaining: 7.28s\n",
            "23:\tlearn: 0.4459065\ttotal: 368ms\tremaining: 7.3s\n",
            "24:\tlearn: 0.4433727\ttotal: 375ms\tremaining: 7.13s\n",
            "25:\tlearn: 0.4403580\ttotal: 392ms\tremaining: 7.14s\n",
            "26:\tlearn: 0.4387782\ttotal: 399ms\tremaining: 6.99s\n",
            "27:\tlearn: 0.4359634\ttotal: 421ms\tremaining: 7.1s\n",
            "28:\tlearn: 0.4338353\ttotal: 438ms\tremaining: 7.11s\n",
            "29:\tlearn: 0.4314707\ttotal: 455ms\tremaining: 7.13s\n",
            "30:\tlearn: 0.4292557\ttotal: 473ms\tremaining: 7.16s\n",
            "31:\tlearn: 0.4272995\ttotal: 488ms\tremaining: 7.14s\n",
            "32:\tlearn: 0.4252969\ttotal: 506ms\tremaining: 7.16s\n",
            "33:\tlearn: 0.4235015\ttotal: 523ms\tremaining: 7.16s\n",
            "34:\tlearn: 0.4227639\ttotal: 530ms\tremaining: 7.04s\n",
            "35:\tlearn: 0.4217479\ttotal: 542ms\tremaining: 6.99s\n",
            "36:\tlearn: 0.4200073\ttotal: 560ms\tremaining: 7s\n",
            "37:\tlearn: 0.4186204\ttotal: 576ms\tremaining: 7s\n",
            "38:\tlearn: 0.4171834\ttotal: 591ms\tremaining: 6.99s\n",
            "39:\tlearn: 0.4160916\ttotal: 608ms\tremaining: 6.99s\n",
            "40:\tlearn: 0.4148270\ttotal: 629ms\tremaining: 7.04s\n",
            "41:\tlearn: 0.4136953\ttotal: 652ms\tremaining: 7.11s\n",
            "42:\tlearn: 0.4126002\ttotal: 674ms\tremaining: 7.17s\n",
            "43:\tlearn: 0.4123561\ttotal: 679ms\tremaining: 7.04s\n",
            "44:\tlearn: 0.4114238\ttotal: 695ms\tremaining: 7.03s\n",
            "45:\tlearn: 0.4109435\ttotal: 705ms\tremaining: 6.96s\n",
            "46:\tlearn: 0.4098919\ttotal: 720ms\tremaining: 6.94s\n",
            "47:\tlearn: 0.4089661\ttotal: 737ms\tremaining: 6.93s\n",
            "48:\tlearn: 0.4079042\ttotal: 754ms\tremaining: 6.94s\n",
            "49:\tlearn: 0.4070711\ttotal: 769ms\tremaining: 6.92s\n",
            "50:\tlearn: 0.4064078\ttotal: 787ms\tremaining: 6.93s\n",
            "51:\tlearn: 0.4056764\ttotal: 802ms\tremaining: 6.91s\n",
            "52:\tlearn: 0.4049704\ttotal: 820ms\tremaining: 6.92s\n",
            "53:\tlearn: 0.4043931\ttotal: 840ms\tremaining: 6.93s\n",
            "54:\tlearn: 0.4038349\ttotal: 856ms\tremaining: 6.92s\n",
            "55:\tlearn: 0.4033252\ttotal: 871ms\tremaining: 6.91s\n",
            "56:\tlearn: 0.4027246\ttotal: 892ms\tremaining: 6.93s\n",
            "57:\tlearn: 0.4023524\ttotal: 909ms\tremaining: 6.93s\n",
            "58:\tlearn: 0.4021856\ttotal: 918ms\tremaining: 6.86s\n",
            "59:\tlearn: 0.4016247\ttotal: 934ms\tremaining: 6.85s\n",
            "60:\tlearn: 0.4010659\ttotal: 950ms\tremaining: 6.83s\n",
            "61:\tlearn: 0.4007285\ttotal: 968ms\tremaining: 6.84s\n",
            "62:\tlearn: 0.4001220\ttotal: 995ms\tremaining: 6.9s\n",
            "63:\tlearn: 0.3995159\ttotal: 1.01s\tremaining: 6.89s\n",
            "64:\tlearn: 0.3989749\ttotal: 1.03s\tremaining: 6.88s\n",
            "65:\tlearn: 0.3985873\ttotal: 1.05s\tremaining: 6.89s\n",
            "66:\tlearn: 0.3981867\ttotal: 1.06s\tremaining: 6.88s\n",
            "67:\tlearn: 0.3977285\ttotal: 1.08s\tremaining: 6.86s\n",
            "68:\tlearn: 0.3973413\ttotal: 1.09s\tremaining: 6.84s\n",
            "69:\tlearn: 0.3969375\ttotal: 1.11s\tremaining: 6.85s\n",
            "70:\tlearn: 0.3968744\ttotal: 1.12s\tremaining: 6.79s\n",
            "71:\tlearn: 0.3964171\ttotal: 1.14s\tremaining: 6.77s\n",
            "72:\tlearn: 0.3964138\ttotal: 1.14s\tremaining: 6.69s\n",
            "73:\tlearn: 0.3963596\ttotal: 1.15s\tremaining: 6.61s\n",
            "74:\tlearn: 0.3962113\ttotal: 1.16s\tremaining: 6.56s\n",
            "75:\tlearn: 0.3961686\ttotal: 1.17s\tremaining: 6.5s\n",
            "76:\tlearn: 0.3960986\ttotal: 1.17s\tremaining: 6.43s\n",
            "77:\tlearn: 0.3956997\ttotal: 1.19s\tremaining: 6.43s\n",
            "78:\tlearn: 0.3953209\ttotal: 1.21s\tremaining: 6.42s\n",
            "79:\tlearn: 0.3949665\ttotal: 1.22s\tremaining: 6.4s\n",
            "80:\tlearn: 0.3945830\ttotal: 1.24s\tremaining: 6.39s\n",
            "81:\tlearn: 0.3942382\ttotal: 1.26s\tremaining: 6.42s\n",
            "82:\tlearn: 0.3941258\ttotal: 1.27s\tremaining: 6.38s\n",
            "83:\tlearn: 0.3938248\ttotal: 1.29s\tremaining: 6.38s\n",
            "84:\tlearn: 0.3936119\ttotal: 1.3s\tremaining: 6.36s\n",
            "85:\tlearn: 0.3935846\ttotal: 1.31s\tremaining: 6.3s\n",
            "86:\tlearn: 0.3935155\ttotal: 1.32s\tremaining: 6.26s\n",
            "87:\tlearn: 0.3931970\ttotal: 1.34s\tremaining: 6.27s\n",
            "88:\tlearn: 0.3928408\ttotal: 1.35s\tremaining: 6.26s\n",
            "89:\tlearn: 0.3924836\ttotal: 1.37s\tremaining: 6.25s\n",
            "90:\tlearn: 0.3924554\ttotal: 1.38s\tremaining: 6.2s\n",
            "91:\tlearn: 0.3921634\ttotal: 1.39s\tremaining: 6.18s\n",
            "92:\tlearn: 0.3919152\ttotal: 1.41s\tremaining: 6.17s\n",
            "93:\tlearn: 0.3918228\ttotal: 1.42s\tremaining: 6.15s\n",
            "94:\tlearn: 0.3918006\ttotal: 1.43s\tremaining: 6.1s\n",
            "95:\tlearn: 0.3914808\ttotal: 1.45s\tremaining: 6.1s\n",
            "96:\tlearn: 0.3911970\ttotal: 1.47s\tremaining: 6.12s\n",
            "97:\tlearn: 0.3910060\ttotal: 1.49s\tremaining: 6.11s\n",
            "98:\tlearn: 0.3909927\ttotal: 1.49s\tremaining: 6.05s\n",
            "99:\tlearn: 0.3905625\ttotal: 1.51s\tremaining: 6.05s\n",
            "100:\tlearn: 0.3905156\ttotal: 1.52s\tremaining: 6s\n",
            "101:\tlearn: 0.3902658\ttotal: 1.53s\tremaining: 5.99s\n",
            "102:\tlearn: 0.3902383\ttotal: 1.55s\tremaining: 5.97s\n",
            "103:\tlearn: 0.3900270\ttotal: 1.57s\tremaining: 5.96s\n",
            "104:\tlearn: 0.3896292\ttotal: 1.58s\tremaining: 5.95s\n",
            "105:\tlearn: 0.3894254\ttotal: 1.6s\tremaining: 5.94s\n",
            "106:\tlearn: 0.3893147\ttotal: 1.61s\tremaining: 5.91s\n",
            "107:\tlearn: 0.3889973\ttotal: 1.63s\tremaining: 5.9s\n",
            "108:\tlearn: 0.3887614\ttotal: 1.65s\tremaining: 5.92s\n",
            "109:\tlearn: 0.3886239\ttotal: 1.67s\tremaining: 5.92s\n",
            "110:\tlearn: 0.3883341\ttotal: 1.69s\tremaining: 5.93s\n",
            "111:\tlearn: 0.3882326\ttotal: 1.71s\tremaining: 5.92s\n",
            "112:\tlearn: 0.3879087\ttotal: 1.73s\tremaining: 5.92s\n",
            "113:\tlearn: 0.3878084\ttotal: 1.74s\tremaining: 5.88s\n",
            "114:\tlearn: 0.3875769\ttotal: 1.75s\tremaining: 5.87s\n",
            "115:\tlearn: 0.3872145\ttotal: 1.77s\tremaining: 5.86s\n",
            "116:\tlearn: 0.3869438\ttotal: 1.79s\tremaining: 5.87s\n",
            "117:\tlearn: 0.3868523\ttotal: 1.81s\tremaining: 5.86s\n",
            "118:\tlearn: 0.3868148\ttotal: 1.82s\tremaining: 5.84s\n",
            "119:\tlearn: 0.3867824\ttotal: 1.83s\tremaining: 5.8s\n",
            "120:\tlearn: 0.3867526\ttotal: 1.83s\tremaining: 5.75s\n",
            "121:\tlearn: 0.3866672\ttotal: 1.85s\tremaining: 5.74s\n",
            "122:\tlearn: 0.3865737\ttotal: 1.87s\tremaining: 5.73s\n",
            "123:\tlearn: 0.3863634\ttotal: 1.88s\tremaining: 5.71s\n",
            "124:\tlearn: 0.3863268\ttotal: 1.9s\tremaining: 5.69s\n",
            "125:\tlearn: 0.3862124\ttotal: 1.91s\tremaining: 5.67s\n",
            "126:\tlearn: 0.3861772\ttotal: 1.93s\tremaining: 5.66s\n",
            "127:\tlearn: 0.3861123\ttotal: 1.94s\tremaining: 5.64s\n",
            "128:\tlearn: 0.3858271\ttotal: 1.96s\tremaining: 5.63s\n",
            "129:\tlearn: 0.3858049\ttotal: 1.97s\tremaining: 5.62s\n",
            "130:\tlearn: 0.3854539\ttotal: 1.99s\tremaining: 5.61s\n",
            "131:\tlearn: 0.3852090\ttotal: 2.01s\tremaining: 5.61s\n",
            "132:\tlearn: 0.3849890\ttotal: 2.03s\tremaining: 5.6s\n",
            "133:\tlearn: 0.3847047\ttotal: 2.05s\tremaining: 5.59s\n",
            "134:\tlearn: 0.3844201\ttotal: 2.06s\tremaining: 5.57s\n",
            "135:\tlearn: 0.3842709\ttotal: 2.07s\tremaining: 5.55s\n",
            "136:\tlearn: 0.3842516\ttotal: 2.09s\tremaining: 5.53s\n",
            "137:\tlearn: 0.3839478\ttotal: 2.11s\tremaining: 5.53s\n",
            "138:\tlearn: 0.3838706\ttotal: 2.12s\tremaining: 5.51s\n",
            "139:\tlearn: 0.3835017\ttotal: 2.14s\tremaining: 5.51s\n",
            "140:\tlearn: 0.3834749\ttotal: 2.15s\tremaining: 5.46s\n",
            "141:\tlearn: 0.3832193\ttotal: 2.16s\tremaining: 5.45s\n",
            "142:\tlearn: 0.3830272\ttotal: 2.18s\tremaining: 5.44s\n",
            "143:\tlearn: 0.3830272\ttotal: 2.18s\tremaining: 5.4s\n",
            "144:\tlearn: 0.3828990\ttotal: 2.2s\tremaining: 5.38s\n",
            "145:\tlearn: 0.3828989\ttotal: 2.2s\tremaining: 5.34s\n",
            "146:\tlearn: 0.3827346\ttotal: 2.22s\tremaining: 5.33s\n",
            "147:\tlearn: 0.3825215\ttotal: 2.23s\tremaining: 5.32s\n",
            "148:\tlearn: 0.3825151\ttotal: 2.24s\tremaining: 5.28s\n",
            "149:\tlearn: 0.3824127\ttotal: 2.26s\tremaining: 5.27s\n",
            "150:\tlearn: 0.3822415\ttotal: 2.27s\tremaining: 5.26s\n",
            "151:\tlearn: 0.3821117\ttotal: 2.29s\tremaining: 5.24s\n",
            "152:\tlearn: 0.3818243\ttotal: 2.31s\tremaining: 5.25s\n",
            "153:\tlearn: 0.3818079\ttotal: 2.32s\tremaining: 5.21s\n",
            "154:\tlearn: 0.3816936\ttotal: 2.33s\tremaining: 5.2s\n",
            "155:\tlearn: 0.3816904\ttotal: 2.34s\tremaining: 5.17s\n",
            "156:\tlearn: 0.3816746\ttotal: 2.35s\tremaining: 5.13s\n",
            "157:\tlearn: 0.3814285\ttotal: 2.37s\tremaining: 5.13s\n",
            "158:\tlearn: 0.3813330\ttotal: 2.38s\tremaining: 5.12s\n",
            "159:\tlearn: 0.3812885\ttotal: 2.39s\tremaining: 5.09s\n",
            "160:\tlearn: 0.3809038\ttotal: 2.41s\tremaining: 5.08s\n",
            "161:\tlearn: 0.3808466\ttotal: 2.43s\tremaining: 5.06s\n",
            "162:\tlearn: 0.3806227\ttotal: 2.44s\tremaining: 5.05s\n",
            "163:\tlearn: 0.3804639\ttotal: 2.46s\tremaining: 5.04s\n",
            "164:\tlearn: 0.3802528\ttotal: 2.47s\tremaining: 5.02s\n",
            "165:\tlearn: 0.3802207\ttotal: 2.48s\tremaining: 5s\n",
            "166:\tlearn: 0.3801080\ttotal: 2.5s\tremaining: 4.98s\n",
            "167:\tlearn: 0.3801056\ttotal: 2.5s\tremaining: 4.95s\n",
            "168:\tlearn: 0.3800858\ttotal: 2.51s\tremaining: 4.92s\n",
            "169:\tlearn: 0.3798713\ttotal: 2.53s\tremaining: 4.91s\n",
            "170:\tlearn: 0.3795679\ttotal: 2.55s\tremaining: 4.9s\n",
            "171:\tlearn: 0.3792645\ttotal: 2.56s\tremaining: 4.89s\n",
            "172:\tlearn: 0.3790959\ttotal: 2.58s\tremaining: 4.88s\n",
            "173:\tlearn: 0.3790557\ttotal: 2.59s\tremaining: 4.85s\n",
            "174:\tlearn: 0.3790487\ttotal: 2.6s\tremaining: 4.82s\n",
            "175:\tlearn: 0.3789818\ttotal: 2.61s\tremaining: 4.81s\n",
            "176:\tlearn: 0.3788077\ttotal: 2.63s\tremaining: 4.81s\n",
            "177:\tlearn: 0.3787972\ttotal: 2.65s\tremaining: 4.8s\n",
            "178:\tlearn: 0.3787882\ttotal: 2.66s\tremaining: 4.77s\n",
            "179:\tlearn: 0.3787325\ttotal: 2.68s\tremaining: 4.76s\n",
            "180:\tlearn: 0.3785369\ttotal: 2.69s\tremaining: 4.75s\n",
            "181:\tlearn: 0.3784848\ttotal: 2.7s\tremaining: 4.72s\n",
            "182:\tlearn: 0.3781721\ttotal: 2.72s\tremaining: 4.71s\n",
            "183:\tlearn: 0.3781405\ttotal: 2.73s\tremaining: 4.69s\n",
            "184:\tlearn: 0.3779656\ttotal: 2.75s\tremaining: 4.68s\n",
            "185:\tlearn: 0.3779285\ttotal: 2.76s\tremaining: 4.67s\n",
            "186:\tlearn: 0.3775128\ttotal: 2.78s\tremaining: 4.66s\n",
            "187:\tlearn: 0.3775084\ttotal: 2.79s\tremaining: 4.63s\n",
            "188:\tlearn: 0.3774976\ttotal: 2.79s\tremaining: 4.6s\n",
            "189:\tlearn: 0.3771503\ttotal: 2.81s\tremaining: 4.58s\n",
            "190:\tlearn: 0.3770852\ttotal: 2.83s\tremaining: 4.57s\n",
            "191:\tlearn: 0.3769126\ttotal: 2.84s\tremaining: 4.56s\n",
            "192:\tlearn: 0.3768159\ttotal: 2.86s\tremaining: 4.55s\n",
            "193:\tlearn: 0.3767546\ttotal: 2.88s\tremaining: 4.54s\n",
            "194:\tlearn: 0.3765252\ttotal: 2.9s\tremaining: 4.53s\n",
            "195:\tlearn: 0.3761094\ttotal: 2.91s\tremaining: 4.52s\n",
            "196:\tlearn: 0.3761094\ttotal: 2.92s\tremaining: 4.48s\n",
            "197:\tlearn: 0.3759626\ttotal: 2.94s\tremaining: 4.48s\n",
            "198:\tlearn: 0.3758702\ttotal: 2.95s\tremaining: 4.46s\n",
            "199:\tlearn: 0.3757768\ttotal: 2.97s\tremaining: 4.45s\n",
            "200:\tlearn: 0.3753869\ttotal: 2.98s\tremaining: 4.43s\n",
            "201:\tlearn: 0.3751137\ttotal: 3s\tremaining: 4.43s\n",
            "202:\tlearn: 0.3750998\ttotal: 3.01s\tremaining: 4.4s\n",
            "203:\tlearn: 0.3749663\ttotal: 3.03s\tremaining: 4.39s\n",
            "204:\tlearn: 0.3748831\ttotal: 3.04s\tremaining: 4.38s\n",
            "205:\tlearn: 0.3747904\ttotal: 3.06s\tremaining: 4.37s\n",
            "206:\tlearn: 0.3743959\ttotal: 3.08s\tremaining: 4.35s\n",
            "207:\tlearn: 0.3742677\ttotal: 3.09s\tremaining: 4.34s\n",
            "208:\tlearn: 0.3740229\ttotal: 3.11s\tremaining: 4.33s\n",
            "209:\tlearn: 0.3740031\ttotal: 3.12s\tremaining: 4.3s\n",
            "210:\tlearn: 0.3738754\ttotal: 3.13s\tremaining: 4.29s\n",
            "211:\tlearn: 0.3737473\ttotal: 3.15s\tremaining: 4.29s\n",
            "212:\tlearn: 0.3735270\ttotal: 3.17s\tremaining: 4.27s\n",
            "213:\tlearn: 0.3733344\ttotal: 3.19s\tremaining: 4.26s\n",
            "214:\tlearn: 0.3732291\ttotal: 3.21s\tremaining: 4.25s\n",
            "215:\tlearn: 0.3730203\ttotal: 3.23s\tremaining: 4.25s\n",
            "216:\tlearn: 0.3730148\ttotal: 3.23s\tremaining: 4.22s\n",
            "217:\tlearn: 0.3728839\ttotal: 3.25s\tremaining: 4.21s\n",
            "218:\tlearn: 0.3727133\ttotal: 3.27s\tremaining: 4.2s\n",
            "219:\tlearn: 0.3726955\ttotal: 3.29s\tremaining: 4.18s\n",
            "220:\tlearn: 0.3724556\ttotal: 3.3s\tremaining: 4.17s\n",
            "221:\tlearn: 0.3722482\ttotal: 3.32s\tremaining: 4.16s\n",
            "222:\tlearn: 0.3720335\ttotal: 3.34s\tremaining: 4.15s\n",
            "223:\tlearn: 0.3717940\ttotal: 3.37s\tremaining: 4.15s\n",
            "224:\tlearn: 0.3716091\ttotal: 3.38s\tremaining: 4.14s\n",
            "225:\tlearn: 0.3715992\ttotal: 3.39s\tremaining: 4.11s\n",
            "226:\tlearn: 0.3715506\ttotal: 3.4s\tremaining: 4.09s\n",
            "227:\tlearn: 0.3714441\ttotal: 3.42s\tremaining: 4.08s\n",
            "228:\tlearn: 0.3712204\ttotal: 3.43s\tremaining: 4.06s\n",
            "229:\tlearn: 0.3711988\ttotal: 3.45s\tremaining: 4.05s\n",
            "230:\tlearn: 0.3709264\ttotal: 3.47s\tremaining: 4.04s\n",
            "231:\tlearn: 0.3705619\ttotal: 3.48s\tremaining: 4.02s\n",
            "232:\tlearn: 0.3704531\ttotal: 3.5s\tremaining: 4.01s\n",
            "233:\tlearn: 0.3704344\ttotal: 3.52s\tremaining: 4s\n",
            "234:\tlearn: 0.3703524\ttotal: 3.53s\tremaining: 3.98s\n",
            "235:\tlearn: 0.3701259\ttotal: 3.55s\tremaining: 3.97s\n",
            "236:\tlearn: 0.3700811\ttotal: 3.56s\tremaining: 3.95s\n",
            "237:\tlearn: 0.3698331\ttotal: 3.59s\tremaining: 3.95s\n",
            "238:\tlearn: 0.3697514\ttotal: 3.61s\tremaining: 3.94s\n",
            "239:\tlearn: 0.3696844\ttotal: 3.62s\tremaining: 3.93s\n",
            "240:\tlearn: 0.3695751\ttotal: 3.65s\tremaining: 3.92s\n",
            "241:\tlearn: 0.3692118\ttotal: 3.67s\tremaining: 3.91s\n",
            "242:\tlearn: 0.3689911\ttotal: 3.69s\tremaining: 3.9s\n",
            "243:\tlearn: 0.3688483\ttotal: 3.71s\tremaining: 3.89s\n",
            "244:\tlearn: 0.3687249\ttotal: 3.73s\tremaining: 3.88s\n",
            "245:\tlearn: 0.3684943\ttotal: 3.74s\tremaining: 3.86s\n",
            "246:\tlearn: 0.3684125\ttotal: 3.76s\tremaining: 3.85s\n",
            "247:\tlearn: 0.3682853\ttotal: 3.78s\tremaining: 3.84s\n",
            "248:\tlearn: 0.3680017\ttotal: 3.79s\tremaining: 3.83s\n",
            "249:\tlearn: 0.3678195\ttotal: 3.81s\tremaining: 3.81s\n",
            "250:\tlearn: 0.3675177\ttotal: 3.83s\tremaining: 3.8s\n",
            "251:\tlearn: 0.3672643\ttotal: 3.85s\tremaining: 3.79s\n",
            "252:\tlearn: 0.3671237\ttotal: 3.87s\tremaining: 3.77s\n",
            "253:\tlearn: 0.3668933\ttotal: 3.88s\tremaining: 3.76s\n",
            "254:\tlearn: 0.3667447\ttotal: 3.9s\tremaining: 3.75s\n",
            "255:\tlearn: 0.3665419\ttotal: 3.92s\tremaining: 3.74s\n",
            "256:\tlearn: 0.3662126\ttotal: 3.94s\tremaining: 3.73s\n",
            "257:\tlearn: 0.3659467\ttotal: 3.96s\tremaining: 3.71s\n",
            "258:\tlearn: 0.3657497\ttotal: 3.97s\tremaining: 3.7s\n",
            "259:\tlearn: 0.3655329\ttotal: 3.99s\tremaining: 3.69s\n",
            "260:\tlearn: 0.3654849\ttotal: 4.01s\tremaining: 3.67s\n",
            "261:\tlearn: 0.3653923\ttotal: 4.03s\tremaining: 3.66s\n",
            "262:\tlearn: 0.3652294\ttotal: 4.05s\tremaining: 3.65s\n",
            "263:\tlearn: 0.3650586\ttotal: 4.07s\tremaining: 3.63s\n",
            "264:\tlearn: 0.3649961\ttotal: 4.08s\tremaining: 3.62s\n",
            "265:\tlearn: 0.3647722\ttotal: 4.1s\tremaining: 3.61s\n",
            "266:\tlearn: 0.3646801\ttotal: 4.12s\tremaining: 3.59s\n",
            "267:\tlearn: 0.3645010\ttotal: 4.14s\tremaining: 3.58s\n",
            "268:\tlearn: 0.3642982\ttotal: 4.15s\tremaining: 3.56s\n",
            "269:\tlearn: 0.3639079\ttotal: 4.17s\tremaining: 3.55s\n",
            "270:\tlearn: 0.3637334\ttotal: 4.19s\tremaining: 3.54s\n",
            "271:\tlearn: 0.3636583\ttotal: 4.21s\tremaining: 3.53s\n",
            "272:\tlearn: 0.3636232\ttotal: 4.23s\tremaining: 3.51s\n",
            "273:\tlearn: 0.3634591\ttotal: 4.24s\tremaining: 3.5s\n",
            "274:\tlearn: 0.3631153\ttotal: 4.26s\tremaining: 3.48s\n",
            "275:\tlearn: 0.3627747\ttotal: 4.28s\tremaining: 3.47s\n",
            "276:\tlearn: 0.3627247\ttotal: 4.29s\tremaining: 3.46s\n",
            "277:\tlearn: 0.3624258\ttotal: 4.31s\tremaining: 3.44s\n",
            "278:\tlearn: 0.3621765\ttotal: 4.33s\tremaining: 3.43s\n",
            "279:\tlearn: 0.3620472\ttotal: 4.35s\tremaining: 3.42s\n",
            "280:\tlearn: 0.3618739\ttotal: 4.37s\tremaining: 3.4s\n",
            "281:\tlearn: 0.3618386\ttotal: 4.38s\tremaining: 3.39s\n",
            "282:\tlearn: 0.3615253\ttotal: 4.4s\tremaining: 3.38s\n",
            "283:\tlearn: 0.3612619\ttotal: 4.42s\tremaining: 3.36s\n",
            "284:\tlearn: 0.3612132\ttotal: 4.44s\tremaining: 3.35s\n",
            "285:\tlearn: 0.3610651\ttotal: 4.46s\tremaining: 3.33s\n",
            "286:\tlearn: 0.3607947\ttotal: 4.47s\tremaining: 3.32s\n",
            "287:\tlearn: 0.3607128\ttotal: 4.49s\tremaining: 3.31s\n",
            "288:\tlearn: 0.3606111\ttotal: 4.51s\tremaining: 3.29s\n",
            "289:\tlearn: 0.3604582\ttotal: 4.52s\tremaining: 3.27s\n",
            "290:\tlearn: 0.3604189\ttotal: 4.54s\tremaining: 3.26s\n",
            "291:\tlearn: 0.3603214\ttotal: 4.55s\tremaining: 3.24s\n",
            "292:\tlearn: 0.3602755\ttotal: 4.57s\tremaining: 3.23s\n",
            "293:\tlearn: 0.3602021\ttotal: 4.59s\tremaining: 3.21s\n",
            "294:\tlearn: 0.3600734\ttotal: 4.61s\tremaining: 3.2s\n",
            "295:\tlearn: 0.3599534\ttotal: 4.63s\tremaining: 3.19s\n",
            "296:\tlearn: 0.3596910\ttotal: 4.65s\tremaining: 3.18s\n",
            "297:\tlearn: 0.3594116\ttotal: 4.67s\tremaining: 3.16s\n",
            "298:\tlearn: 0.3592627\ttotal: 4.69s\tremaining: 3.15s\n",
            "299:\tlearn: 0.3590527\ttotal: 4.71s\tremaining: 3.14s\n",
            "300:\tlearn: 0.3589525\ttotal: 4.72s\tremaining: 3.12s\n",
            "301:\tlearn: 0.3588012\ttotal: 4.74s\tremaining: 3.11s\n",
            "302:\tlearn: 0.3586472\ttotal: 4.75s\tremaining: 3.09s\n",
            "303:\tlearn: 0.3585941\ttotal: 4.77s\tremaining: 3.08s\n",
            "304:\tlearn: 0.3583401\ttotal: 4.79s\tremaining: 3.06s\n",
            "305:\tlearn: 0.3579582\ttotal: 4.81s\tremaining: 3.05s\n",
            "306:\tlearn: 0.3575896\ttotal: 4.83s\tremaining: 3.03s\n",
            "307:\tlearn: 0.3572527\ttotal: 4.84s\tremaining: 3.02s\n",
            "308:\tlearn: 0.3570420\ttotal: 4.87s\tremaining: 3.01s\n",
            "309:\tlearn: 0.3569777\ttotal: 4.88s\tremaining: 2.99s\n",
            "310:\tlearn: 0.3568859\ttotal: 4.9s\tremaining: 2.98s\n",
            "311:\tlearn: 0.3566143\ttotal: 4.92s\tremaining: 2.96s\n",
            "312:\tlearn: 0.3564789\ttotal: 4.94s\tremaining: 2.95s\n",
            "313:\tlearn: 0.3563942\ttotal: 4.96s\tremaining: 2.94s\n",
            "314:\tlearn: 0.3561792\ttotal: 4.97s\tremaining: 2.92s\n",
            "315:\tlearn: 0.3561376\ttotal: 4.99s\tremaining: 2.91s\n",
            "316:\tlearn: 0.3558893\ttotal: 5.01s\tremaining: 2.89s\n",
            "317:\tlearn: 0.3558634\ttotal: 5.03s\tremaining: 2.88s\n",
            "318:\tlearn: 0.3557693\ttotal: 5.05s\tremaining: 2.87s\n",
            "319:\tlearn: 0.3556446\ttotal: 5.07s\tremaining: 2.85s\n",
            "320:\tlearn: 0.3554895\ttotal: 5.08s\tremaining: 2.83s\n",
            "321:\tlearn: 0.3553796\ttotal: 5.1s\tremaining: 2.82s\n",
            "322:\tlearn: 0.3552992\ttotal: 5.12s\tremaining: 2.81s\n",
            "323:\tlearn: 0.3552192\ttotal: 5.14s\tremaining: 2.79s\n",
            "324:\tlearn: 0.3551598\ttotal: 5.16s\tremaining: 2.77s\n",
            "325:\tlearn: 0.3551175\ttotal: 5.17s\tremaining: 2.76s\n",
            "326:\tlearn: 0.3550350\ttotal: 5.19s\tremaining: 2.75s\n",
            "327:\tlearn: 0.3549853\ttotal: 5.2s\tremaining: 2.73s\n",
            "328:\tlearn: 0.3545266\ttotal: 5.23s\tremaining: 2.72s\n",
            "329:\tlearn: 0.3542166\ttotal: 5.24s\tremaining: 2.7s\n",
            "330:\tlearn: 0.3541998\ttotal: 5.26s\tremaining: 2.68s\n",
            "331:\tlearn: 0.3537994\ttotal: 5.28s\tremaining: 2.67s\n",
            "332:\tlearn: 0.3536172\ttotal: 5.3s\tremaining: 2.66s\n",
            "333:\tlearn: 0.3534287\ttotal: 5.31s\tremaining: 2.64s\n",
            "334:\tlearn: 0.3533759\ttotal: 5.33s\tremaining: 2.63s\n",
            "335:\tlearn: 0.3532460\ttotal: 5.36s\tremaining: 2.61s\n",
            "336:\tlearn: 0.3530675\ttotal: 5.37s\tremaining: 2.6s\n",
            "337:\tlearn: 0.3530564\ttotal: 5.39s\tremaining: 2.58s\n",
            "338:\tlearn: 0.3528809\ttotal: 5.41s\tremaining: 2.57s\n",
            "339:\tlearn: 0.3527552\ttotal: 5.43s\tremaining: 2.55s\n",
            "340:\tlearn: 0.3524043\ttotal: 5.45s\tremaining: 2.54s\n",
            "341:\tlearn: 0.3522471\ttotal: 5.46s\tremaining: 2.52s\n",
            "342:\tlearn: 0.3518770\ttotal: 5.48s\tremaining: 2.51s\n",
            "343:\tlearn: 0.3517414\ttotal: 5.5s\tremaining: 2.49s\n",
            "344:\tlearn: 0.3517177\ttotal: 5.52s\tremaining: 2.48s\n",
            "345:\tlearn: 0.3516025\ttotal: 5.54s\tremaining: 2.46s\n",
            "346:\tlearn: 0.3515036\ttotal: 5.55s\tremaining: 2.45s\n",
            "347:\tlearn: 0.3512055\ttotal: 5.57s\tremaining: 2.43s\n",
            "348:\tlearn: 0.3509747\ttotal: 5.59s\tremaining: 2.42s\n",
            "349:\tlearn: 0.3509238\ttotal: 5.61s\tremaining: 2.4s\n",
            "350:\tlearn: 0.3507937\ttotal: 5.64s\tremaining: 2.39s\n",
            "351:\tlearn: 0.3507609\ttotal: 5.66s\tremaining: 2.38s\n",
            "352:\tlearn: 0.3505629\ttotal: 5.67s\tremaining: 2.36s\n",
            "353:\tlearn: 0.3502386\ttotal: 5.69s\tremaining: 2.35s\n",
            "354:\tlearn: 0.3500359\ttotal: 5.71s\tremaining: 2.33s\n",
            "355:\tlearn: 0.3500135\ttotal: 5.72s\tremaining: 2.31s\n",
            "356:\tlearn: 0.3499865\ttotal: 5.74s\tremaining: 2.3s\n",
            "357:\tlearn: 0.3497622\ttotal: 5.76s\tremaining: 2.28s\n",
            "358:\tlearn: 0.3497432\ttotal: 5.77s\tremaining: 2.27s\n",
            "359:\tlearn: 0.3497137\ttotal: 5.79s\tremaining: 2.25s\n",
            "360:\tlearn: 0.3497041\ttotal: 5.81s\tremaining: 2.24s\n",
            "361:\tlearn: 0.3496320\ttotal: 5.83s\tremaining: 2.22s\n",
            "362:\tlearn: 0.3495916\ttotal: 5.85s\tremaining: 2.21s\n",
            "363:\tlearn: 0.3494329\ttotal: 5.86s\tremaining: 2.19s\n",
            "364:\tlearn: 0.3491294\ttotal: 5.88s\tremaining: 2.17s\n",
            "365:\tlearn: 0.3490885\ttotal: 5.9s\tremaining: 2.16s\n",
            "366:\tlearn: 0.3490730\ttotal: 5.92s\tremaining: 2.14s\n",
            "367:\tlearn: 0.3488999\ttotal: 5.93s\tremaining: 2.13s\n",
            "368:\tlearn: 0.3488854\ttotal: 5.95s\tremaining: 2.11s\n",
            "369:\tlearn: 0.3487646\ttotal: 5.97s\tremaining: 2.1s\n",
            "370:\tlearn: 0.3486674\ttotal: 5.99s\tremaining: 2.08s\n",
            "371:\tlearn: 0.3484574\ttotal: 6s\tremaining: 2.06s\n",
            "372:\tlearn: 0.3484502\ttotal: 6.02s\tremaining: 2.05s\n",
            "373:\tlearn: 0.3483021\ttotal: 6.04s\tremaining: 2.03s\n",
            "374:\tlearn: 0.3481255\ttotal: 6.06s\tremaining: 2.02s\n",
            "375:\tlearn: 0.3480041\ttotal: 6.08s\tremaining: 2s\n",
            "376:\tlearn: 0.3476834\ttotal: 6.09s\tremaining: 1.99s\n",
            "377:\tlearn: 0.3474479\ttotal: 6.11s\tremaining: 1.97s\n",
            "378:\tlearn: 0.3473444\ttotal: 6.12s\tremaining: 1.96s\n",
            "379:\tlearn: 0.3473328\ttotal: 6.14s\tremaining: 1.94s\n",
            "380:\tlearn: 0.3472302\ttotal: 6.16s\tremaining: 1.92s\n",
            "381:\tlearn: 0.3470731\ttotal: 6.18s\tremaining: 1.91s\n",
            "382:\tlearn: 0.3469072\ttotal: 6.19s\tremaining: 1.89s\n",
            "383:\tlearn: 0.3466694\ttotal: 6.21s\tremaining: 1.88s\n",
            "384:\tlearn: 0.3463701\ttotal: 6.23s\tremaining: 1.86s\n",
            "385:\tlearn: 0.3461212\ttotal: 6.25s\tremaining: 1.85s\n",
            "386:\tlearn: 0.3459984\ttotal: 6.28s\tremaining: 1.83s\n",
            "387:\tlearn: 0.3459149\ttotal: 6.3s\tremaining: 1.82s\n",
            "388:\tlearn: 0.3458468\ttotal: 6.32s\tremaining: 1.8s\n",
            "389:\tlearn: 0.3456626\ttotal: 6.33s\tremaining: 1.79s\n",
            "390:\tlearn: 0.3454214\ttotal: 6.35s\tremaining: 1.77s\n",
            "391:\tlearn: 0.3453187\ttotal: 6.37s\tremaining: 1.75s\n",
            "392:\tlearn: 0.3450719\ttotal: 6.39s\tremaining: 1.74s\n",
            "393:\tlearn: 0.3450266\ttotal: 6.4s\tremaining: 1.72s\n",
            "394:\tlearn: 0.3450141\ttotal: 6.42s\tremaining: 1.71s\n",
            "395:\tlearn: 0.3449531\ttotal: 6.44s\tremaining: 1.69s\n",
            "396:\tlearn: 0.3449400\ttotal: 6.45s\tremaining: 1.67s\n",
            "397:\tlearn: 0.3448952\ttotal: 6.47s\tremaining: 1.66s\n",
            "398:\tlearn: 0.3448590\ttotal: 6.49s\tremaining: 1.64s\n",
            "399:\tlearn: 0.3447231\ttotal: 6.5s\tremaining: 1.63s\n",
            "400:\tlearn: 0.3445133\ttotal: 6.52s\tremaining: 1.61s\n",
            "401:\tlearn: 0.3444622\ttotal: 6.54s\tremaining: 1.59s\n",
            "402:\tlearn: 0.3442621\ttotal: 6.55s\tremaining: 1.58s\n",
            "403:\tlearn: 0.3441159\ttotal: 6.57s\tremaining: 1.56s\n",
            "404:\tlearn: 0.3438919\ttotal: 6.59s\tremaining: 1.54s\n",
            "405:\tlearn: 0.3437040\ttotal: 6.61s\tremaining: 1.53s\n",
            "406:\tlearn: 0.3436964\ttotal: 6.63s\tremaining: 1.51s\n",
            "407:\tlearn: 0.3434945\ttotal: 6.65s\tremaining: 1.5s\n",
            "408:\tlearn: 0.3434218\ttotal: 6.66s\tremaining: 1.48s\n",
            "409:\tlearn: 0.3433783\ttotal: 6.69s\tremaining: 1.47s\n",
            "410:\tlearn: 0.3433678\ttotal: 6.71s\tremaining: 1.45s\n",
            "411:\tlearn: 0.3433500\ttotal: 6.72s\tremaining: 1.44s\n",
            "412:\tlearn: 0.3432179\ttotal: 6.74s\tremaining: 1.42s\n",
            "413:\tlearn: 0.3430007\ttotal: 6.75s\tremaining: 1.4s\n",
            "414:\tlearn: 0.3427693\ttotal: 6.77s\tremaining: 1.39s\n",
            "415:\tlearn: 0.3427317\ttotal: 6.79s\tremaining: 1.37s\n",
            "416:\tlearn: 0.3426690\ttotal: 6.81s\tremaining: 1.35s\n",
            "417:\tlearn: 0.3425887\ttotal: 6.83s\tremaining: 1.34s\n",
            "418:\tlearn: 0.3424507\ttotal: 6.84s\tremaining: 1.32s\n",
            "419:\tlearn: 0.3423357\ttotal: 6.86s\tremaining: 1.31s\n",
            "420:\tlearn: 0.3420613\ttotal: 6.88s\tremaining: 1.29s\n",
            "421:\tlearn: 0.3418395\ttotal: 6.9s\tremaining: 1.28s\n",
            "422:\tlearn: 0.3417384\ttotal: 6.92s\tremaining: 1.26s\n",
            "423:\tlearn: 0.3417078\ttotal: 6.94s\tremaining: 1.24s\n",
            "424:\tlearn: 0.3415147\ttotal: 6.96s\tremaining: 1.23s\n",
            "425:\tlearn: 0.3413910\ttotal: 6.97s\tremaining: 1.21s\n",
            "426:\tlearn: 0.3410932\ttotal: 6.99s\tremaining: 1.2s\n",
            "427:\tlearn: 0.3409156\ttotal: 7.01s\tremaining: 1.18s\n",
            "428:\tlearn: 0.3408775\ttotal: 7.03s\tremaining: 1.16s\n",
            "429:\tlearn: 0.3406938\ttotal: 7.04s\tremaining: 1.15s\n",
            "430:\tlearn: 0.3406797\ttotal: 7.06s\tremaining: 1.13s\n",
            "431:\tlearn: 0.3406027\ttotal: 7.08s\tremaining: 1.11s\n",
            "432:\tlearn: 0.3404198\ttotal: 7.09s\tremaining: 1.1s\n",
            "433:\tlearn: 0.3401933\ttotal: 7.12s\tremaining: 1.08s\n",
            "434:\tlearn: 0.3400659\ttotal: 7.13s\tremaining: 1.06s\n",
            "435:\tlearn: 0.3399816\ttotal: 7.15s\tremaining: 1.05s\n",
            "436:\tlearn: 0.3397757\ttotal: 7.17s\tremaining: 1.03s\n",
            "437:\tlearn: 0.3396754\ttotal: 7.19s\tremaining: 1.02s\n",
            "438:\tlearn: 0.3395237\ttotal: 7.21s\tremaining: 1s\n",
            "439:\tlearn: 0.3394383\ttotal: 7.22s\tremaining: 985ms\n",
            "440:\tlearn: 0.3393348\ttotal: 7.24s\tremaining: 969ms\n",
            "441:\tlearn: 0.3390862\ttotal: 7.26s\tremaining: 953ms\n",
            "442:\tlearn: 0.3390067\ttotal: 7.28s\tremaining: 937ms\n",
            "443:\tlearn: 0.3387905\ttotal: 7.3s\tremaining: 921ms\n",
            "444:\tlearn: 0.3386893\ttotal: 7.32s\tremaining: 905ms\n",
            "445:\tlearn: 0.3385687\ttotal: 7.34s\tremaining: 889ms\n",
            "446:\tlearn: 0.3384174\ttotal: 7.36s\tremaining: 873ms\n",
            "447:\tlearn: 0.3382996\ttotal: 7.4s\tremaining: 858ms\n",
            "448:\tlearn: 0.3380291\ttotal: 7.41s\tremaining: 842ms\n",
            "449:\tlearn: 0.3379243\ttotal: 7.43s\tremaining: 826ms\n",
            "450:\tlearn: 0.3378998\ttotal: 7.45s\tremaining: 810ms\n",
            "451:\tlearn: 0.3377175\ttotal: 7.48s\tremaining: 794ms\n",
            "452:\tlearn: 0.3376589\ttotal: 7.49s\tremaining: 778ms\n",
            "453:\tlearn: 0.3374136\ttotal: 7.51s\tremaining: 761ms\n",
            "454:\tlearn: 0.3371664\ttotal: 7.54s\tremaining: 745ms\n",
            "455:\tlearn: 0.3370833\ttotal: 7.55s\tremaining: 729ms\n",
            "456:\tlearn: 0.3370429\ttotal: 7.57s\tremaining: 712ms\n",
            "457:\tlearn: 0.3368798\ttotal: 7.59s\tremaining: 696ms\n",
            "458:\tlearn: 0.3366879\ttotal: 7.6s\tremaining: 679ms\n",
            "459:\tlearn: 0.3366706\ttotal: 7.63s\tremaining: 664ms\n",
            "460:\tlearn: 0.3365509\ttotal: 7.65s\tremaining: 647ms\n",
            "461:\tlearn: 0.3362570\ttotal: 7.67s\tremaining: 631ms\n",
            "462:\tlearn: 0.3362270\ttotal: 7.68s\tremaining: 614ms\n",
            "463:\tlearn: 0.3361104\ttotal: 7.7s\tremaining: 597ms\n",
            "464:\tlearn: 0.3358144\ttotal: 7.72s\tremaining: 581ms\n",
            "465:\tlearn: 0.3356050\ttotal: 7.74s\tremaining: 565ms\n",
            "466:\tlearn: 0.3355221\ttotal: 7.76s\tremaining: 548ms\n",
            "467:\tlearn: 0.3353886\ttotal: 7.77s\tremaining: 532ms\n",
            "468:\tlearn: 0.3352702\ttotal: 7.79s\tremaining: 515ms\n",
            "469:\tlearn: 0.3352105\ttotal: 7.81s\tremaining: 499ms\n",
            "470:\tlearn: 0.3350117\ttotal: 7.83s\tremaining: 482ms\n",
            "471:\tlearn: 0.3348964\ttotal: 7.84s\tremaining: 465ms\n",
            "472:\tlearn: 0.3348062\ttotal: 7.86s\tremaining: 449ms\n",
            "473:\tlearn: 0.3347249\ttotal: 7.88s\tremaining: 432ms\n",
            "474:\tlearn: 0.3345555\ttotal: 7.89s\tremaining: 415ms\n",
            "475:\tlearn: 0.3342684\ttotal: 7.91s\tremaining: 399ms\n",
            "476:\tlearn: 0.3339688\ttotal: 7.93s\tremaining: 382ms\n",
            "477:\tlearn: 0.3338773\ttotal: 7.96s\tremaining: 366ms\n",
            "478:\tlearn: 0.3337486\ttotal: 7.97s\tremaining: 350ms\n",
            "479:\tlearn: 0.3335108\ttotal: 7.99s\tremaining: 333ms\n",
            "480:\tlearn: 0.3332091\ttotal: 8.01s\tremaining: 316ms\n",
            "481:\tlearn: 0.3329465\ttotal: 8.03s\tremaining: 300ms\n",
            "482:\tlearn: 0.3326576\ttotal: 8.04s\tremaining: 283ms\n",
            "483:\tlearn: 0.3323783\ttotal: 8.06s\tremaining: 267ms\n",
            "484:\tlearn: 0.3323062\ttotal: 8.08s\tremaining: 250ms\n",
            "485:\tlearn: 0.3321432\ttotal: 8.1s\tremaining: 233ms\n",
            "486:\tlearn: 0.3319205\ttotal: 8.11s\tremaining: 217ms\n",
            "487:\tlearn: 0.3315821\ttotal: 8.13s\tremaining: 200ms\n",
            "488:\tlearn: 0.3314427\ttotal: 8.15s\tremaining: 183ms\n",
            "489:\tlearn: 0.3311407\ttotal: 8.17s\tremaining: 167ms\n",
            "490:\tlearn: 0.3310950\ttotal: 8.19s\tremaining: 150ms\n",
            "491:\tlearn: 0.3309501\ttotal: 8.21s\tremaining: 133ms\n",
            "492:\tlearn: 0.3308757\ttotal: 8.23s\tremaining: 117ms\n",
            "493:\tlearn: 0.3306834\ttotal: 8.25s\tremaining: 100ms\n",
            "494:\tlearn: 0.3306590\ttotal: 8.27s\tremaining: 83.5ms\n",
            "495:\tlearn: 0.3303646\ttotal: 8.29s\tremaining: 66.8ms\n",
            "496:\tlearn: 0.3303066\ttotal: 8.3s\tremaining: 50.1ms\n",
            "497:\tlearn: 0.3302561\ttotal: 8.32s\tremaining: 33.4ms\n",
            "498:\tlearn: 0.3300338\ttotal: 8.34s\tremaining: 16.7ms\n",
            "499:\tlearn: 0.3298705\ttotal: 8.36s\tremaining: 0us\n",
            "0.7846153846153846\n"
          ],
          "name": "stdout"
        }
      ]
    },
    {
      "cell_type": "code",
      "metadata": {
        "colab": {
          "base_uri": "https://localhost:8080/"
        },
        "id": "d-huWPdcfloZ",
        "outputId": "c15719fd-7bd4-440f-bd52-ddfd1c27faf5"
      },
      "source": [
        "test_auc"
      ],
      "execution_count": null,
      "outputs": [
        {
          "output_type": "execute_result",
          "data": {
            "text/plain": [
              "0.8420311394196746"
            ]
          },
          "metadata": {
            "tags": []
          },
          "execution_count": 47
        }
      ]
    },
    {
      "cell_type": "markdown",
      "metadata": {
        "id": "rf4Kjt96EEZU"
      },
      "source": [
        "Выпишите какое лучшее качество и с какими параметрами вам удалось получить"
      ]
    },
    {
      "cell_type": "markdown",
      "metadata": {
        "id": "d2d9GolXEEZV"
      },
      "source": [
        ""
      ]
    },
    {
      "cell_type": "markdown",
      "metadata": {
        "id": "dDMXbvNZEEZV"
      },
      "source": [
        "# Предсказания"
      ]
    },
    {
      "cell_type": "code",
      "metadata": {
        "id": "G_P4wFNaEEZW"
      },
      "source": [
        "best_model = boosting_model"
      ],
      "execution_count": null,
      "outputs": []
    },
    {
      "cell_type": "code",
      "metadata": {
        "id": "FfSufx0CEEZZ"
      },
      "source": [
        "X_test = pd.read_csv('/content/drive/MyDrive/dls/test.csv')\n",
        "submission = pd.read_csv('/content/drive/MyDrive/dls/submission.csv')\n",
        "\n",
        "submission['Churn'] = best_model.predict_proba(X_test)[:, -1:] \n",
        "submission = submission.drop('Id', axis = 1)\n",
        "submission.to_csv('/content/drive/MyDrive/dls/my_submission.csv')"
      ],
      "execution_count": null,
      "outputs": []
    },
    {
      "cell_type": "markdown",
      "metadata": {
        "id": "mkxjbGkVEEZc"
      },
      "source": [
        "# Kaggle (5 баллов)\n",
        "\n",
        "Как выставить баллы:\n",
        "\n",
        "1) 1 >= roc auc > 0.84 это 5 баллов\n",
        "\n",
        "2) 0.84 >= roc auc > 0.7 это 3 балла\n",
        "\n",
        "3) 0.7 >= roc auc > 0.6 это 1 балл\n",
        "\n",
        "4) 0.6 >= roc auc это 0 баллов\n",
        "\n",
        "\n",
        "Для выполнения задания необходимо выполнить следующие шаги.\n",
        "* Зарегистрироваться на платформе [kaggle.com](kaggle.com). Процесс выставления оценок будет проходить при подведении итогового рейтинга. Пожалуйста, укажите во вкладке Team -> Team name свои имя и фамилию в формате Имя_Фамилия (важно, чтобы имя и фамилия совпадали с данными на Stepik).\n",
        "* Обучить модель, получить файл с ответами в формате .csv и сдать его в конкурс. Пробуйте и экспериментируйте. Обратите внимание, что вы можете выполнять до 20 попыток сдачи на kaggle в день.\n",
        "* После окончания соревнования отправить в итоговый ноутбук с решением на степик. \n",
        "* После дедлайна проверьте посылки других участников по критериям. Для этого надо зайти на степик, скачать их ноутбук и проверить скор в соревновании."
      ]
    }
  ]
}